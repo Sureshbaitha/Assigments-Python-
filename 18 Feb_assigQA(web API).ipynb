{
 "cells": [
  {
   "cell_type": "markdown",
   "id": "215740f3-730e-4b2e-943c-4321bf3fc24c",
   "metadata": {},
   "source": [
    "Q1. What is an API? Give an example, where an API is used in real life."
   ]
  },
  {
   "cell_type": "markdown",
   "id": "23d9adbf-e3ba-4cff-9a9a-2e4e21c6db09",
   "metadata": {},
   "source": [
    "Answer:-API is short for Application Programming Interface. It is a set of protocols, routines, and tools used by software applications to communicate with each other. An example of API being used in real life is the Google Maps API, which allows developers to integrate Google Maps' functionality into their own applications."
   ]
  },
  {
   "cell_type": "markdown",
   "id": "8910a52b-fdf3-4b31-bc90-c2b67a93e257",
   "metadata": {},
   "source": [
    "Q2. Give advantages and disadvantages of using API."
   ]
  },
  {
   "cell_type": "markdown",
   "id": "9cfff536-3e9c-4b36-952a-e845a53c37b3",
   "metadata": {},
   "source": [
    "Answer:-Advantages of using API include: faster development time, improved scalability, easier integration with other systems, and improved user experience. Disadvantages include: potential security risks, complexity in managing and maintaining APIs, and dependency on third-party systems."
   ]
  },
  {
   "cell_type": "markdown",
   "id": "1f182ba4-8b10-4c26-bc9e-9da0dabe67af",
   "metadata": {},
   "source": [
    "Q3. What is a Web API? Differentiate between API and Web API."
   ]
  },
  {
   "cell_type": "markdown",
   "id": "1e09b216-9f2d-4940-993d-eefb4e5517a2",
   "metadata": {},
   "source": [
    "Answer:-A Web API is a type of API that uses web protocols and standards to enable communication between different software applications over the internet. While all Web APIs are APIs, not all APIs are Web APIs. Web APIs are often designed with a RESTful architecture, which emphasizes the use of HTTP verbs and URLs to perform CRUD operations on resources."
   ]
  },
  {
   "cell_type": "markdown",
   "id": "eee081a1-2098-468e-a932-8f2337dc6e04",
   "metadata": {},
   "source": [
    "Q4. Explain REST and SOAP Architecture. Mention shortcomings of SOAP."
   ]
  },
  {
   "cell_type": "markdown",
   "id": "82065ab7-093e-4599-8048-92979a86fde9",
   "metadata": {},
   "source": [
    "Answer:-REST (Representational State Transfer) and SOAP (Simple Object Access Protocol) are two architectural styles for building APIs. REST is a style of software architecture that emphasizes the use of HTTP verbs and URLs to perform CRUD operations on resources. SOAP is a messaging protocol that uses XML to encode messages and can be used to facilitate communication between applications over different networks. A shortcoming of SOAP is its complexity and the overhead involved in parsing XML messages."
   ]
  },
  {
   "cell_type": "markdown",
   "id": "518f6ceb-ff67-401a-a8a2-3079ccdea41c",
   "metadata": {},
   "source": [
    "Q5. Differentiate between REST and SOAP."
   ]
  },
  {
   "cell_type": "markdown",
   "id": "e65c9e88-50d4-472b-8ed9-68a1f4911716",
   "metadata": {},
   "source": [
    "Answer:-REST and SOAP are two different architectural styles for building APIs. REST emphasizes the use of HTTP verbs and URLs to perform CRUD operations on resources and is typically used for building web applications and services. SOAP is a messaging protocol that uses XML to encode messages and can be used to facilitate communication between applications over different networks. SOAP is more complex and can be slower than REST, but may be necessary in some cases where more robust messaging is required."
   ]
  },
  {
   "cell_type": "code",
   "execution_count": 1,
   "id": "c3048b1c-f590-4abc-ab78-f0f14e291e21",
   "metadata": {},
   "outputs": [
    {
     "data": {
      "text/plain": [
       "'Thnkas'"
      ]
     },
     "execution_count": 1,
     "metadata": {},
     "output_type": "execute_result"
    }
   ],
   "source": [
    "\"\"\"Thnkas\"\"\""
   ]
  },
  {
   "cell_type": "code",
   "execution_count": null,
   "id": "73e891e1-ca9d-47e0-918a-953bbe72fcfc",
   "metadata": {},
   "outputs": [],
   "source": []
  }
 ],
 "metadata": {
  "kernelspec": {
   "display_name": "Python 3 (ipykernel)",
   "language": "python",
   "name": "python3"
  },
  "language_info": {
   "codemirror_mode": {
    "name": "ipython",
    "version": 3
   },
   "file_extension": ".py",
   "mimetype": "text/x-python",
   "name": "python",
   "nbconvert_exporter": "python",
   "pygments_lexer": "ipython3",
   "version": "3.10.8"
  }
 },
 "nbformat": 4,
 "nbformat_minor": 5
}
