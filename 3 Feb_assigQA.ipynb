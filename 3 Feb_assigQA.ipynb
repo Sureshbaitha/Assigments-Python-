{
 "cells": [
  {
   "cell_type": "markdown",
   "id": "056bc4af-78ea-46a7-ac75-6a25437fb937",
   "metadata": {},
   "source": [
    "Q1. Which keyword is used to create a function? Create a function to return a list of odd numbers in the\n",
    "range of 1 to 25."
   ]
  },
  {
   "cell_type": "code",
   "execution_count": 1,
   "id": "43da44ce-4eec-428e-a586-a288f4d15397",
   "metadata": {},
   "outputs": [],
   "source": [
    "\"\"\"The keyword used to create a function in Python is def.\"\"\"\n",
    "def get_odd_numbers():\n",
    "    odd_numbers = []\n",
    "    for num in range(1, 26):\n",
    "        if num % 2 != 0:\n",
    "            odd_numbers.append(num)\n",
    "    return odd_numbers"
   ]
  },
  {
   "cell_type": "code",
   "execution_count": 2,
   "id": "988e6e5e-ebb9-4c9a-9267-deba11cacee4",
   "metadata": {},
   "outputs": [
    {
     "data": {
      "text/plain": [
       "[1, 3, 5, 7, 9, 11, 13, 15, 17, 19, 21, 23, 25]"
      ]
     },
     "execution_count": 2,
     "metadata": {},
     "output_type": "execute_result"
    }
   ],
   "source": [
    "get_odd_numbers()"
   ]
  },
  {
   "cell_type": "code",
   "execution_count": 3,
   "id": "61c7bd70-a8f5-4b91-888a-1d31b6524873",
   "metadata": {},
   "outputs": [
    {
     "data": {
      "text/plain": [
       "'This function creates an empty list called odd_numbers, then loops through the range of numbers 1 to 25. For each number, it checks if the number is odd by using the modulo operator % to check if the remainder of dividing the number by 2 is not equal to 0. If the number is odd, it adds it to the odd_numbers list. Finally, it returns the odd_numbers list.'"
      ]
     },
     "execution_count": 3,
     "metadata": {},
     "output_type": "execute_result"
    }
   ],
   "source": [
    "\"\"\"This function creates an empty list called odd_numbers, then loops through the range of numbers 1 to 25. For each number, it checks if the number is odd by using the modulo operator % to check if the remainder of dividing the number by 2 is not equal to 0. If the number is odd, it adds it to the odd_numbers list. Finally, it returns the odd_numbers list.\"\"\""
   ]
  },
  {
   "cell_type": "markdown",
   "id": "9aa253b2-3402-49c8-a3ec-c83d54da5bba",
   "metadata": {},
   "source": [
    "Q2. Why *args and **kwargs is used in some functions? Create a function each for *args and **kwargs\n",
    "to demonstrate their use."
   ]
  },
  {
   "cell_type": "code",
   "execution_count": 1,
   "id": "ef0387a2-9a6a-49a9-88c9-3e554538dd41",
   "metadata": {},
   "outputs": [
    {
     "data": {
      "text/plain": [
       "'Answer:-*args and **kwargs are special syntax in Python that allow a function to accept a variable number of arguments.\\n\\n*args is used to pass a variable number of non-keyword arguments to a function. It allows you to pass any number of arguments to a function without having to explicitly define them in the function signature.\\n\\n**kwargs is used to pass a variable number of keyword arguments to a function. It allows you to pass any number of key-value pairs to a function without having to explicitly define them in the function signature.'"
      ]
     },
     "execution_count": 1,
     "metadata": {},
     "output_type": "execute_result"
    }
   ],
   "source": [
    "\"\"\"Answer:-*args and **kwargs are special syntax in Python that allow a function to accept a variable number of arguments.\n",
    "\n",
    "*args is used to pass a variable number of non-keyword arguments to a function. It allows you to pass any number of arguments to a function without having to explicitly define them in the function signature.\n",
    "\n",
    "**kwargs is used to pass a variable number of keyword arguments to a function. It allows you to pass any number of key-value pairs to a function without having to explicitly define them in the function signature.\"\"\""
   ]
  },
  {
   "cell_type": "code",
   "execution_count": 2,
   "id": "85fc3c9e-2836-40ce-a975-ca3daf5f49f5",
   "metadata": {},
   "outputs": [],
   "source": [
    "def sum_all(*args):\n",
    "    return sum(args)"
   ]
  },
  {
   "cell_type": "code",
   "execution_count": 3,
   "id": "e2b113f8-f9a0-45f9-99c0-944e585ff292",
   "metadata": {},
   "outputs": [],
   "source": [
    "#And here's an example function that uses **kwargs to print out all the key-value pairs passed to it:\n",
    "def print_kwargs(**kwargs):\n",
    "    for key, value in kwargs.items():\n",
    "        print(f\"{key} = {value}\")"
   ]
  },
  {
   "cell_type": "code",
   "execution_count": 4,
   "id": "55d7fbbe-449b-4ca9-9e30-920f4c8c0c43",
   "metadata": {},
   "outputs": [
    {
     "name": "stdout",
     "output_type": "stream",
     "text": [
      "name = John\n",
      "age = 30\n",
      "city = New York\n"
     ]
    }
   ],
   "source": [
    "#You can call these functions like this:\n",
    "sum_all(1, 2, 3, 4)  # returns 10\n",
    "\n",
    "print_kwargs(name=\"John\", age=30, city=\"New York\")"
   ]
  },
  {
   "cell_type": "markdown",
   "id": "bda02141-4a29-4025-a416-d7ef24aed682",
   "metadata": {},
   "source": [
    "Q3. What is an iterator in python? Name the method used to initialise the iterator object and the method\n",
    "used for iteration. Use these methods to print the first five elements of the given list [2, 4, 6, 8, 10, 12, 14,\n",
    "16, 18, 20]."
   ]
  },
  {
   "cell_type": "code",
   "execution_count": 5,
   "id": "8a4bdd37-565b-40e3-8c8e-027f0bdf7ee1",
   "metadata": {},
   "outputs": [
    {
     "data": {
      "text/plain": [
       "\"Answer:-In Python, an iterator is an object that allows you to iterate over a sequence of values. It provides a way to access the elements of a container (like a list) one at a time, without having to access the entire sequence at once.\\n\\nTo create an iterator object, you can use the iter() method, which takes a sequence as an argument and returns an iterator object. To iterate over the elements of an iterator object, you can use the next() method, which returns the next element in the sequence.\\n\\nHere's how you can use these methods to print the first five elements of the given list:\""
      ]
     },
     "execution_count": 5,
     "metadata": {},
     "output_type": "execute_result"
    }
   ],
   "source": [
    "\"\"\"Answer:-In Python, an iterator is an object that allows you to iterate over a sequence of values. It provides a way to access the elements of a container (like a list) one at a time, without having to access the entire sequence at once.\n",
    "\n",
    "To create an iterator object, you can use the iter() method, which takes a sequence as an argument and returns an iterator object. To iterate over the elements of an iterator object, you can use the next() method, which returns the next element in the sequence.\n",
    "\n",
    "Here's how you can use these methods to print the first five elements of the given list:\"\"\""
   ]
  },
  {
   "cell_type": "code",
   "execution_count": 7,
   "id": "38bfb24a-5f09-4b46-bb69-192242c9d30c",
   "metadata": {},
   "outputs": [
    {
     "name": "stdout",
     "output_type": "stream",
     "text": [
      "2\n",
      "4\n",
      "6\n",
      "8\n",
      "10\n"
     ]
    },
    {
     "data": {
      "text/plain": [
       "'In this example, we first create an iterator object my_iter using the iter() method and pass in the list my_list as an argument. Then, we use the next() method to iterate over the first five elements of my_iter and print each element one at a time.'"
      ]
     },
     "execution_count": 7,
     "metadata": {},
     "output_type": "execute_result"
    }
   ],
   "source": [
    "my_list = [2, 4, 6, 8, 10, 12, 14, 16, 18, 20]\n",
    "\n",
    "# Create an iterator object\n",
    "my_iter = iter(my_list)\n",
    "\n",
    "# Use next() method to iterate over the first five elements\n",
    "print(next(my_iter)) \n",
    "print(next(my_iter))  \n",
    "print(next(my_iter)) \n",
    "print(next(my_iter))  \n",
    "print(next(my_iter))  \n",
    "\n",
    "\"\"\"In this example, we first create an iterator object my_iter using the iter() method and pass in the list my_list as an argument. Then, we use the next() method to iterate over the first five elements of my_iter and print each element one at a time.\"\"\""
   ]
  },
  {
   "cell_type": "markdown",
   "id": "a00170c2-84b2-458e-9b68-5c96fd7a8dad",
   "metadata": {},
   "source": [
    "Q4. What is a generator function in python? Why yield keyword is used? Give an example of a generator\n",
    "function."
   ]
  },
  {
   "cell_type": "code",
   "execution_count": 8,
   "id": "633f27ca-9b82-438d-9918-069c7b28b6e6",
   "metadata": {},
   "outputs": [
    {
     "data": {
      "text/plain": [
       "\"Answer:-A generator function in Python is a special type of function that uses the yield keyword to return a generator object. A generator object is an iterator that allows you to generate a sequence of values on-the-fly, without having to store them all in memory at once.\\n\\nThe yield keyword is used in generator functions to specify the values to be returned by the generator. When the generator is iterated over using a for loop or the next() function, it will execute the generator function until it reaches a yield statement. At that point, it will return the value specified by the yield statement, and then pause the function's execution until the next iteration.\""
      ]
     },
     "execution_count": 8,
     "metadata": {},
     "output_type": "execute_result"
    }
   ],
   "source": [
    "\"\"\"Answer:-A generator function in Python is a special type of function that uses the yield keyword to return a generator object. A generator object is an iterator that allows you to generate a sequence of values on-the-fly, without having to store them all in memory at once.\n",
    "\n",
    "The yield keyword is used in generator functions to specify the values to be returned by the generator. When the generator is iterated over using a for loop or the next() function, it will execute the generator function until it reaches a yield statement. At that point, it will return the value specified by the yield statement, and then pause the function's execution until the next iteration.\"\"\""
   ]
  },
  {
   "cell_type": "code",
   "execution_count": 9,
   "id": "bdd2f9c9-1051-404f-9fa6-e6de50b62395",
   "metadata": {},
   "outputs": [],
   "source": [
    "def fibonacci(n):\n",
    "    a, b = 0, 1\n",
    "    for i in range(n):\n",
    "        yield a\n",
    "        a, b = b, a + b"
   ]
  },
  {
   "cell_type": "code",
   "execution_count": 10,
   "id": "673db507-44bc-4ece-9ba8-390ef0fb6ad3",
   "metadata": {},
   "outputs": [
    {
     "name": "stdout",
     "output_type": "stream",
     "text": [
      "0\n",
      "1\n",
      "1\n",
      "2\n",
      "3\n",
      "5\n",
      "8\n",
      "13\n",
      "21\n",
      "34\n"
     ]
    }
   ],
   "source": [
    "for num in fibonacci(10):\n",
    "    print(num)"
   ]
  },
  {
   "cell_type": "markdown",
   "id": "eab04ecb-2f4f-48a2-892e-6b316ff45232",
   "metadata": {},
   "source": [
    "Q5. Create a generator function for prime numbers less than 1000. Use the next() method to print the\n",
    "first 20 prime numbers."
   ]
  },
  {
   "cell_type": "code",
   "execution_count": 11,
   "id": "d16c1351-7466-4dd6-8b27-0964334ecfb0",
   "metadata": {},
   "outputs": [
    {
     "name": "stdout",
     "output_type": "stream",
     "text": [
      "2\n",
      "3\n",
      "5\n",
      "7\n",
      "11\n",
      "13\n",
      "17\n",
      "19\n",
      "23\n",
      "29\n",
      "31\n",
      "37\n",
      "41\n",
      "43\n",
      "47\n",
      "53\n",
      "59\n",
      "61\n",
      "67\n",
      "71\n"
     ]
    }
   ],
   "source": [
    "\"\"\"Here's an example of a generator function for prime numbers less than 1000, along with code that uses the next() method to print the first 20 prime numbers:\"\"\"\n",
    "def primes():\n",
    "    # First prime number is 2\n",
    "    yield 2\n",
    "\n",
    "    # Check odd numbers starting from 3\n",
    "    num = 3\n",
    "    while num < 1000:\n",
    "        # Check if num is prime\n",
    "        is_prime = True\n",
    "        for divisor in range(2, int(num ** 0.5) + 1):\n",
    "            if num % divisor == 0:\n",
    "                is_prime = False\n",
    "                break\n",
    "\n",
    "        # If num is prime, yield it\n",
    "        if is_prime:\n",
    "            yield num\n",
    "\n",
    "        # Check the next odd number\n",
    "        num += 2\n",
    "\n",
    "# Use the generator function to print the first 20 prime numbers\n",
    "prime_gen = primes()\n",
    "for i in range(20):\n",
    "    print(next(prime_gen))"
   ]
  },
  {
   "cell_type": "markdown",
   "id": "2dd41514-1a55-4ad3-adc8-feeee0245285",
   "metadata": {},
   "source": [
    "Q6. Write a python program to print the first 10 Fibonacci numbers using a while loop."
   ]
  },
  {
   "cell_type": "code",
   "execution_count": 12,
   "id": "bf9a4141-2722-49b4-ab2e-f631f0e734bd",
   "metadata": {},
   "outputs": [
    {
     "name": "stdout",
     "output_type": "stream",
     "text": [
      "0\n",
      "1\n",
      "1\n",
      "2\n",
      "3\n",
      "5\n",
      "8\n",
      "13\n",
      "21\n",
      "34\n"
     ]
    }
   ],
   "source": [
    "#Python program to print the first 10 Fibonacci numbers using a while loop:\n",
    "# Initialize the first two Fibonacci numbers\n",
    "a, b = 0, 1\n",
    "\n",
    "# Print the first 10 Fibonacci numbers using a while loop\n",
    "count = 0\n",
    "while count < 10:\n",
    "    print(a)\n",
    "    a, b = b, a + b\n",
    "    count += 1"
   ]
  },
  {
   "cell_type": "markdown",
   "id": "7b0f1e96-e9c2-4ed0-869b-0345d2027518",
   "metadata": {},
   "source": [
    "Q7. Write a List Comprehension to iterate through the given string: ‘pwskills’.\n",
    "Expected output: ['p', 'w', 's', 'k', 'i', 'l', 'l', 's']"
   ]
  },
  {
   "cell_type": "code",
   "execution_count": 14,
   "id": "346b4bc0-e3a3-42a8-8453-aee685eb906d",
   "metadata": {},
   "outputs": [
    {
     "data": {
      "text/plain": [
       "\"string = 'pwskills'\\n\\noutput = [char for index, char in enumerate(string) if char != 'l' or string[:index].count('l') == 1]\\n\\nprint(output)\""
      ]
     },
     "execution_count": 14,
     "metadata": {},
     "output_type": "execute_result"
    }
   ],
   "source": [
    "\"\"\"string = 'pwskills'\n",
    "\n",
    "output = [char for index, char in enumerate(string) if char != 'l' or string[:index].count('l') == 1]\n",
    "\n",
    "print(output)\"\"\""
   ]
  },
  {
   "cell_type": "code",
   "execution_count": 13,
   "id": "74cb8c3e-4ab1-420e-b51e-11b48e1b7d1e",
   "metadata": {},
   "outputs": [
    {
     "name": "stdout",
     "output_type": "stream",
     "text": [
      "['p', 'w', 's', 'k', 'i', 'l', 's']\n"
     ]
    }
   ],
   "source": [
    "string = 'pwskills'\n",
    "\n",
    "output = [char for index, char in enumerate(string) if char != 'l' or string[:index].count('l') == 1]\n",
    "\n",
    "print(output)"
   ]
  },
  {
   "cell_type": "markdown",
   "id": "b92f7f03-0658-4634-afad-1c8041965c13",
   "metadata": {},
   "source": [
    "Q8. Write a python program to check whether a given number is Palindrome or not using a while loop."
   ]
  },
  {
   "cell_type": "code",
   "execution_count": 15,
   "id": "10eb5556-c495-4652-91b7-73d89a0d2352",
   "metadata": {},
   "outputs": [
    {
     "name": "stdin",
     "output_type": "stream",
     "text": [
      "Enter a number:  121\n"
     ]
    },
    {
     "name": "stdout",
     "output_type": "stream",
     "text": [
      "121 is a palindrome\n"
     ]
    }
   ],
   "source": [
    "#Python program to check whether a given number is palindrome or not using a while loop:\n",
    "# Get the input number from the user\n",
    "num = int(input(\"Enter a number: \"))\n",
    "\n",
    "# Copy the input number to a temporary variable\n",
    "temp = num\n",
    "\n",
    "# Initialize a variable to store the reversed number\n",
    "rev_num = 0\n",
    "\n",
    "# Reverse the input number using a while loop\n",
    "while temp > 0:\n",
    "    digit = temp % 10\n",
    "    rev_num = (rev_num * 10) + digit\n",
    "    temp //= 10\n",
    "\n",
    "# Check if the reversed number is equal to the input number\n",
    "if rev_num == num:\n",
    "    print(num, \"is a palindrome\")\n",
    "else:\n",
    "    print(num, \"is not a palindrome\")"
   ]
  },
  {
   "cell_type": "markdown",
   "id": "b0a63426-a946-4d8e-8498-818edf4e1ba9",
   "metadata": {},
   "source": [
    "Q9. Write a code to print odd numbers from 1 to 100 using list comprehension.\n",
    "Note: Use a list comprehension to create a list from 1 to 100 and use another List comprehension to filter\n",
    "out odd numbers."
   ]
  },
  {
   "cell_type": "code",
   "execution_count": 16,
   "id": "3e9fb77d-4f4d-4cbe-8715-dc5d8ba6c92d",
   "metadata": {},
   "outputs": [
    {
     "name": "stdout",
     "output_type": "stream",
     "text": [
      "[1, 3, 5, 7, 9, 11, 13, 15, 17, 19, 21, 23, 25, 27, 29, 31, 33, 35, 37, 39, 41, 43, 45, 47, 49, 51, 53, 55, 57, 59, 61, 63, 65, 67, 69, 71, 73, 75, 77, 79, 81, 83, 85, 87, 89, 91, 93, 95, 97, 99]\n"
     ]
    }
   ],
   "source": [
    "#Python code to print odd numbers from 1 to 100 using list comprehension:\n",
    "# Use list comprehension to create a list of numbers from 1 to 100\n",
    "numbers = [num for num in range(1, 101)]\n",
    "\n",
    "# Use another list comprehension to filter out odd numbers\n",
    "odd_numbers = [num for num in numbers if num % 2 != 0]\n",
    "\n",
    "# Print the odd numbers\n",
    "print(odd_numbers)"
   ]
  },
  {
   "cell_type": "code",
   "execution_count": null,
   "id": "2600a6fa-90a6-4d8d-b38a-f0bb0dcd9e51",
   "metadata": {},
   "outputs": [],
   "source": []
  }
 ],
 "metadata": {
  "kernelspec": {
   "display_name": "Python 3 (ipykernel)",
   "language": "python",
   "name": "python3"
  },
  "language_info": {
   "codemirror_mode": {
    "name": "ipython",
    "version": 3
   },
   "file_extension": ".py",
   "mimetype": "text/x-python",
   "name": "python",
   "nbconvert_exporter": "python",
   "pygments_lexer": "ipython3",
   "version": "3.10.8"
  }
 },
 "nbformat": 4,
 "nbformat_minor": 5
}
