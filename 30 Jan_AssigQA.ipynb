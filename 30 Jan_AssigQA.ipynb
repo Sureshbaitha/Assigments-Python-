{
 "cells": [
  {
   "cell_type": "markdown",
   "id": "9d0a4e06-fc49-4121-9ca4-f33afe0f2ce7",
   "metadata": {},
   "source": [
    "Q1.Answer:-Program to display grade based on percentage:"
   ]
  },
  {
   "cell_type": "code",
   "execution_count": 1,
   "id": "4a22f513-00bd-4b65-83c5-7f610311c411",
   "metadata": {},
   "outputs": [
    {
     "name": "stdin",
     "output_type": "stream",
     "text": [
      "Enter your percentage:  80\n"
     ]
    },
    {
     "name": "stdout",
     "output_type": "stream",
     "text": [
      "Grade C\n"
     ]
    }
   ],
   "source": [
    "percentage = float(input(\"Enter your percentage: \"))\n",
    "\n",
    "if percentage > 90:\n",
    "    print(\"Grade A\")\n",
    "elif percentage > 80:\n",
    "    print(\"Grade B\")\n",
    "elif percentage >= 60:\n",
    "    print(\"Grade C\")\n",
    "else:\n",
    "    print(\"Grade D\")\n"
   ]
  },
  {
   "cell_type": "markdown",
   "id": "efa270f3-8002-478e-93c3-e46dc1cc8e9c",
   "metadata": {},
   "source": [
    "Q2.Answer:-Program to display road tax based on bike's cost price:"
   ]
  },
  {
   "cell_type": "code",
   "execution_count": 2,
   "id": "0fdd15ad-2448-4988-9ef8-e741d6037ab6",
   "metadata": {},
   "outputs": [
    {
     "name": "stdin",
     "output_type": "stream",
     "text": [
      "Enter the cost price of the bike:  700000\n"
     ]
    },
    {
     "name": "stdout",
     "output_type": "stream",
     "text": [
      "Road tax to be paid is 10% of the cost price.\n"
     ]
    }
   ],
   "source": [
    "cost_price = int(input(\"Enter the cost price of the bike: \"))\n",
    "\n",
    "if cost_price > 50000:\n",
    "    if cost_price <= 100000:\n",
    "        print(\"Road tax to be paid is 15% of the cost price.\")\n",
    "    else:\n",
    "        print(\"Road tax to be paid is 10% of the cost price.\")\n",
    "elif cost_price <= 50000:\n",
    "    print(\"Road tax to be paid is 5% of the cost price.\")\n",
    "else:\n",
    "    print(\"Invalid cost price entered.\")\n"
   ]
  },
  {
   "cell_type": "code",
   "execution_count": null,
   "id": "eedf91d8-a5f8-45e5-81b2-cb11d752eeaa",
   "metadata": {},
   "outputs": [],
   "source": [
    "Q3.Answer:-Program to display monuments based on city:"
   ]
  },
  {
   "cell_type": "code",
   "execution_count": 3,
   "id": "5b51d45d-0a2e-4b65-aba1-6ffa1dc9a628",
   "metadata": {},
   "outputs": [
    {
     "name": "stdin",
     "output_type": "stream",
     "text": [
      "Enter a city:  patna\n"
     ]
    },
    {
     "name": "stdout",
     "output_type": "stream",
     "text": [
      "No monuments found for this city.\n"
     ]
    }
   ],
   "source": [
    "city = input(\"Enter a city: \")\n",
    "\n",
    "if city.lower() == \"delhi\":\n",
    "    print(\"Red Fort\")\n",
    "    print(\"Taj Mahal\")\n",
    "elif city.lower() == \"agra\":\n",
    "    print(\"Jal Mahal\")\n",
    "else:\n",
    "    print(\"No monuments found for this city.\")\n"
   ]
  },
  {
   "cell_type": "markdown",
   "id": "64a38977-d89c-4e4d-8d9f-b2a5fd584d1e",
   "metadata": {},
   "source": [
    "Q4.Answer:-Program to check how many times a number can be divided by 3:"
   ]
  },
  {
   "cell_type": "code",
   "execution_count": 4,
   "id": "0ebe27ad-542b-491e-9681-42d2d283ac2a",
   "metadata": {},
   "outputs": [
    {
     "name": "stdin",
     "output_type": "stream",
     "text": [
      "Enter a number:  60\n"
     ]
    },
    {
     "name": "stdout",
     "output_type": "stream",
     "text": [
      "The given number can be divided by 3 2 times before it is less than or equal to 10.\n"
     ]
    }
   ],
   "source": [
    "number = int(input(\"Enter a number: \"))\n",
    "count = 0\n",
    "\n",
    "while number > 10:\n",
    "    number /= 3\n",
    "    count += 1\n",
    "\n",
    "print(\"The given number can be divided by 3\", count, \"times before it is less than or equal to 10.\")\n"
   ]
  },
  {
   "cell_type": "markdown",
   "id": "6cad8701-c845-4863-9bed-3b61a8c3a1ce",
   "metadata": {},
   "source": [
    "Q5.Answer:-When to use while loop:\n",
    "A while loop is used when a block of code needs to be executed repeatedly until a certain condition is met. It is useful in situations where the number of iterations required is not known in advance.\n",
    "\n",
    "Example:"
   ]
  },
  {
   "cell_type": "code",
   "execution_count": 5,
   "id": "83b5397f-962b-427d-bfdd-1ba1ef5236e0",
   "metadata": {},
   "outputs": [
    {
     "name": "stdout",
     "output_type": "stream",
     "text": [
      "1\n",
      "2\n",
      "3\n",
      "4\n",
      "5\n",
      "6\n",
      "7\n",
      "8\n",
      "9\n",
      "10\n"
     ]
    }
   ],
   "source": [
    "i = 1\n",
    "while i <= 10:\n",
    "    print(i)\n",
    "    i += 1\n"
   ]
  },
  {
   "cell_type": "markdown",
   "id": "754fdb25-5924-4deb-b3e3-38802fba34f9",
   "metadata": {},
   "source": [
    "Q6.Answer:-Program to print 3 different patterns using nested while loop:"
   ]
  },
  {
   "cell_type": "code",
   "execution_count": 6,
   "id": "46a6105e-78f9-493f-b857-a919b287b608",
   "metadata": {},
   "outputs": [
    {
     "name": "stdout",
     "output_type": "stream",
     "text": [
      "*\n",
      "**\n",
      "***\n",
      "****\n",
      "*****\n",
      "*****\n",
      "****\n",
      "***\n",
      "**\n",
      "*\n",
      "    *\n",
      "   **\n",
      "  ***\n",
      " ****\n",
      "*****\n"
     ]
    }
   ],
   "source": [
    "# Pattern 1\n",
    "i = 1\n",
    "while i <= 5:\n",
    "    j = 1\n",
    "    while j <= i:\n",
    "        print(\"*\", end=\"\")\n",
    "        j += 1\n",
    "    print()\n",
    "    i += 1\n",
    "\n",
    "# Pattern 2\n",
    "i = 5\n",
    "while i >= 1:\n",
    "    j = 1\n",
    "    while j <= i:\n",
    "        print(\"*\", end=\"\")\n",
    "        j += 1\n",
    "    print()\n",
    "    i -= 1\n",
    "\n",
    "# Pattern 3\n",
    "i = 1\n",
    "while i <= 5:\n",
    "    j = 5\n",
    "    while j >= 1:\n",
    "        if j > i:\n",
    "            print(\" \", end=\"\")\n",
    "        else:\n",
    "            print(\"*\", end=\"\")\n",
    "        j -= 1\n",
    "    print()\n",
    "    i += 1\n"
   ]
  },
  {
   "cell_type": "markdown",
   "id": "e4eb6453-6d02-4ae5-82b7-4082bdd381cf",
   "metadata": {},
   "source": [
    "Q7.Answer:-Program to reverse a while loop and display numbers from 10 to 1:"
   ]
  },
  {
   "cell_type": "code",
   "execution_count": 7,
   "id": "9e913e49-1884-42ea-8105-343a7bc3ed89",
   "metadata": {},
   "outputs": [
    {
     "name": "stdout",
     "output_type": "stream",
     "text": [
      "10\n",
      "9\n",
      "8\n",
      "7\n",
      "6\n",
      "5\n",
      "4\n",
      "3\n",
      "2\n",
      "1\n"
     ]
    }
   ],
   "source": [
    "i = 10\n",
    "while i >= 1:\n",
    "    print(i)\n",
    "    i -= 1\n"
   ]
  },
  {
   "cell_type": "markdown",
   "id": "97797c4f-dea9-48c7-b019-cdf479eaca05",
   "metadata": {},
   "source": [
    "Q8.Answer:-Program to reverse a while loop and display numbers from 10 to 1:"
   ]
  },
  {
   "cell_type": "code",
   "execution_count": 8,
   "id": "f8b23a19-af48-4f57-a5e7-00e14e72ff36",
   "metadata": {},
   "outputs": [
    {
     "name": "stdout",
     "output_type": "stream",
     "text": [
      "10\n",
      "9\n",
      "8\n",
      "7\n",
      "6\n",
      "5\n",
      "4\n",
      "3\n",
      "2\n",
      "1\n"
     ]
    }
   ],
   "source": [
    "i = 10\n",
    "while i >= 1:\n",
    "    print(i)\n",
    "    i -= 1\n"
   ]
  },
  {
   "cell_type": "code",
   "execution_count": 9,
   "id": "89b3e983-453c-42f6-8c89-ad5cba0c0aad",
   "metadata": {},
   "outputs": [
    {
     "data": {
      "text/plain": [
       "'https://docs.google.com/document/d/1mK4xnQ_4qI1CCFtY0oKp_r_cBw00hJzK/edit?\\nusp=sharing&ouid=100750011115833835568&rtpof=true&sd=true'"
      ]
     },
     "execution_count": 9,
     "metadata": {},
     "output_type": "execute_result"
    }
   ],
   "source": [
    "#Google document link: \n",
    "\"\"\"https://docs.google.com/document/d/1mK4xnQ_4qI1CCFtY0oKp_r_cBw00hJzK/edit?\n",
    "usp=sharing&ouid=100750011115833835568&rtpof=true&sd=true\"\"\""
   ]
  },
  {
   "cell_type": "code",
   "execution_count": null,
   "id": "219639ec-8269-4fe8-be2b-f498791ee233",
   "metadata": {},
   "outputs": [],
   "source": []
  }
 ],
 "metadata": {
  "kernelspec": {
   "display_name": "Python 3 (ipykernel)",
   "language": "python",
   "name": "python3"
  },
  "language_info": {
   "codemirror_mode": {
    "name": "ipython",
    "version": 3
   },
   "file_extension": ".py",
   "mimetype": "text/x-python",
   "name": "python",
   "nbconvert_exporter": "python",
   "pygments_lexer": "ipython3",
   "version": "3.10.8"
  }
 },
 "nbformat": 4,
 "nbformat_minor": 5
}
