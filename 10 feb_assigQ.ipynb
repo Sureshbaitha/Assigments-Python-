{
 "cells": [
  {
   "cell_type": "markdown",
   "id": "5f71bd6c-d60c-4634-ba45-81f78ed48700",
   "metadata": {},
   "source": [
    "Q1. Which function is used to open a file? What are the different modes of opening a file? Explain each mode\n",
    "of file opening."
   ]
  },
  {
   "cell_type": "code",
   "execution_count": 2,
   "id": "0c531f07-4205-4366-b0f6-4cf287828d6a",
   "metadata": {},
   "outputs": [
    {
     "data": {
      "text/plain": [
       "'Answer:-In Python, the built-in function open() is used to open a file. This function takes two arguments: the file name and the mode in which to open the file. The basic syntax for opening a file is as follows:'"
      ]
     },
     "execution_count": 2,
     "metadata": {},
     "output_type": "execute_result"
    }
   ],
   "source": [
    "\"\"\"Answer:-In Python, the built-in function open() is used to open a file. This function takes two arguments: the file name and the mode in which to open the file. The basic syntax for opening a file is as follows:\"\"\""
   ]
  },
  {
   "cell_type": "code",
   "execution_count": 7,
   "id": "ae5a207a-9cda-4302-8a11-e301595135ed",
   "metadata": {},
   "outputs": [
    {
     "data": {
      "text/plain": [
       "'The open() function returns a file object, which is used to read, write, or manipulate the file. The mode parameter specifies the type of access that is allowed for the file. Here are the different modes of opening a file:'"
      ]
     },
     "execution_count": 7,
     "metadata": {},
     "output_type": "execute_result"
    }
   ],
   "source": [
    "#file_object = open(\"filename\", \"mode\")\n",
    "\"\"\"The open() function returns a file object, which is used to read, write, or manipulate the file. The mode parameter specifies the type of access that is allowed for the file. Here are the different modes of opening a file:\"\"\""
   ]
  },
  {
   "cell_type": "code",
   "execution_count": 8,
   "id": "ef1e6459-1944-4c05-97b9-f6eddf4ff2d2",
   "metadata": {},
   "outputs": [
    {
     "data": {
      "text/plain": [
       "\"1.'r' (read mode): This mode is used to open a file for reading. The file pointer is placed at the beginning of the file. If the file does not exist, it raises a FileNotFoundError error.\\n   2.'w' (write mode): This mode is used to open a file for writing. If the file exists, its contents are truncated. If the file does not exist, a new file is created. The file pointer is placed at the beginning of the file.\\n   3.'a' (append mode): This mode is used to open a file \\n   for appending. If the file exists, the file pointer is placed at the end of the file. If the file does not exist, a new file is created.\\n   4.'x' (exclusive creation mode): This mode is used to open a file for exclusive creation. If the file already exists, it raises a FileExistsError error. If the file does not exist, a new file is created.\\n   5.'b' (binary mode): This mode is used to open a file in binary mode. In this mode, data is read or written in the form of bytes.\\n   6.'t' (text mode): This mode is used to open a file in text mode. In this mode, data is read or written as Unicode strings.\\n   7.'+' (read and write mode): This mode is used to open a file for both reading and writing. The file pointer is placed at the beginning of the file.\\n   When opening a file, you can combine different modes by specifying them as a string. For example, if you want to open a file for reading and writing in binary mode, you can use the mode 'rb+'.\\n\""
      ]
     },
     "execution_count": 8,
     "metadata": {},
     "output_type": "execute_result"
    }
   ],
   "source": [
    "\"\"\"1.'r' (read mode): This mode is used to open a file for reading. The file pointer is placed at the beginning of the file. If the file does not exist, it raises a FileNotFoundError error.\n",
    "   2.'w' (write mode): This mode is used to open a file for writing. If the file exists, its contents are truncated. If the file does not exist, a new file is created. The file pointer is placed at the beginning of the file.\n",
    "   3.'a' (append mode): This mode is used to open a file \n",
    "   for appending. If the file exists, the file pointer is placed at the end of the file. If the file does not exist, a new file is created.\n",
    "   4.'x' (exclusive creation mode): This mode is used to open a file for exclusive creation. If the file already exists, it raises a FileExistsError error. If the file does not exist, a new file is created.\n",
    "   5.'b' (binary mode): This mode is used to open a file in binary mode. In this mode, data is read or written in the form of bytes.\n",
    "   6.'t' (text mode): This mode is used to open a file in text mode. In this mode, data is read or written as Unicode strings.\n",
    "   7.'+' (read and write mode): This mode is used to open a file for both reading and writing. The file pointer is placed at the beginning of the file.\n",
    "   When opening a file, you can combine different modes by specifying them as a string. For example, if you want to open a file for reading and writing in binary mode, you can use the mode 'rb+'.\n",
    "\"\"\""
   ]
  },
  {
   "cell_type": "markdown",
   "id": "6b53c180-499a-4760-8890-f99e865c670e",
   "metadata": {},
   "source": [
    "Q2. Why close() function is used? Why is it important to close a file?"
   ]
  },
  {
   "cell_type": "code",
   "execution_count": 9,
   "id": "01379671-dab3-42b9-938e-57593e2ecea7",
   "metadata": {},
   "outputs": [
    {
     "data": {
      "text/plain": [
       "'ANSWER:-In Python, the close() function is used to close an open file. This function is called on a file object to release any system resources that are being used by the file. The basic syntax for closing a file is as follows:'"
      ]
     },
     "execution_count": 9,
     "metadata": {},
     "output_type": "execute_result"
    }
   ],
   "source": [
    "\"\"\"ANSWER:-In Python, the close() function is used to close an open file. This function is called on a file object to release any system resources that are being used by the file. The basic syntax for closing a file is as follows:\"\"\""
   ]
  },
  {
   "cell_type": "code",
   "execution_count": 11,
   "id": "4e2cebe3-2426-4334-ae77-2a18942df037",
   "metadata": {},
   "outputs": [],
   "source": [
    "#file_object.close()"
   ]
  },
  {
   "cell_type": "code",
   "execution_count": 12,
   "id": "258a65bc-e3fd-41c8-aaca-6b66aa42a536",
   "metadata": {},
   "outputs": [
    {
     "data": {
      "text/plain": [
       "'It is important to close a file for the following reasons:'"
      ]
     },
     "execution_count": 12,
     "metadata": {},
     "output_type": "execute_result"
    }
   ],
   "source": [
    "\"\"\"It is important to close a file for the following reasons:\"\"\""
   ]
  },
  {
   "cell_type": "code",
   "execution_count": 13,
   "id": "a2d634db-9275-4b57-b81e-f8d5a183f26b",
   "metadata": {},
   "outputs": [
    {
     "data": {
      "text/plain": [
       "'(1)Saves system resources: When a file is opened, the operating system allocates certain system resources to manage the file. These resources include memory, file descriptors, and I/O buffers. If you do not close the file properly, these resources may remain allocated, which can cause memory leaks and other problems. Closing the file with the close() function releases these resources, which helps to save system resources.\\n   (2)Prevents data loss: When you write data to a file, the data is first stored in a buffer. The operating system writes the data to the file only when the buffer is full or when the file is closed. If you do not close the file properly, some of the data in the buffer may not be written to the file, which can cause data loss. Closing the file with the close() function ensures that all data in the buffer is written to the file before it is closed.\\n   (3)Prevents data loss: When you write data to a file, the data is first stored in a buffer. The operating system writes the data to the file only when the buffer is full or when the file is closed. If you do not close the file properly, some of the data in the buffer may not be written to the file, which can cause data loss. Closing the file with the close() function ensures that all data in the buffer is written to the file before it is closed.\\n   In summary, it is important to close a file using the close() function to release system resources, prevent data loss, and allow other programs to access the file.\\n'"
      ]
     },
     "execution_count": 13,
     "metadata": {},
     "output_type": "execute_result"
    }
   ],
   "source": [
    "\"\"\"(1)Saves system resources: When a file is opened, the operating system allocates certain system resources to manage the file. These resources include memory, file descriptors, and I/O buffers. If you do not close the file properly, these resources may remain allocated, which can cause memory leaks and other problems. Closing the file with the close() function releases these resources, which helps to save system resources.\n",
    "   (2)Prevents data loss: When you write data to a file, the data is first stored in a buffer. The operating system writes the data to the file only when the buffer is full or when the file is closed. If you do not close the file properly, some of the data in the buffer may not be written to the file, which can cause data loss. Closing the file with the close() function ensures that all data in the buffer is written to the file before it is closed.\n",
    "   (3)Prevents data loss: When you write data to a file, the data is first stored in a buffer. The operating system writes the data to the file only when the buffer is full or when the file is closed. If you do not close the file properly, some of the data in the buffer may not be written to the file, which can cause data loss. Closing the file with the close() function ensures that all data in the buffer is written to the file before it is closed.\n",
    "   In summary, it is important to close a file using the close() function to release system resources, prevent data loss, and allow other programs to access the file.\n",
    "\"\"\""
   ]
  },
  {
   "cell_type": "markdown",
   "id": "885b4bfb-bc8a-4376-9f4f-50d93537070f",
   "metadata": {},
   "source": [
    "Q3. Write a python program to create a text file. Write ‘I want to become a Data Scientist’ in that file. Then\n",
    "close the file. Open this file and read the content of the file."
   ]
  },
  {
   "cell_type": "code",
   "execution_count": 14,
   "id": "170822a7-2334-4564-9d4a-cfaed7d28a9c",
   "metadata": {},
   "outputs": [
    {
     "data": {
      "text/plain": [
       "'Here\\'s a Python program that creates a text file, writes the text \"I want to become a Data Scientist\" to it, closes the file, and then reads the content of the file:'"
      ]
     },
     "execution_count": 14,
     "metadata": {},
     "output_type": "execute_result"
    }
   ],
   "source": [
    "\"\"\"Here's a Python program that creates a text file, writes the text \"I want to become a Data Scientist\" to it, closes the file, and then reads the content of the file:\"\"\""
   ]
  },
  {
   "cell_type": "code",
   "execution_count": 15,
   "id": "545dd4c4-1271-442b-be34-bf75c718271c",
   "metadata": {},
   "outputs": [
    {
     "name": "stdout",
     "output_type": "stream",
     "text": [
      "I want to become a Data Scientist\n"
     ]
    }
   ],
   "source": [
    "# Open the file in write mode\n",
    "file = open(\"data_scientist.txt\", \"w\")\n",
    "\n",
    "# Write the text to the file\n",
    "file.write(\"I want to become a Data Scientist\")\n",
    "\n",
    "# Close the file\n",
    "file.close()\n",
    "\n",
    "# Open the file in read mode\n",
    "file = open(\"data_scientist.txt\", \"r\")\n",
    "\n",
    "# Read the content of the file\n",
    "content = file.read()\n",
    "\n",
    "# Print the content of the file\n",
    "print(content)\n",
    "\n",
    "# Close the file\n",
    "file.close()"
   ]
  },
  {
   "cell_type": "markdown",
   "id": "3de80878-284e-4a51-8605-77d311291fc2",
   "metadata": {},
   "source": [
    "Q4. Explain the following with python code: read(), readline() and readlines()."
   ]
  },
  {
   "cell_type": "code",
   "execution_count": 16,
   "id": "c39bd543-40c4-4ea6-8b48-7cd59e33c0ea",
   "metadata": {},
   "outputs": [
    {
     "data": {
      "text/plain": [
       "'ANSWER:-In Python, there are several ways to read data from a file. Here are the explanations for the read(), readline(), and readlines() methods, along with example code:'"
      ]
     },
     "execution_count": 16,
     "metadata": {},
     "output_type": "execute_result"
    }
   ],
   "source": [
    "\"\"\"ANSWER:-In Python, there are several ways to read data from a file. Here are the explanations for the read(), readline(), and readlines() methods, along with example code:\"\"\""
   ]
  },
  {
   "cell_type": "code",
   "execution_count": 17,
   "id": "fcb8c78f-94fb-499c-baaa-9240eb40e29b",
   "metadata": {},
   "outputs": [
    {
     "data": {
      "text/plain": [
       "'(1)read(): The read() method is used to read the entire content of a file as a single string. It takes an optional parameter that specifies the number of bytes to be read. If no argument is passed, it reads the entire file. Here is an example code that demonstrates the read() method:'"
      ]
     },
     "execution_count": 17,
     "metadata": {},
     "output_type": "execute_result"
    }
   ],
   "source": [
    "\"\"\"(1)read(): The read() method is used to read the entire content of a file as a single string. It takes an optional parameter that specifies the number of bytes to be read. If no argument is passed, it reads the entire file. Here is an example code that demonstrates the read() method:\"\"\""
   ]
  },
  {
   "cell_type": "code",
   "execution_count": 33,
   "id": "b220c600-e25a-412a-a556-61e38b50e049",
   "metadata": {},
   "outputs": [
    {
     "data": {
      "text/plain": [
       "'(2)readline(): The readline() method is used to read a single line from a file. It returns the line as a string, including the newline character at the end of the line. If the end of the file is reached, an empty string is returned. Here is an example code that demonstrates the readline() method:'"
      ]
     },
     "execution_count": 33,
     "metadata": {},
     "output_type": "execute_result"
    }
   ],
   "source": [
    "\"\"\"(2)readline(): The readline() method is used to read a single line from a file. It returns the line as a string, including the newline character at the end of the line. If the end of the file is reached, an empty string is returned. Here is an example code that demonstrates the readline() method:\"\"\""
   ]
  },
  {
   "cell_type": "code",
   "execution_count": 30,
   "id": "359d2842-45bf-4707-ba01-242bf8508d92",
   "metadata": {},
   "outputs": [
    {
     "name": "stdout",
     "output_type": "stream",
     "text": [
      "Line1: Become\n",
      "Line2: for\n",
      "Line3: Data Scientist\n"
     ]
    }
   ],
   "source": [
    "L = [\"Become\\n\", \"for\\n\", \"Data Scientist\\n\"]\n",
    "  \n",
    "# Writing to a file\n",
    "file1 = open('myfile.txt', 'w')\n",
    "file1.writelines((L))\n",
    "file1.close()\n",
    "  \n",
    "# Using readline()\n",
    "file1 = open('myfile.txt', 'r')\n",
    "count = 0\n",
    "  \n",
    "while True:\n",
    "    count += 1\n",
    "  \n",
    "    # Get next line from file\n",
    "    line = file1.readline()\n",
    "  \n",
    "    # if line is empty\n",
    "    # end of file is reached\n",
    "    if not line:\n",
    "        break\n",
    "    print(\"Line{}: {}\".format(count, line.strip()))\n",
    "  \n",
    "file1.close()"
   ]
  },
  {
   "cell_type": "code",
   "execution_count": 34,
   "id": "88db1a78-d02a-4ff3-86e8-ab04f88a6f97",
   "metadata": {},
   "outputs": [
    {
     "data": {
      "text/plain": [
       "'(3)readlines(): The readlines() method is used to read all the lines of a file and return them as a list of strings. Each string in the list corresponds to a line in the file, including the newline character at the end of the line. Here is an example code that demonstrates the readlines() method:'"
      ]
     },
     "execution_count": 34,
     "metadata": {},
     "output_type": "execute_result"
    }
   ],
   "source": [
    "\"\"\"(3)readlines(): The readlines() method is used to read all the lines of a file and return them as a list of strings. Each string in the list corresponds to a line in the file, including the newline character at the end of the line. Here is an example code that demonstrates the readlines() method:\"\"\""
   ]
  },
  {
   "cell_type": "code",
   "execution_count": 35,
   "id": "b2ab5b74-f628-499e-ab59-976d3be2428b",
   "metadata": {},
   "outputs": [
    {
     "name": "stdout",
     "output_type": "stream",
     "text": [
      "Line1: I want to\n",
      "Line2: became a\n",
      "Line3: Data Scientist\n"
     ]
    }
   ],
   "source": [
    "L = [\"I want to \\n\", \"became a\\n\", \"Data Scientist\\n\"]\n",
    "  \n",
    "# writing to file\n",
    "file1 = open('myfile.txt', 'w')\n",
    "file1.writelines(L)\n",
    "file1.close()\n",
    "  \n",
    "# Using readlines()\n",
    "file1 = open('myfile.txt', 'r')\n",
    "Lines = file1.readlines()\n",
    "  \n",
    "count = 0\n",
    "# Strips the newline character\n",
    "for line in Lines:\n",
    "    count += 1\n",
    "    print(\"Line{}: {}\".format(count, line.strip()))"
   ]
  },
  {
   "cell_type": "markdown",
   "id": "6b7b6f35-8a91-4de3-9c94-ae3173621c1b",
   "metadata": {},
   "source": [
    "Q5. Explain why with statement is used with open(). What is the advantage of using with statement and\n",
    "open() together?"
   ]
  },
  {
   "cell_type": "code",
   "execution_count": 38,
   "id": "920688e1-952c-429c-85b8-56570d1eb9f2",
   "metadata": {},
   "outputs": [
    {
     "data": {
      "text/plain": [
       "'ANSWER:-The with statement in Python is used to automatically close a file after it has been used, regardless of whether an exception is raised. It is used in conjunction with the open() function to open a file and perform some operations on it.\\nThe advantage of using the with statement with the open() function is that it automatically handles the closing of the file. When the with block is exited, the file is automatically closed. This eliminates the need to manually close the file using the close() method, which can be prone to errors if the program terminates before the file is closed.\\n\\nexample code that demonstrates the use of the with statement with the open() function:'"
      ]
     },
     "execution_count": 38,
     "metadata": {},
     "output_type": "execute_result"
    }
   ],
   "source": [
    "\"\"\"ANSWER:-The with statement in Python is used to automatically close a file after it has been used, regardless of whether an exception is raised. It is used in conjunction with the open() function to open a file and perform some operations on it.\n",
    "The advantage of using the with statement with the open() function is that it automatically handles the closing of the file. When the with block is exited, the file is automatically closed. This eliminates the need to manually close the file using the close() method, which can be prone to errors if the program terminates before the file is closed.\n",
    "\n",
    "example code that demonstrates the use of the with statement with the open() function:\"\"\""
   ]
  },
  {
   "cell_type": "code",
   "execution_count": null,
   "id": "53019037-292a-4997-9f4e-41d90bd643e6",
   "metadata": {},
   "outputs": [],
   "source": [
    "# Open the file using with statement\n",
    "with open(\"example.txt\", \"r\") as file:\n",
    "    # Read the entire content of the file\n",
    "    content = file.read()\n",
    "    # Print the content of the file\n",
    "    print(content)\n",
    "# The file is automatically closed after the with block is exited\n"
   ]
  },
  {
   "cell_type": "code",
   "execution_count": 40,
   "id": "61eeaf9a-7ddd-4525-82b4-c34346e455d6",
   "metadata": {},
   "outputs": [
    {
     "data": {
      "text/plain": [
       "'In this example, the with statement is used to open the file in read mode and assign it to the file variable. The read() method is then used to read the entire content of the file, and the print() function is used to display the content on the console. After the with block is exited, the file is automatically closed.\\n\\nIn summary, using the with statement with the open() function has the advantage of automatically handling the closing of the file, which helps to prevent errors and simplify the code.\\n'"
      ]
     },
     "execution_count": 40,
     "metadata": {},
     "output_type": "execute_result"
    }
   ],
   "source": [
    "\"\"\"In this example, the with statement is used to open the file in read mode and assign it to the file variable. The read() method is then used to read the entire content of the file, and the print() function is used to display the content on the console. After the with block is exited, the file is automatically closed.\n",
    "\n",
    "In summary, using the with statement with the open() function has the advantage of automatically handling the closing of the file, which helps to prevent errors and simplify the code.\n",
    "\"\"\""
   ]
  },
  {
   "cell_type": "markdown",
   "id": "ce6fbe71-4564-420c-ac0a-a0b9dfdb456d",
   "metadata": {},
   "source": [
    "Q6. Explain the write() and writelines() functions. Give a suitable example."
   ]
  },
  {
   "cell_type": "code",
   "execution_count": 42,
   "id": "be38de6e-cb01-4ac0-a34f-79e3e50fcd2b",
   "metadata": {},
   "outputs": [
    {
     "data": {
      "text/plain": [
       "'In Python, the write() and writelines() functions are used to write data to a file. Here\\'s a brief explanation of each of these functions:\\n(1)write(): The write() function is used to write a string to a file. It takes a single string as an argument and writes it to the file. If the file is opened in write mode (\"w\"), the existing content of the file will be overwritten. If the file is opened in append mode (\"a\"), the new content will be added to the end of the file. Here\\'s an example code that demonstrates the write() function:'"
      ]
     },
     "execution_count": 42,
     "metadata": {},
     "output_type": "execute_result"
    }
   ],
   "source": [
    "\"\"\"In Python, the write() and writelines() functions are used to write data to a file. Here's a brief explanation of each of these functions:\n",
    "(1)write(): The write() function is used to write a string to a file. It takes a single string as an argument and writes it to the file. If the file is opened in write mode (\"w\"), the existing content of the file will be overwritten. If the file is opened in append mode (\"a\"), the new content will be added to the end of the file. Here's an example code that demonstrates the write() function:\"\"\""
   ]
  },
  {
   "cell_type": "code",
   "execution_count": 44,
   "id": "8b59e693-3a14-44ae-9d2c-575d9125bf38",
   "metadata": {},
   "outputs": [
    {
     "data": {
      "text/plain": [
       "'In this example, the write() function is used to write two strings to the file. The \"\\n\" character is used to add a newline at the end of each line.'"
      ]
     },
     "execution_count": 44,
     "metadata": {},
     "output_type": "execute_result"
    }
   ],
   "source": [
    "# Open the file in write mode\n",
    "file = open(\"example.txt\", \"w\")\n",
    "\n",
    "# Write a string to the file\n",
    "file.write(\"This is the first line.\\n\")\n",
    "\n",
    "# Write another string to the file\n",
    "file.write(\"This is the second line.\\n\")\n",
    "\n",
    "# Close the file\n",
    "file.close()\n",
    "\n",
    "\"\"\"In this example, the write() function is used to write two strings to the file. The \"\\n\" character is used to add a newline at the end of each line.\"\"\""
   ]
  },
  {
   "cell_type": "code",
   "execution_count": 45,
   "id": "78dbf442-bc53-4e76-b911-ba8adef30362",
   "metadata": {},
   "outputs": [
    {
     "data": {
      "text/plain": [
       "'(2)writelines(): The writelines() function is used to write a list of strings to a file. Each string in the list corresponds to a line in the file. If the file is opened in write mode (\"w\"), the existing content of the file will be overwritten. If the file is opened in append mode (\"a\"), the new content will be added to the end of the file. Here\\'s an example code that demonstrates the writelines() function:'"
      ]
     },
     "execution_count": 45,
     "metadata": {},
     "output_type": "execute_result"
    }
   ],
   "source": [
    "\"\"\"(2)writelines(): The writelines() function is used to write a list of strings to a file. Each string in the list corresponds to a line in the file. If the file is opened in write mode (\"w\"), the existing content of the file will be overwritten. If the file is opened in append mode (\"a\"), the new content will be added to the end of the file. Here's an example code that demonstrates the writelines() function:\"\"\""
   ]
  },
  {
   "cell_type": "code",
   "execution_count": 47,
   "id": "776f84c8-30b2-486e-897d-54fa1671596a",
   "metadata": {},
   "outputs": [
    {
     "data": {
      "text/plain": [
       "'In this example, the writelines() function is used to write a list of strings to the file. The \"\\n\" character is used to add a newline at the end of each line.\\n\\nIn summary, the write() and writelines() functions are used to write data to a file in Python. The write() function writes a single string to the file, while the writelines() function writes a list of strings to the file.'"
      ]
     },
     "execution_count": 47,
     "metadata": {},
     "output_type": "execute_result"
    }
   ],
   "source": [
    "# Open the file in write mode\n",
    "file = open(\"example.txt\", \"w\")\n",
    "\n",
    "# Create a list of strings\n",
    "lines = [\"This is the first line.\\n\", \"This is the second line.\\n\"]\n",
    "\n",
    "# Write the list of strings to the file\n",
    "file.writelines(lines)\n",
    "\n",
    "# Close the file\n",
    "file.close()\n",
    "\n",
    "\"\"\"In this example, the writelines() function is used to write a list of strings to the file. The \"\\n\" character is used to add a newline at the end of each line.\n",
    "\n",
    "In summary, the write() and writelines() functions are used to write data to a file in Python. The write() function writes a single string to the file, while the writelines() function writes a list of strings to the file.\"\"\"\n"
   ]
  },
  {
   "cell_type": "code",
   "execution_count": null,
   "id": "fb02600e-cedd-49d8-be49-5a9ff7b518f9",
   "metadata": {},
   "outputs": [],
   "source": []
  }
 ],
 "metadata": {
  "kernelspec": {
   "display_name": "Python 3 (ipykernel)",
   "language": "python",
   "name": "python3"
  },
  "language_info": {
   "codemirror_mode": {
    "name": "ipython",
    "version": 3
   },
   "file_extension": ".py",
   "mimetype": "text/x-python",
   "name": "python",
   "nbconvert_exporter": "python",
   "pygments_lexer": "ipython3",
   "version": "3.10.8"
  }
 },
 "nbformat": 4,
 "nbformat_minor": 5
}
