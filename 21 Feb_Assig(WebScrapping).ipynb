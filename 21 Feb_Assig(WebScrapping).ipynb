{
 "cells": [
  {
   "cell_type": "markdown",
   "id": "bf63c3b3-a348-45df-827c-883addd1d0d2",
   "metadata": {},
   "source": [
    "Q1. What is Web Scraping? Why is it Used? Give three areas where Web Scraping is used to get data."
   ]
  },
  {
   "cell_type": "markdown",
   "id": "b714f7a7-c44e-4810-a5e2-bf39087a5777",
   "metadata": {},
   "source": [
    "Answer:-Web scraping is the process of automatically extracting data from websites. It is used to gather large amounts of data from websites that would be otherwise time-consuming or difficult to collect manually.\n",
    "\n",
    "Three areas where web scraping is commonly used to gather data include:\n",
    "    \n",
    "(a)Business intelligence and market research\n",
    "(b)Price comparison and monitoring\n",
    "(c)Social media sentiment analysis and monitoring."
   ]
  },
  {
   "cell_type": "markdown",
   "id": "abca464f-5328-4ff0-abaf-a28bc2dcd74d",
   "metadata": {},
   "source": [
    "Q2. What are the different methods used for Web Scraping?"
   ]
  },
  {
   "cell_type": "markdown",
   "id": "10907a60-a31a-4184-a00b-6f0b86967531",
   "metadata": {},
   "source": [
    "Answer:-\n",
    "There are several methods used for web scraping, including:\n",
    "\n",
    "(a)Parsing HTML: Extracting data by parsing HTML directly using libraries such as BeautifulSoup or lxml.\n",
    "\n",
    "(b)Using APIs: Some websites provide APIs (Application Programming Interfaces) to allow programmatic access to their data, which can be used to extract information in a structured format.\n",
    "\n",
    "(c)Automated browsing: This involves using browser automation tools such as Selenium to simulate human browsing behavior and extract data from web pages.\n",
    "\n",
    "(d)Scraping tools and services: There are several scraping tools and services available that can automate the web scraping process, such as Scrapy and ParseHub.\n",
    "\n",
    "(e)Reverse engineering: This involves analyzing the structure and behavior of a website to determine how it operates and extract data through various methods, such as network traffic analysis or reverse engineering of mobile apps."
   ]
  },
  {
   "cell_type": "markdown",
   "id": "1d2ab54e-a26b-489f-ba97-8e71623a230f",
   "metadata": {},
   "source": [
    "Q3. What is Beautiful Soup? Why is it used?"
   ]
  },
  {
   "cell_type": "markdown",
   "id": "ee79cd92-d05e-4a88-af41-3037fadab2e2",
   "metadata": {},
   "source": [
    "Answer:-Beautiful Soup is a Python library used for web scraping purposes. It provides a convenient and easy-to-use interface for parsing HTML and XML documents, allowing users to extract data from web pages in a structured format. Beautiful Soup can handle poorly formed HTML and XML documents and can navigate through the parse tree to extract the required data. It is widely used in web scraping projects due to its flexibility, speed, and ability to work with different types of data sources."
   ]
  },
  {
   "cell_type": "markdown",
   "id": "55859463-53e7-404a-9b31-ed3cb87b4ad2",
   "metadata": {},
   "source": [
    "Q4. Why is flask used in this Web Scraping project?"
   ]
  },
  {
   "cell_type": "markdown",
   "id": "f48fd161-d6e7-4e40-b4a3-6d4371fc5068",
   "metadata": {},
   "source": [
    "Answer:-Flask is a lightweight and flexible web framework in Python that is commonly used to build web applications. In this web scraping project, Flask can be used to create a web application that allows users to input their search queries and see the scraped data in a user-friendly format. Flask can handle HTTP requests and responses, and can also integrate with various web scraping tools and libraries. By using Flask, developers can create a simple and customizable web interface for their web scraping project without the need for a full-fledged web application framework."
   ]
  },
  {
   "cell_type": "markdown",
   "id": "b3f1f4cf-a1c2-498f-aac1-0cb0b456f854",
   "metadata": {},
   "source": [
    "Q5. Write the names of AWS services used in this project. Also, explain the use of each service."
   ]
  },
  {
   "cell_type": "markdown",
   "id": "9006a12e-66ee-4554-bada-b034050f54ea",
   "metadata": {},
   "source": [
    "Answer:-\n",
    "I can give you an overview of some of the most commonly used AWS services and their uses:\n",
    "    \n",
    "Amazon EC2 (Elastic Compute Cloud) - A web service that provides resizable compute capacity in the cloud, designed to make web-scale cloud computing easier for developers.\n",
    "\n",
    "Amazon S3 (Simple Storage Service) - An object storage service that offers industry-leading scalability, data availability, security, and performance.\n",
    "\n",
    "Amazon RDS (Relational Database Service) - A web service that makes it easy to set up, operate, and scale a relational database in the cloud.\n",
    "\n",
    "Amazon Redshift - A fully managed, petabyte-scale data warehouse service that makes it simple and cost-effective to analyze all of your data using your existing business intelligence tools.\n",
    "\n",
    "Amazon EMR (Elastic MapReduce) - A web service that makes it easy to process large amounts of data efficiently.\n",
    "\n",
    "Amazon CloudFront - A content delivery network (CDN) that securely delivers data, videos, applications, and APIs to customers globally with low latency, high transfer speeds, all within a developer-friendly environment.\n",
    "\n",
    "Amazon Elastic Beanstalk - A fully managed service that makes it easy to deploy and run applications in multiple languages.\n",
    "\n",
    "Amazon Lambda - A compute service that runs your code in response to events and automatically manages the compute resources for you, making it easy to build and run applications that respond quickly to new information.\n",
    "\n",
    "These are just a few examples of the many services provided by AWS, each designed to meet different needs and use cases."
   ]
  },
  {
   "cell_type": "code",
   "execution_count": 1,
   "id": "c04e3cc7-322d-48ea-a93f-93cb79e4489d",
   "metadata": {},
   "outputs": [
    {
     "data": {
      "text/plain": [
       "'Thanks'"
      ]
     },
     "execution_count": 1,
     "metadata": {},
     "output_type": "execute_result"
    }
   ],
   "source": [
    "\"\"\"Thanks\"\"\""
   ]
  },
  {
   "cell_type": "code",
   "execution_count": null,
   "id": "e59bc3a0-9737-4a1e-8520-e0bbdd5ac4f1",
   "metadata": {},
   "outputs": [],
   "source": []
  }
 ],
 "metadata": {
  "kernelspec": {
   "display_name": "Python 3 (ipykernel)",
   "language": "python",
   "name": "python3"
  },
  "language_info": {
   "codemirror_mode": {
    "name": "ipython",
    "version": 3
   },
   "file_extension": ".py",
   "mimetype": "text/x-python",
   "name": "python",
   "nbconvert_exporter": "python",
   "pygments_lexer": "ipython3",
   "version": "3.10.8"
  }
 },
 "nbformat": 4,
 "nbformat_minor": 5
}
