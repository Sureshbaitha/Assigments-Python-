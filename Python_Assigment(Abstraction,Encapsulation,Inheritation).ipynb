{
 "cells": [
  {
   "cell_type": "markdown",
   "id": "5806ab84-1a57-4257-be17-9a65cea8e327",
   "metadata": {},
   "source": [
    "Q1. What is Abstraction in OOps? Explain with an example."
   ]
  },
  {
   "cell_type": "code",
   "execution_count": 1,
   "id": "3a43889b-08f1-4ff9-b462-56ce00556d7d",
   "metadata": {},
   "outputs": [
    {
     "data": {
      "text/plain": [
       "'Answer:-Abstraction in python is defined as hiding the implementation of logic from the client and using a particular application. And the most important key feature of Object-Oriented Programming. It hides the irrelevant data specified in the project, reducing complexity and giving value to efficiency. Abstraction is made in Python using Abstract classes and their methods in the code.'"
      ]
     },
     "execution_count": 1,
     "metadata": {},
     "output_type": "execute_result"
    }
   ],
   "source": [
    "\"\"\"Answer:-Abstraction in python is defined as hiding the implementation of logic from the client and using a particular application. And the most important key feature of Object-Oriented Programming. It hides the irrelevant data specified in the project, reducing complexity and giving value to efficiency. Abstraction is made in Python using Abstract classes and their methods in the code.\"\"\""
   ]
  },
  {
   "cell_type": "code",
   "execution_count": 11,
   "id": "13a73893-a36d-480f-9803-53ea311e2fc1",
   "metadata": {},
   "outputs": [],
   "source": [
    "#Examples\n",
    "def test(a , b ) :\n",
    "    return a+b "
   ]
  },
  {
   "cell_type": "code",
   "execution_count": 12,
   "id": "1e42c593-494c-4b1c-aff0-7afc3170624d",
   "metadata": {},
   "outputs": [
    {
     "data": {
      "text/plain": [
       "14"
      ]
     },
     "execution_count": 12,
     "metadata": {},
     "output_type": "execute_result"
    }
   ],
   "source": [
    "test(10,4)"
   ]
  },
  {
   "cell_type": "code",
   "execution_count": 13,
   "id": "d2ca920d-10ab-41a3-99a8-57add4eaa8b9",
   "metadata": {},
   "outputs": [
    {
     "data": {
      "text/plain": [
       "'suresh kumar '"
      ]
     },
     "execution_count": 13,
     "metadata": {},
     "output_type": "execute_result"
    }
   ],
   "source": [
    "test(\"suresh \" , \"kumar \" )"
   ]
  },
  {
   "cell_type": "code",
   "execution_count": 14,
   "id": "54ac6969-b508-4acb-a850-daa463506232",
   "metadata": {},
   "outputs": [
    {
     "data": {
      "text/plain": [
       "[3, 4, 5, 6, 45, 767, 67]"
      ]
     },
     "execution_count": 14,
     "metadata": {},
     "output_type": "execute_result"
    }
   ],
   "source": [
    "test([3,4,5,6] , [45,767,67])"
   ]
  },
  {
   "cell_type": "code",
   "execution_count": 15,
   "id": "0422aa18-7523-409d-ae71-c1074c06bdb1",
   "metadata": {},
   "outputs": [],
   "source": [
    "class data_science:\n",
    "    \n",
    "    def syllabus(self) : \n",
    "        print(\"this is my syllabus for data science masters \")"
   ]
  },
  {
   "cell_type": "code",
   "execution_count": 16,
   "id": "120625dd-2f04-4cf2-b7d6-9c8712b44563",
   "metadata": {},
   "outputs": [],
   "source": [
    "class web_dev:\n",
    "    \n",
    "    def syllabus(self) : \n",
    "        print(\"this is  my subllabus for web dev\" )"
   ]
  },
  {
   "cell_type": "code",
   "execution_count": 17,
   "id": "3bb3ccb9-ac16-4b35-89e1-a67ca79e44fd",
   "metadata": {},
   "outputs": [],
   "source": [
    "def class_parcer(class_obj):\n",
    "    for i in class_obj : \n",
    "        i.syllabus()"
   ]
  },
  {
   "cell_type": "code",
   "execution_count": 18,
   "id": "707a7ecd-a56d-4fd4-9bf2-4105d749aa71",
   "metadata": {},
   "outputs": [],
   "source": [
    "data_science = data_science()"
   ]
  },
  {
   "cell_type": "code",
   "execution_count": 19,
   "id": "4c09b5a2-b689-4f32-b5b3-e10142c65b59",
   "metadata": {},
   "outputs": [],
   "source": [
    "web_dev = web_dev()"
   ]
  },
  {
   "cell_type": "code",
   "execution_count": 20,
   "id": "92a4c1e1-0ea9-4785-9ae7-fe56b0dd28f2",
   "metadata": {},
   "outputs": [],
   "source": [
    "class_obj = [data_science , web_dev]\n"
   ]
  },
  {
   "cell_type": "code",
   "execution_count": 21,
   "id": "f45edff1-ccb2-4503-ab2c-374c7e9f61c6",
   "metadata": {},
   "outputs": [
    {
     "name": "stdout",
     "output_type": "stream",
     "text": [
      "this is my syllabus for data science masters \n",
      "this is  my subllabus for web dev\n"
     ]
    }
   ],
   "source": [
    "class_parcer(class_obj)"
   ]
  },
  {
   "cell_type": "markdown",
   "id": "5e7bc5c2-a2f7-41c8-9273-a1ab4b65adf7",
   "metadata": {},
   "source": [
    "Q2. Differentiate between Abstraction and Encapsulation. Explain with an example."
   ]
  },
  {
   "cell_type": "code",
   "execution_count": 23,
   "id": "a1472445-660e-4ce0-96aa-b2eaffb5aa19",
   "metadata": {},
   "outputs": [
    {
     "data": {
      "text/plain": [
       "'Answer:-Abstraction and Encapsulation are two important concepts in Object-Oriented Programming (OOP) that help in organizing the code at more maintainable and scalable.\\nnd making i\\nAbstraction:- refers to the process of hiding the complexity of a system and exposing only the necessary details to the users. \\n              It allows the user to focus on what the system does, rather than how it does it.\\n\\nEncapsulation:- refers to the wrapping of data and functions into a single unit, or object. \\n               It provides a secure mechanism for hiding the data and functions of an object, making the code more flexible, maintainable and scalable.'"
      ]
     },
     "execution_count": 23,
     "metadata": {},
     "output_type": "execute_result"
    }
   ],
   "source": [
    "\"\"\"Answer:-Abstraction and Encapsulation are two important concepts in Object-Oriented Programming (OOP) that help in organizing the code at more maintainable and scalable.\n",
    "nd making i\n",
    "Abstraction:- refers to the process of hiding the complexity of a system and exposing only the necessary details to the users. \n",
    "              It allows the user to focus on what the system does, rather than how it does it.\n",
    "\n",
    "Encapsulation:- refers to the wrapping of data and functions into a single unit, or object. \n",
    "               It provides a secure mechanism for hiding the data and functions of an object, making the code more flexible, maintainable and scalable.\"\"\""
   ]
  },
  {
   "cell_type": "code",
   "execution_count": 25,
   "id": "2d844130-101a-4d24-b243-2d2d8574e839",
   "metadata": {},
   "outputs": [
    {
     "data": {
      "text/plain": [
       "'In this example, the BankAccount class provides an abstraction of a bank account. The user can perform operations such as checking the balance, depositing and withdrawing money, without worrying about the implementation details. The implementation details, such as the account number and balance, are hidden from the user and can only be accessed through the methods provided by the class, which is an example of encapsulation.'"
      ]
     },
     "execution_count": 25,
     "metadata": {},
     "output_type": "execute_result"
    }
   ],
   "source": [
    "\"\"\"Here's an example in Python to illustrate the concepts of Abstraction and Encapsulation:\"\"\"\n",
    "class BankAccount:\n",
    "    def __init__(self, account_number, balance):\n",
    "        self.__account_number = account_number\n",
    "        self.__balance = balance\n",
    "\n",
    "    def get_balance(self):\n",
    "        return self.__balance\n",
    "\n",
    "    def deposit(self, amount):\n",
    "        self.__balance += amount\n",
    "        return self.__balance\n",
    "\n",
    "    def withdraw(self, amount):\n",
    "        if amount > self.__balance:\n",
    "            return \"Insufficient balance\"\n",
    "        else:\n",
    "            self.__balance -= amount\n",
    "            return self.__balance\n",
    "        \n",
    "\"\"\"In this example, the BankAccount class provides an abstraction of a bank account. The user can perform operations such as checking the balance, depositing and withdrawing money, without worrying about the implementation details. The implementation details, such as the account number and balance, are hidden from the user and can only be accessed through the methods provided by the class, which is an example of encapsulation.\"\"\""
   ]
  },
  {
   "cell_type": "markdown",
   "id": "42369129-d85f-4fc1-a918-319f775c4e78",
   "metadata": {},
   "source": [
    "Q3. What is abc module in python? Why is it used?"
   ]
  },
  {
   "cell_type": "code",
   "execution_count": 26,
   "id": "5081acad-ed24-45c8-b551-103a664fca3b",
   "metadata": {},
   "outputs": [
    {
     "data": {
      "text/plain": [
       "'Answer:-The abc module in Python stands for \"Abstract Base Classes\". It provides a way to define abstract base classes in Python, which are classes that cannot be instantiated, but can be subclassed. Abstract base classes are used to define a common interface for a set of related classes, allowing you to define the expected methods and properties that these classes should have.\\n\\nAn abstract base class is created by using the abc.ABC meta-class, which is a subclass of the type meta-class. To define an abstract method, you can use the @abc.abstractmethod decorator. Any class that inherits from an abstract base class must implement all of its abstract methods, or else it will raise a TypeError when it is instantiated.'"
      ]
     },
     "execution_count": 26,
     "metadata": {},
     "output_type": "execute_result"
    }
   ],
   "source": [
    "\"\"\"Answer:-The abc module in Python stands for \"Abstract Base Classes\". It provides a way to define abstract base classes in Python, which are classes that cannot be instantiated, but can be subclassed. Abstract base classes are used to define a common interface for a set of related classes, allowing you to define the expected methods and properties that these classes should have.\n",
    "\n",
    "An abstract base class is created by using the abc.ABC meta-class, which is a subclass of the type meta-class. To define an abstract method, you can use the @abc.abstractmethod decorator. Any class that inherits from an abstract base class must implement all of its abstract methods, or else it will raise a TypeError when it is instantiated.\"\"\""
   ]
  },
  {
   "cell_type": "code",
   "execution_count": 27,
   "id": "32f8bfe4-ad97-48fb-b15e-0364c3fd2e52",
   "metadata": {},
   "outputs": [
    {
     "data": {
      "text/plain": [
       "'In this example, the Shape class is an abstract base class that defines an abstract method area(). The Square and Circle classes inherit from the Shape class and implement the area() method. Since the Square and Circle classes have implemented the area() method, they can be instantiated without raising a TypeError.'"
      ]
     },
     "execution_count": 27,
     "metadata": {},
     "output_type": "execute_result"
    }
   ],
   "source": [
    "\"\"\"Here's an example of how you can use the abc module to define an abstract base class in Python:\"\"\"\n",
    "import abc\n",
    "\n",
    "class Shape(metaclass=abc.ABCMeta):\n",
    "    @abc.abstractmethod\n",
    "    def area(self):\n",
    "        pass\n",
    "\n",
    "class Square(Shape):\n",
    "    def __init__(self, side_length):\n",
    "        self.side_length = side_length\n",
    "\n",
    "    def area(self):\n",
    "        return self.side_length ** 2\n",
    "\n",
    "class Circle(Shape):\n",
    "    def __init__(self, radius):\n",
    "        self.radius = radius\n",
    "\n",
    "    def area(self):\n",
    "        return 3.14 * self.radius ** 2\n",
    "    \n",
    "\"\"\"In this example, the Shape class is an abstract base class that defines an abstract method area(). The Square and Circle classes inherit from the Shape class and implement the area() method. Since the Square and Circle classes have implemented the area() method, they can be instantiated without raising a TypeError.\"\"\""
   ]
  },
  {
   "cell_type": "markdown",
   "id": "450ffb57-8f5b-4783-b7fc-089600adec80",
   "metadata": {},
   "source": [
    "Q4. How can we achieve data abstraction?"
   ]
  },
  {
   "cell_type": "code",
   "execution_count": 28,
   "id": "5f231e5e-a163-49a5-8ead-c842ba6b17b2",
   "metadata": {},
   "outputs": [
    {
     "data": {
      "text/plain": [
       "'Answer:-Data abstraction is a technique used to hide the implementation details of data and provide only the necessary information to the user. The goal of data abstraction is to reduce the complexity of the system and make it more manageable and scalable.\\nThere are several ways to achieve data abstraction in programming, including:\\n1.Encapsulation\\n2.bstract data types\\n3.Interfaces\\nBy using these techniques, you can achieve data abstraction in programming and make the code more manageable and scalable.'"
      ]
     },
     "execution_count": 28,
     "metadata": {},
     "output_type": "execute_result"
    }
   ],
   "source": [
    "\"\"\"Answer:-Data abstraction is a technique used to hide the implementation details of data and provide only the necessary information to the user. The goal of data abstraction is to reduce the complexity of the system and make it more manageable and scalable.\n",
    "There are several ways to achieve data abstraction in programming, including:\n",
    "1.Encapsulation\n",
    "2.bstract data types\n",
    "3.Interfaces\n",
    "By using these techniques, you can achieve data abstraction in programming and make the code more manageable and scalable.\"\"\""
   ]
  },
  {
   "cell_type": "markdown",
   "id": "8cb2687f-0583-42fa-95df-8c743f72b9ac",
   "metadata": {},
   "source": [
    "Q5. Can we create an instance of an abstract class? Explain your answer."
   ]
  },
  {
   "cell_type": "code",
   "execution_count": 29,
   "id": "1d96f51d-0c23-4152-a452-89a947016d17",
   "metadata": {},
   "outputs": [
    {
     "data": {
      "text/plain": [
       "'Answer:-No, you cannot create an instance of an abstract class. An abstract class is a class that cannot be instantiated, but can be subclassed. The purpose of an abstract class is to define a common interface for a set of related classes, allowing you to define the expected methods and properties that these classes should have.\\n\\nAbstract classes are meant to be subclassed, and the subclasses are expected to provide concrete implementations for the abstract methods defined in the abstract class. Only the concrete subclasses of an abstract class can be instantiated.'"
      ]
     },
     "execution_count": 29,
     "metadata": {},
     "output_type": "execute_result"
    }
   ],
   "source": [
    "\"\"\"Answer:-No, you cannot create an instance of an abstract class. An abstract class is a class that cannot be instantiated, but can be subclassed. The purpose of an abstract class is to define a common interface for a set of related classes, allowing you to define the expected methods and properties that these classes should have.\n",
    "\n",
    "Abstract classes are meant to be subclassed, and the subclasses are expected to provide concrete implementations for the abstract methods defined in the abstract class. Only the concrete subclasses of an abstract class can be instantiated.\"\"\""
   ]
  },
  {
   "cell_type": "code",
   "execution_count": null,
   "id": "abab94fd-fa10-4125-857b-e3730b20fcbd",
   "metadata": {},
   "outputs": [],
   "source": []
  }
 ],
 "metadata": {
  "kernelspec": {
   "display_name": "Python 3 (ipykernel)",
   "language": "python",
   "name": "python3"
  },
  "language_info": {
   "codemirror_mode": {
    "name": "ipython",
    "version": 3
   },
   "file_extension": ".py",
   "mimetype": "text/x-python",
   "name": "python",
   "nbconvert_exporter": "python",
   "pygments_lexer": "ipython3",
   "version": "3.10.8"
  }
 },
 "nbformat": 4,
 "nbformat_minor": 5
}
