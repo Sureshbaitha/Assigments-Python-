{
 "cells": [
  {
   "cell_type": "markdown",
   "id": "6fd54c71-75e9-450c-93f3-3150c966161e",
   "metadata": {},
   "source": [
    "Q1. What is Flask Framework? What are the advantages of Flask Framework?"
   ]
  },
  {
   "cell_type": "markdown",
   "id": "57401d3d-a3cf-4529-ba8a-352d6600a307",
   "metadata": {},
   "source": [
    "Answer:-Flask is a lightweight and flexible Python web framework that allows developers to build web applications quickly and easily. It is considered a \"micro\" framework because it doesn't require particular tools or libraries, and it has a simple core with extensible features. Flask provides the bare essentials for developing web applications, such as routing, HTTP request handling, and response generation.\n",
    "\n",
    "Advantages of Flask Framework:"
   ]
  },
  {
   "cell_type": "markdown",
   "id": "a3f0ac9f-907a-49c6-b638-c91c1038749d",
   "metadata": {},
   "source": [
    "(a)Lightweight: Flask is a lightweight framework that doesn't require any particular libraries or tools, making it easy to set up and get started with.\n",
    "\n",
    "(b)Flexibility: Flask is a flexible framework that allows developers to customize and extend its functionality with ease.\n",
    "\n",
    "(c)Easy to learn: Flask has a simple and intuitive API that makes it easy for developers to learn and use.\n",
    "\n",
    "(d)Compatibility: Flask is compatible with a wide range of other Python libraries and tools, allowing developers to integrate it with their existing projects.\n",
    "\n",
    "(e)Scalability: Flask is scalable and can be used to build applications of any size, from small single-page apps to large-scale enterprise applications."
   ]
  },
  {
   "cell_type": "markdown",
   "id": "1ae90cdf-6b6a-4ac7-a34d-5dbf2f499fbc",
   "metadata": {},
   "source": [
    "Q2. Create a simple Flask application to display ‘Hello World!!’. Attach the screenshot of the output in\n",
    "Jupyter Notebook."
   ]
  },
  {
   "cell_type": "markdown",
   "id": "c28a18f5-586d-4f13-af64-886f33d6d7a5",
   "metadata": {},
   "source": [
    "Answer:-As an AI language model, I don't have access to create a Flask application and display its output in Jupyter Notebook. However, I can provide you with the code to create a Flask application that displays 'Hello World!!'. Here's the code:"
   ]
  },
  {
   "cell_type": "markdown",
   "id": "7ef24f40-6b13-4cb4-a297-9265a3e1f3e6",
   "metadata": {},
   "source": [
    "<img src=\"Screenshot 2023-03-02 102017_Hello_world_code.png\" style=\"width:600px:height:590px\"/>"
   ]
  },
  {
   "cell_type": "markdown",
   "id": "d0ebd026-e39d-4002-9723-8fb5f342d111",
   "metadata": {},
   "source": [
    "<img src=\"Screenshot 2023-03-02 101842_Hello_world.png\" style=\"width:600px:height:200px\"/>"
   ]
  },
  {
   "cell_type": "markdown",
   "id": "63bb0287-1c0f-4893-8ca6-ae597cee1409",
   "metadata": {},
   "source": [
    "Q3. What is App routing in Flask? Why do we use app routes?"
   ]
  },
  {
   "cell_type": "markdown",
   "id": "17a55c68-5a90-4f9b-a997-2d89dcf957c5",
   "metadata": {},
   "source": [
    "Answer:-App routing in Flask refers to the process of defining the URLs or routes that a Flask application can respond to. In other words, it is the process of mapping a URL to a particular function or view in the Flask application.\n",
    "\n",
    "To define an app route in Flask, we use the @app.route() decorator to specify the URL or route that we want to respond to, and then we define a function that will be executed when that route is accessed. For example, we can define a route for the homepage of our Flask application as follows:"
   ]
  },
  {
   "cell_type": "markdown",
   "id": "93d66574-d83c-4f7f-afe4-d11fc8141a6c",
   "metadata": {},
   "source": [
    "<img src=\"Screenshot 2023-03-02 flask route.png\" style=\"width:600px;height:100px\"/>"
   ]
  },
  {
   "cell_type": "markdown",
   "id": "7296d292-69d9-4212-bb95-a62c68c6a000",
   "metadata": {},
   "source": [
    "Here, the @app.route('/') decorator tells Flask to respond to requests for the root URL (i.e., http://localhost:5000/) with the index() function.\n",
    "\n",
    "We use app routes in Flask to create a URL structure for our web application that makes it easy for users to navigate and access different parts of the application. App routes help organize the functionality of our application into discrete functions or views that can be easily maintained and tested. They also allow us to handle different HTTP methods such as GET, POST, PUT, DELETE, etc. by specifying different functions for each route."
   ]
  },
  {
   "cell_type": "markdown",
   "id": "07ad99ad-f350-47c8-ad69-e85b7a23e8a3",
   "metadata": {},
   "source": [
    "Q4. Create a “/welcome” route to display the welcome message “Welcome to ABC Corporation” and a “/”\n",
    "route to show the following details:\n",
    "Company Name: ABC Corporation\n",
    "Location: India\n",
    "Contact Detail: 999-999-9999"
   ]
  },
  {
   "cell_type": "markdown",
   "id": "e1dd34bf-cbd8-435e-944a-7eab1bc187a0",
   "metadata": {},
   "source": [
    "<img src=\"Screenshot 2023-03-02 program code.png\" style=\"width:700px;height:400px\"/>"
   ]
  },
  {
   "cell_type": "markdown",
   "id": "5c9eb044-fa28-401c-a536-e6ff1c734c12",
   "metadata": {},
   "source": [
    "<img src=\"Screenshot 2023-03-02_result.png\" style=\"width:700px;height:300px\"/>"
   ]
  },
  {
   "cell_type": "markdown",
   "id": "70e61da2-1234-4293-8860-2a7d95653270",
   "metadata": {},
   "source": [
    "Q5. What function is used in Flask for URL Building? Write a Python code to demonstrate the working of the\n",
    "url_for() function."
   ]
  },
  {
   "cell_type": "markdown",
   "id": "ea2039f3-925c-4002-88c3-18d9cb2c57a9",
   "metadata": {},
   "source": [
    "Answer:-n Flask, the url_for() function is used for URL building. It generates a URL based on the endpoint name and any arguments provided to it. The url_for() function takes the name of the endpoint as its first argument, and any number of keyword arguments that represent the variables in the URL rule associated with the endpoint. Here's an example of how to use the url_for() function in a Flask application:"
   ]
  },
  {
   "cell_type": "markdown",
   "id": "91eeeedd-1445-4b79-b61a-c92106159e91",
   "metadata": {},
   "source": [
    "<img src=\"Screenshot 2023-03-02code_05.png\" style=\"width:1000px;height:500px\"/>"
   ]
  },
  {
   "cell_type": "code",
   "execution_count": 1,
   "id": "98428578-9515-4387-b768-1408b2b1edbe",
   "metadata": {},
   "outputs": [
    {
     "data": {
      "text/plain": [
       "'In this example, we have defined three app routes: index(), hello(), and profile(). The url_for() function is used to generate URLs for these routes based on their endpoint names and any arguments provided.'"
      ]
     },
     "execution_count": 1,
     "metadata": {},
     "output_type": "execute_result"
    }
   ],
   "source": [
    "\"\"\"In this example, we have defined three app routes: index(), hello(), and profile(). The url_for() function is used to generate URLs for these routes based on their endpoint names and any arguments provided.\"\"\""
   ]
  },
  {
   "cell_type": "code",
   "execution_count": null,
   "id": "e85f5964-00d0-40f6-8ae0-c132435ce3ba",
   "metadata": {},
   "outputs": [],
   "source": []
  }
 ],
 "metadata": {
  "kernelspec": {
   "display_name": "Python 3 (ipykernel)",
   "language": "python",
   "name": "python3"
  },
  "language_info": {
   "codemirror_mode": {
    "name": "ipython",
    "version": 3
   },
   "file_extension": ".py",
   "mimetype": "text/x-python",
   "name": "python",
   "nbconvert_exporter": "python",
   "pygments_lexer": "ipython3",
   "version": "3.10.8"
  }
 },
 "nbformat": 4,
 "nbformat_minor": 5
}
