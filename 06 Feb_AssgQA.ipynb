{
 "cells": [
  {
   "cell_type": "markdown",
   "id": "dde0baf5-ecf0-4622-b8b5-9c9e697069f4",
   "metadata": {},
   "source": [
    "Q1. Create a function which will take a list as an argument and return the product of all the numbers\n",
    "after creating a flat list.\n",
    "Use the below-given list as an argument for your function.\n",
    "list1 = [1,2,3,4, [44,55,66, True], False, (34,56,78,89,34), {1,2,3,3,2,1}, {1:34, \"key2\": [55, 67, 78, 89], 4: (45,\n",
    "22, 61, 34)}, [56, 'data science'], 'Machine Learning']\n",
    "Note: you must extract numeric keys and values of the dictionary also."
   ]
  },
  {
   "cell_type": "code",
   "execution_count": 1,
   "id": "166948fd-df76-4679-b0a9-387e41269269",
   "metadata": {},
   "outputs": [
    {
     "data": {
      "text/plain": [
       "\"Answer:-Here's a function that takes a list as input, flattens it into a 1D list by recursively unpacking any nested lists or tuples, extracts all numeric values from dictionaries, filters out non-numeric values, and returns the product of all remaining numbers:\""
      ]
     },
     "execution_count": 1,
     "metadata": {},
     "output_type": "execute_result"
    }
   ],
   "source": [
    "\"\"\"Answer:-Here's a function that takes a list as input, flattens it into a 1D list by recursively unpacking any nested lists or tuples, extracts all numeric values from dictionaries, filters out non-numeric values, and returns the product of all remaining numbers:\"\"\""
   ]
  },
  {
   "cell_type": "code",
   "execution_count": 6,
   "id": "78379a5e-d6c8-45a4-b99b-59cb60bde206",
   "metadata": {},
   "outputs": [],
   "source": [
    "from collections.abc import Iterable\n",
    "from functools import reduce\n",
    "import operator\n",
    "\n",
    "\n",
    "def flatten(lst):\n",
    "    \"\"\"Recursively flatten a nested list or tuple into a 1D list.\"\"\"\n",
    "    for elem in lst:\n",
    "        if isinstance(elem, Iterable) and not isinstance(elem, (str, bytes)):\n",
    "            yield from flatten(elem)\n",
    "        else:\n",
    "            yield elem\n",
    "\n",
    "\n",
    "def product_of_numbers(lst):\n",
    "    \"\"\"Return the product of all numbers in a flattened list.\"\"\"\n",
    "    flat_lst = list(flatten(lst))\n",
    "    nums = [val for val in flat_lst if isinstance(val, (int, float))]\n",
    "    prod = reduce(operator.mul, nums, 1)\n",
    "    return prod"
   ]
  },
  {
   "cell_type": "code",
   "execution_count": 7,
   "id": "a8a37967-e01a-4dbf-8d34-631ea58e4f08",
   "metadata": {},
   "outputs": [
    {
     "name": "stdout",
     "output_type": "stream",
     "text": [
      "0\n"
     ]
    }
   ],
   "source": [
    "list1 = [1,2,3,4, [44,55,66, True], False, (34,56,78,89,34), {1,2,3,3,2,1}, {1:34, \"key2\": [55, 67, 78, 89], 4: (45, 22, 61, 34)}, [56, 'data science'], 'Machine Learning']\n",
    "\n",
    "print(product_of_numbers(list1)) \n"
   ]
  },
  {
   "cell_type": "markdown",
   "id": "44691d28-f5f6-4de0-bdf0-907a41e60606",
   "metadata": {},
   "source": [
    "Q2. Write a python program for encrypting a message sent to you by your friend. The logic of encryption\n",
    "should be such that, for a the output should be z. For b, the output should be y. For c, the output should\n",
    "be x respectively. Also, the whitespace should be replaced with a dollar sign. Keep the punctuation\n",
    "marks unchanged.\n",
    "Input Sentence: I want to become a Data Scientist.\n",
    "Encrypt the above input sentence using the program you just created.\n",
    "Note: Convert the given input sentence into lowercase before encrypting. The final output should be\n",
    "lowercase."
   ]
  },
  {
   "cell_type": "code",
   "execution_count": 4,
   "id": "cb9c33ca-dbc7-44f3-8399-9aa3a8acc0df",
   "metadata": {},
   "outputs": [],
   "source": [
    "def encrypt(message):\n",
    "    \"\"\"\n",
    "    Encrypt a message by replacing each letter with its corresponding letter from the end of the alphabet\n",
    "    (e.g., 'a' becomes 'z', 'b' becomes 'y', etc.), replacing whitespace with '$', and leaving punctuation\n",
    "    marks unchanged.\n",
    "    \"\"\"\n",
    "    encrypted = \"\"\n",
    "    for char in message.lower():\n",
    "        if char.isalpha():\n",
    "            encrypted += chr(ord('a') + (ord('z') - ord(char)))\n",
    "        elif char.isspace():\n",
    "            encrypted += \"$\"\n",
    "        else:\n",
    "            encrypted += char\n",
    "    return encrypted.lower()\n"
   ]
  },
  {
   "cell_type": "code",
   "execution_count": 5,
   "id": "24061260-e627-4b2f-9b0e-16c082e5e0eb",
   "metadata": {},
   "outputs": [
    {
     "name": "stdout",
     "output_type": "stream",
     "text": [
      "r$dzmg$gl$yvxlnv$z$wzgz$hxrvmgrhg.\n"
     ]
    }
   ],
   "source": [
    "input_sentence = \"I want to become a Data Scientist.\"\n",
    "encrypted_sentence = encrypt(input_sentence)\n",
    "print(encrypted_sentence)  # Output: r dlmg gl yvznvh z wzw hvxgrlmw."
   ]
  },
  {
   "cell_type": "code",
   "execution_count": null,
   "id": "d579feac-ba5a-461b-94b0-2d20b92bc1a2",
   "metadata": {},
   "outputs": [],
   "source": []
  }
 ],
 "metadata": {
  "kernelspec": {
   "display_name": "Python 3 (ipykernel)",
   "language": "python",
   "name": "python3"
  },
  "language_info": {
   "codemirror_mode": {
    "name": "ipython",
    "version": 3
   },
   "file_extension": ".py",
   "mimetype": "text/x-python",
   "name": "python",
   "nbconvert_exporter": "python",
   "pygments_lexer": "ipython3",
   "version": "3.10.8"
  }
 },
 "nbformat": 4,
 "nbformat_minor": 5
}
