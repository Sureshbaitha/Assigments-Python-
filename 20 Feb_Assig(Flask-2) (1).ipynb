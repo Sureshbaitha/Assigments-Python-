{
 "cells": [
  {
   "cell_type": "markdown",
   "id": "c40b5882-8de6-449f-873b-afa679bac011",
   "metadata": {},
   "source": [
    "Q1. Explain GET and POST methods."
   ]
  },
  {
   "cell_type": "markdown",
   "id": "4c8e16ca-3950-4b88-9c74-0fd351f5bf0e",
   "metadata": {},
   "source": [
    "Answer:-The GET and POST methods are HTTP request methods used to retrieve and send data between a client and server.\n",
    "\n",
    "GET:\n",
    "(a)Used to retrieve data from a server\n",
    "(b)Data is sent in the URL query string\n",
    "(c)Limited data can be sent in a URL (usually less than 2KB)\n",
    "(d)Idempotent (multiple identical requests have the same effect as a single request)\n",
    "\n",
    "POST:\n",
    "(a)Used to send data to a server\n",
    "(b)Data is sent in the request body\n",
    "(c)Can send larger amounts of data than a GET request\n",
    "(d)Non-idempotent (multiple identical requests may have different effects)"
   ]
  },
  {
   "cell_type": "markdown",
   "id": "3481aabf-c396-4753-8a30-c9ea3b34ae61",
   "metadata": {},
   "source": [
    "Q2. Why is request used in Flask?"
   ]
  },
  {
   "cell_type": "markdown",
   "id": "578da2d0-a392-4232-9847-8d458ef1f3e8",
   "metadata": {},
   "source": [
    "Answer:-The request object in Flask is used to access and handle incoming request data such as form data, query parameters, HTTP headers, and uploaded files. It provides a simple and flexible way to handle user input and data from other sources in Flask applications."
   ]
  },
  {
   "cell_type": "markdown",
   "id": "4a2a2aed-8e78-4f82-9792-ce3af05796a2",
   "metadata": {},
   "source": [
    "Q3. Why is redirect() used in Flask?"
   ]
  },
  {
   "cell_type": "markdown",
   "id": "59218d30-be24-4313-b116-6e7b16f66761",
   "metadata": {},
   "source": [
    "Answer:-The redirect() function in Flask is used to redirect a user to a different URL. This can be useful in a variety of scenarios, such as:\n",
    "(a)After a form submission: After a user submits a form, you may want to redirect them to a \"success\" page to confirm that their submission was received.\n",
    "(b)After a login: After a user logs in, you may want to redirect them to a dashboard or profile page.\n",
    "(c)URL normalization: If a user visits a URL that has multiple possible variations (such as with or without a trailing slash), you can use a redirect to normalize the URL and ensure that all users end up on the same canonical URL.\n",
    "\n",
    "In general, the redirect() function can be used to provide a better user experience and ensure that users are directed to the appropriate page or resource. It is a common tool used in web development and can be easily implemented in Flask applications."
   ]
  },
  {
   "cell_type": "markdown",
   "id": "4a9c03eb-e431-430d-b4cd-f1373d30c0a4",
   "metadata": {},
   "source": [
    "Q4. What are templates in Flask? Why is the render_template() function used?"
   ]
  },
  {
   "cell_type": "markdown",
   "id": "f7d7ded8-e516-4752-a426-117b59b06430",
   "metadata": {},
   "source": [
    "Answer:-\n",
    "In Flask, templates are used to generate dynamic HTML pages that can be customized based on user input and other data. \n",
    "Templates allow developers to separate the presentation logic from the application logic, making it easier to maintain and modify the code.\n",
    "\n",
    "The render_template() function in Flask is used to render templates and generate HTML pages dynamically. It takes a template filename as an argument and any additional data needed to generate the page. \n",
    "The function then returns the rendered HTML to the client.\n",
    "\n",
    "Using render_template() allows developers to create HTML templates that can be reused across different pages and routes in the application. \n",
    "It also enables the use of template engines like Jinja2, which provides additional functionality such as control structures, filters, and inheritance.\n",
    "\n",
    "Overall, templates and the render_template() function are essential tools in Flask for generating dynamic HTML pages and building scalable web applications."
   ]
  },
  {
   "cell_type": "markdown",
   "id": "6c769e0c-adae-4f80-b392-4c520163c742",
   "metadata": {},
   "source": [
    "Q5. Create a simple API. Use Postman to test it. Attach the screenshot of the output in the Jupyter Notebook."
   ]
  },
  {
   "cell_type": "markdown",
   "id": "6935c6d2-8512-4edc-9fa3-ae5886a44b54",
   "metadata": {},
   "source": [
    "<img src=\"Screenshot 2023-03-02 195930_03.png\" style=\"width:900px;height:400px\"/>"
   ]
  },
  {
   "cell_type": "markdown",
   "id": "f89f2248-6f25-454e-97cb-4e1c5fe44618",
   "metadata": {},
   "source": [
    "<img src=\"Screenshot 2023-03-02 195636-01.png\" style=\"width:900px;height:400px\"/>"
   ]
  },
  {
   "cell_type": "markdown",
   "id": "62723edd-48ba-40a5-8214-171f373bd20d",
   "metadata": {},
   "source": [
    "<img src=\"Screenshot 2023-03-02 200036_04.png\" style=\"width:900px;height:400px\"/>"
   ]
  },
  {
   "cell_type": "code",
   "execution_count": 1,
   "id": "62bfa9f0-dd1a-4627-9c52-7f6e26385bfd",
   "metadata": {},
   "outputs": [
    {
     "data": {
      "text/plain": [
       "'Thanks'"
      ]
     },
     "execution_count": 1,
     "metadata": {},
     "output_type": "execute_result"
    }
   ],
   "source": [
    "\"\"\"Thanks\"\"\""
   ]
  },
  {
   "cell_type": "code",
   "execution_count": null,
   "id": "816f4137-a204-442e-9c52-c86f0c536be1",
   "metadata": {},
   "outputs": [],
   "source": []
  }
 ],
 "metadata": {
  "kernelspec": {
   "display_name": "Python 3 (ipykernel)",
   "language": "python",
   "name": "python3"
  },
  "language_info": {
   "codemirror_mode": {
    "name": "ipython",
    "version": 3
   },
   "file_extension": ".py",
   "mimetype": "text/x-python",
   "name": "python",
   "nbconvert_exporter": "python",
   "pygments_lexer": "ipython3",
   "version": "3.10.8"
  }
 },
 "nbformat": 4,
 "nbformat_minor": 5
}
