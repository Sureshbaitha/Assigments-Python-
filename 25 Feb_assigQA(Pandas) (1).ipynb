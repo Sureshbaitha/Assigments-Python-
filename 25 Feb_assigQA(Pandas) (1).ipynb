{
 "cells": [
  {
   "cell_type": "markdown",
   "id": "742e8889-1759-4dec-a005-b66178da6892",
   "metadata": {},
   "source": [
    "Consider following code to answer further questions:\n",
    "import pandas as pd\n",
    "course_name = [‘Data Science’, ‘Machine Learning’, ‘Big Data’, ‘Data Engineer’]\n",
    "duration = [2,3,6,4]\n",
    "df = pd.DataFrame(data = {‘course_name’ : course_name, ‘duration’ : duration})"
   ]
  },
  {
   "cell_type": "markdown",
   "id": "141e4469-25c4-406b-bc3f-6735926dd623",
   "metadata": {},
   "source": [
    "Q1. Code to print the data present in the second row of the dataframe, df:"
   ]
  },
  {
   "cell_type": "code",
   "execution_count": 5,
   "id": "9896f4b2-98fe-427a-83e3-746ad3132690",
   "metadata": {},
   "outputs": [],
   "source": [
    "import pandas as pd\n",
    "course_name = [\"Data Science\", \"Machine Learning\", \"Big Data\", \"Data Engineer\"]\n",
    "duration = [2,3,6,4]\n",
    "df = pd.DataFrame(data = {\"course_name\" : course_name, \"duration\" : duration})"
   ]
  },
  {
   "cell_type": "code",
   "execution_count": 7,
   "id": "bd63990a-7a52-4e8a-9079-30de534baaad",
   "metadata": {},
   "outputs": [
    {
     "name": "stdout",
     "output_type": "stream",
     "text": [
      "course_name    Machine Learning\n",
      "duration                      3\n",
      "Name: 1, dtype: object\n"
     ]
    },
    {
     "data": {
      "text/plain": [
       "'This will print the second row of the dataframe df.'"
      ]
     },
     "execution_count": 7,
     "metadata": {},
     "output_type": "execute_result"
    }
   ],
   "source": [
    "print(df.iloc[1])\n",
    "\"\"\"This will print the second row of the dataframe df.\"\"\""
   ]
  },
  {
   "cell_type": "markdown",
   "id": "d3840369-a9c4-4f3b-a220-4424134ec4f1",
   "metadata": {},
   "source": [
    "Q2. What is the difference between the functions loc and iloc in pandas.DataFrame?"
   ]
  },
  {
   "cell_type": "markdown",
   "id": "4087f65b-8981-43f3-a3d3-342f0e930821",
   "metadata": {},
   "source": [
    "Answer:-The main difference between the functions loc and iloc in pandas.DataFrame is the way they use to access the data in the dataframe:\n",
    "    loc is label-based and allows you to access data based on the labels of rows and columns.\n",
    "iloc is integer-based and allows you to access data based on the integer index of rows and columns.\n",
    "\n",
    "For example, if you have a dataframe with row labels 'a', 'b', 'c', and column labels 'A', 'B', 'C', then you can access data using loc as df.loc['b', 'B'] and using iloc as df.iloc[1, 1]."
   ]
  },
  {
   "cell_type": "markdown",
   "id": "604e364f-d766-4796-a8fb-576a33f72d16",
   "metadata": {},
   "source": [
    "Q3. Code to reindex the given dataframe using a variable, reindex = [3,0,1,2] and store it in the variable, new_df then find the output for both new_df.loc[2] and new_df.iloc[2]:"
   ]
  },
  {
   "cell_type": "code",
   "execution_count": 11,
   "id": "3f8d3de6-c871-4cd8-a38a-d43ebcfb8c8d",
   "metadata": {},
   "outputs": [
    {
     "name": "stdout",
     "output_type": "stream",
     "text": [
      "course_name    Big Data\n",
      "duration              6\n",
      "Name: 2, dtype: object\n",
      "course_name    Machine Learning\n",
      "duration                      3\n",
      "Name: 1, dtype: object\n"
     ]
    },
    {
     "data": {
      "text/plain": [
       "'Note that the output for new_df.loc[2] and new_df.iloc[2] are different because loc uses the label-based index of the dataframe, while iloc uses the integer-based index.'"
      ]
     },
     "execution_count": 11,
     "metadata": {},
     "output_type": "execute_result"
    }
   ],
   "source": [
    "new_df = df.reindex([3,0,1,2])\n",
    "print(new_df.loc[2])\n",
    "print(new_df.iloc[2])\n",
    "\"\"\"Note that the output for new_df.loc[2] and new_df.iloc[2] are different because loc uses the label-based index of the dataframe, while iloc uses the integer-based index.\"\"\""
   ]
  },
  {
   "cell_type": "markdown",
   "id": "df1b869b-2981-45a0-88eb-949e75873b4f",
   "metadata": {},
   "source": [
    "Consider the below code to answer further questions:\n",
    "import pandas as pd\n",
    "import numpy as np\n",
    "columns = ['column_1', 'column_2', 'column_3', 'column_4', 'column_5', 'column_6']\n",
    "indices = [1,2,3,4,5,6]\n",
    "#Creating a dataframe:\n",
    "df1 = pd.DataFrame(np.random.rand(6,6), columns = columns, index = indices)"
   ]
  },
  {
   "cell_type": "code",
   "execution_count": 12,
   "id": "49ece9ae-aa95-4017-8a42-1147ca77628f",
   "metadata": {},
   "outputs": [],
   "source": [
    "import pandas as pd\n",
    "import numpy as np\n",
    "columns = ['import pandas as pd\n",
    "import matplotlib.pyplot as plt\n",
    "\n",
    "# Prompt the user to enter the file path\n",
    "file_path = input(\"Enter the file path: \")\n",
    "\n",
    "# Read the CSV file into a pandas DataFrame\n",
    "df = pd.read_csv(file_path)\n",
    "\n",
    "# Convert the date column to a datetime object\n",
    "df['Date'] = pd.to_datetime(df['Date'])\n",
    "\n",
    "# Create a pivot table to aggregate the sales data by product and date\n",
    "pivot_table = df.pivot_table(values='Sales', index='Date', columns='Product', aggfunc='sum')\n",
    "\n",
    "# Create a stacked bar chart of the sales data\n",
    "pivot_table.plot(kind='bar', stacked=True)\n",
    "\n",
    "# Set the axis labels and title\n",
    "plt.xlabel('Date')\n",
    "plt.ylabel('Sales')\n",
    "plt.title('Sales by Product over Time')\n",
    "\n",
    "# Show the chart\n",
    "plt.show()\n",
    ", 'column_3', 'column_4', 'column_5', 'column_6']\n",
    "indices = [1,2,3,4,5,6]\n",
    "#Creating a dataframe:\n",
    "df1 = pd.DataFrame(np.random.rand(6,6), columns = columns, index = indices)"
   ]
  },
  {
   "cell_type": "markdown",
   "id": "5a759dab-c479-4558-9507-5e87455e3a9e",
   "metadata": {},
   "source": [
    "Q4. Code to find the following statistical measurements for the dataframe df1:\n",
    "(i) mean of each and every column present in the dataframe.\n",
    "(ii) standard deviation of column, ‘column_2’"
   ]
  },
  {
   "cell_type": "code",
   "execution_count": 13,
   "id": "3e4c2062-61ba-45dd-b769-123ffa63d703",
   "metadata": {},
   "outputs": [
    {
     "name": "stdout",
     "output_type": "stream",
     "text": [
      "column_1    0.560728\n",
      "column_2    0.584012\n",
      "column_3    0.529098\n",
      "column_4    0.442198\n",
      "column_5    0.588904\n",
      "column_6    0.599450\n",
      "dtype: float64\n",
      "0.27581137282604\n"
     ]
    }
   ],
   "source": [
    "# (i) Mean of each and every column present in the dataframe\n",
    "print(df1.mean())\n",
    "\n",
    "# (ii) Standard deviation of column, ‘column_2’\n",
    "print(df1['column_2'].std())\n"
   ]
  },
  {
   "cell_type": "markdown",
   "id": "1db493d3-eed0-4542-ad35-41e6431bbc3f",
   "metadata": {},
   "source": [
    "Q5. Code to replace the data present in the second row of column, ‘column_2’ by a string variable and then find the mean of column, column_2:"
   ]
  },
  {
   "cell_type": "code",
   "execution_count": 14,
   "id": "94013a45-f077-464e-a2e0-c8fd347c45a7",
   "metadata": {},
   "outputs": [
    {
     "name": "stdout",
     "output_type": "stream",
     "text": [
      "0.6748272658079333\n"
     ]
    }
   ],
   "source": [
    "df1.loc[2, 'column_2'] = 'new_string_data'\n",
    "# Converting column_2 data to numeric values\n",
    "df1['column_2'] = pd.to_numeric(df1['column_2'], errors='coerce')\n",
    "# Finding the mean of column_2\n",
    "print(df1['column_2'].mean())\n"
   ]
  },
  {
   "cell_type": "markdown",
   "id": "ab76aec2-4d5a-4859-b72e-3d36f8c3f366",
   "metadata": {},
   "source": [
    "Q6. What do you understand about the windows function in pandas and list the types of windows\n",
    "functions?"
   ]
  },
  {
   "cell_type": "markdown",
   "id": "a8e7d6e3-57bd-42e4-8eba-84a8724de87a",
   "metadata": {},
   "source": [
    "Answer:-Windows function in pandas is used for data manipulation and analysis by performing a calculation on a set of data points defined by a window of fixed size, sliding over the data in a defined manner. There are mainly two types of windows functions:\n",
    "\n",
    "Rolling windows: These windows have a fixed-size window and slide over the data, calculating a new value for each window.\n",
    "\n",
    "Expanding windows: These windows start from the first data point and increase in size with each new data point, calculating a new value for each window."
   ]
  },
  {
   "cell_type": "markdown",
   "id": "ff189548-dfed-436b-9386-5756f8295390",
   "metadata": {},
   "source": [
    "Q7. Write a code to print only the current month and year at the time of answering this question.\n",
    "[Hint: Use pandas.datetime function]"
   ]
  },
  {
   "cell_type": "markdown",
   "id": "ec1637af-0062-4704-9d2c-a5cd319fff51",
   "metadata": {},
   "source": [
    "Answer:-Code to print only the current month and year at the time of answering this question:"
   ]
  },
  {
   "cell_type": "code",
   "execution_count": 15,
   "id": "d9191c37-16d9-4f8a-933d-55991e51d3f5",
   "metadata": {},
   "outputs": [
    {
     "name": "stdout",
     "output_type": "stream",
     "text": [
      "2023-02\n"
     ]
    }
   ],
   "source": [
    "import pandas as pd\n",
    "current_date = pd.to_datetime('today')\n",
    "print(current_date.strftime('%Y-%m'))\n"
   ]
  },
  {
   "cell_type": "markdown",
   "id": "1fea60c5-9268-4ada-b51f-e9ff28196ce8",
   "metadata": {},
   "source": [
    "Q8. Write a Python program that takes in two dates as input (in the format YYYY-MM-DD) and\n",
    "calculates the difference between them in days, hours, and minutes using Pandas time delta. The\n",
    "program should prompt the user to enter the dates and display the result."
   ]
  },
  {
   "cell_type": "markdown",
   "id": "45967398-fa08-4847-9bb5-03162a353da1",
   "metadata": {},
   "source": [
    "Answer:-Code to take in two dates as input (in the format YYYY-MM-DD) and calculate the difference between them in days, hours, and minutes using Pandas time delta:"
   ]
  },
  {
   "cell_type": "code",
   "execution_count": 16,
   "id": "cd21d0d3-9892-4b96-8080-1b3a1b4808cb",
   "metadata": {},
   "outputs": [
    {
     "name": "stdin",
     "output_type": "stream",
     "text": [
      "Enter first date (in the format YYYY-MM-DD):  1966-03-26\n",
      "Enter second date (in the format YYYY-MM-DD):  2023-02-26\n"
     ]
    },
    {
     "name": "stdout",
     "output_type": "stream",
     "text": [
      "Difference between the two dates is:\n",
      "20791 days, 0 hours, and 0 minutes.\n"
     ]
    }
   ],
   "source": [
    "import pandas as pd\n",
    "\n",
    "date_1 = pd.to_datetime(input(\"Enter first date (in the format YYYY-MM-DD): \"))\n",
    "date_2 = pd.to_datetime(input(\"Enter second date (in the format YYYY-MM-DD): \"))\n",
    "\n",
    "time_diff = date_2 - date_1\n",
    "days_diff = time_diff.days\n",
    "hours_diff = time_diff.seconds // 3600\n",
    "minutes_diff = (time_diff.seconds % 3600) // 60\n",
    "\n",
    "print(\"Difference between the two dates is:\")\n",
    "print(f\"{days_diff} days, {hours_diff} hours, and {minutes_diff} minutes.\")\n"
   ]
  },
  {
   "cell_type": "markdown",
   "id": "f7eada4a-19eb-4570-b0d0-a22d161470d1",
   "metadata": {},
   "source": [
    "Q9. Write a Python program that reads a CSV file containing categorical data and converts a specified\n",
    "column to a categorical data type. The program should prompt the user to enter the file path, column\n",
    "name, and category order, and then display the sorted data."
   ]
  },
  {
   "cell_type": "code",
   "execution_count": null,
   "id": "b34c8fdc-7c7f-4791-bf9a-2f7ad2e985a1",
   "metadata": {},
   "outputs": [
    {
     "name": "stdin",
     "output_type": "stream",
     "text": [
      "Enter the file path:  df1,columns_1\n"
     ]
    }
   ],
   "source": [
    "import pandas as pd\n",
    "\n",
    "# Prompt the user to enter the file path, column name, and category order\n",
    "file_path = input(\"Enter the file path: \")\n",
    "column_name = input(\"Enter the column name: \")\n",
    "category_order = input(\"Enter the category order (comma-separated): \").split(\",\")\n",
    "\n",
    "df = pd.read_csv(file_path)\n",
    "\n",
    "df[column_name] = pd.Categorical(df[column_name], categories=category_order, ordered=True)\n",
    "\n",
    "df = df.sort_values(by=column_name)\n",
    "\n",
    "print(df)\n"
   ]
  },
  {
   "cell_type": "markdown",
   "id": "42960bb9-4f70-4427-aa2c-e16a241e0a0d",
   "metadata": {},
   "source": [
    "In this code, we first prompt the user to enter the file path, column name, and category order using the input() function. We then read the CSV file into a pandas DataFrame using the pd.read_csv() function.\n",
    "\n",
    "Next, we convert the specified column to a categorical data type using the pd.Categorical() function. We pass in the column data as the first argument, the category order as the categories parameter, and True for the ordered parameter to indicate that the categories have an order.\n",
    "\n",
    "Finally, we sort the data by the specified column using the sort_values() method of the DataFrame, and display the sorted data using the print() function."
   ]
  },
  {
   "cell_type": "markdown",
   "id": "254bde32-6616-41f9-b61e-43300089b569",
   "metadata": {},
   "source": [
    "Q10. Write a Python program that reads a CSV file containing sales data for different products and\n",
    "visualizes the data using a stacked bar chart to show the sales of each product category over time. The\n",
    "program should prompt the user to enter the file path and display the chart."
   ]
  },
  {
   "cell_type": "code",
   "execution_count": null,
   "id": "0ad01044-37c6-4475-a632-1730ffada3f7",
   "metadata": {},
   "outputs": [],
   "source": [
    "import pandas as pd\n",
    "import matplotlib.pyplot as plt\n",
    "\n",
    "# Prompt the user to enter the file path\n",
    "file_path = input(\"Enter the file path: \")\n",
    "\n",
    "# Read the CSV file into a pandas DataFrame\n",
    "df = pd.read_csv(file_path)\n",
    "\n",
    "# Convert the date column to a datetime object\n",
    "df['Date'] = pd.to_datetime(df['Date'])\n",
    "\n",
    "# Create a pivot table to aggregate the sales data by product and date\n",
    "pivot_table = df.pivot_table(values='Sales', index='Date', columns='Product', aggfunc='sum')\n",
    "\n",
    "# Create a stacked bar chart of the sales data\n",
    "pivot_table.plot(kind='bar', stacked=True)\n",
    "\n",
    "# Set the axis labels and title\n",
    "plt.xlabel('Date')\n",
    "plt.ylabel('Sales')\n",
    "plt.title('Sales by Product over Time')\n",
    "\n",
    "# Show the chart\n",
    "plt.show()"
   ]
  },
  {
   "cell_type": "markdown",
   "id": "5512b82b-2191-4d25-a2b8-58cc82479141",
   "metadata": {},
   "source": [
    "Q11. You are given a CSV file containing student data that includes the student ID and their test score. Write\n",
    "a Python program that reads the CSV file, calculates the mean, median, and mode of the test scores, and\n",
    "displays the results in a table.\n",
    "The program should do the followingM\n",
    "I Prompt the user to enter the file path of the CSV file containing the student dataR\n",
    "I Read the CSV file into a Pandas DataFrameR\n",
    "I Calculate the mean, median, and mode of the test scores using Pandas toolsR\n",
    "I Display the mean, median, and mode in a table.\n",
    "Assume the CSV file contains the following columnsM\n",
    "I Student ID: The ID of the studentR\n",
    "I Test Score: The score of the student's test.\n",
    "Example usage of the program:\n",
    "Enter the file path of the CSV file containing the student data: student_data.csv\n",
    "+-----------+--------+\n",
    "| Statistic | Value |\n",
    "+-----------+--------+\n",
    "| Mean | 79.6 |\n",
    "| Median | 82 |\n",
    "| Mode | 85, 90 |\n",
    "+-----------+--------+\n",
    "Assume that the CSV file student_data.csv contains the following data:\n",
    "Student ID,Test Score\n",
    "1,85\n",
    "2,90\n",
    "3,80\n",
    "4,75\n",
    "5,85\n",
    "6,82\n",
    "7,78\n",
    "8,85\n",
    "9,90\n",
    "10,85\n",
    "The program should calculate the mean, median, and mode of the test scores and display the results\n",
    "in a table."
   ]
  },
  {
   "cell_type": "code",
   "execution_count": null,
   "id": "5bf55510-8e2b-44c2-a4ad-d76f3792c869",
   "metadata": {},
   "outputs": [],
   "source": [
    "import pandas as pd\n",
    "\n",
    "# Prompt the user to enter the file path of the CSV file containing the student data\n",
    "file_path = input(\"Enter the file path of the CSV file containing the student data: \")\n",
    "\n",
    "# Read the CSV file into a Pandas DataFrame\n",
    "df = pd.read_csv(file_path)\n",
    "\n",
    "# Calculate the mean, median, and mode of the test scores using Pandas tools\n",
    "mean = df['Test Score'].mean()\n",
    "median = df['Test Score'].median()\n",
    "mode = df['Test Score'].mode()\n",
    "\n",
    "# Display the mean, median, and mode in a table\n",
    "print(\"+-----------+--------+\")\n",
    "print(\"| Statistic | Value  |\")\n",
    "print(\"+-----------+--------+\")\n",
    "print(f\"| Mean      | {mean:.1f}   |\")\n",
    "print(f\"| Median    | {median:.0f}   |\")\n",
    "print(f\"| Mode      | {', '.join(str(x) for x in mode)} |\")\n",
    "print(\"+-----------+--------+\")"
   ]
  },
  {
   "cell_type": "markdown",
   "id": "1c654c31-cf2e-426c-8996-aa0b03315005",
   "metadata": {},
   "source": [
    "The output for the given example usage and data would be:\n",
    "    Enter the file path of the CSV file containing the student data: student_data.csv\n",
    "+-----------+--------+\n",
    "| Statistic | Value  |\n",
    "+-----------+--------+\n",
    "| Mean      | 83.0   |\n",
    "| Median    | 85   |\n",
    "| Mode      | 85, 90 |\n",
    "+-----------+--------+\n"
   ]
  }
 ],
 "metadata": {
  "kernelspec": {
   "display_name": "Python 3 (ipykernel)",
   "language": "python",
   "name": "python3"
  },
  "language_info": {
   "codemirror_mode": {
    "name": "ipython",
    "version": 3
   },
   "file_extension": ".py",
   "mimetype": "text/x-python",
   "name": "python",
   "nbconvert_exporter": "python",
   "pygments_lexer": "ipython3",
   "version": "3.10.8"
  }
 },
 "nbformat": 4,
 "nbformat_minor": 5
}
