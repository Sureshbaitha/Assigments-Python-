{
 "cells": [
  {
   "cell_type": "code",
   "execution_count": null,
   "id": "3c5a2f68-622a-49d1-bd23-25f29db426d8",
   "metadata": {},
   "outputs": [],
   "source": [
    "Q1(Answer)"
   ]
  },
  {
   "cell_type": "markdown",
   "id": "d1ee3a6e-0f12-4d71-883c-65c8026b64ba",
   "metadata": {},
   "source": [
    "Answer:-In Python, an exception is an event that occurs during the execution of a program that disrupts the normal flow of the program's instructions. When an exception occurs, the program stops execution and throws an error message that describes the problem.\n",
    "\n",
    "The main difference between Exceptions and Syntax errors is that Syntax errors occur during the parsing of code, whereas Exceptions occur during the execution of code. Syntax errors are related to the structure of the code and occur when the interpreter cannot understand the code. Exceptions, on the other hand, occur when the code is syntactically correct but something unexpected happens during its execution."
   ]
  },
  {
   "cell_type": "code",
   "execution_count": null,
   "id": "ca2e8926-5e87-411e-b781-399adbe861cb",
   "metadata": {},
   "outputs": [],
   "source": [
    "Q2(Answer)"
   ]
  },
  {
   "cell_type": "markdown",
   "id": "94cca8b8-8a06-4fce-a0f4-0b3a74e0b3e8",
   "metadata": {},
   "source": [
    "If an exception is not handled, the program will terminate abruptly, and an error message will be displayed. The error message will provide information about the type of exception and the location where it occurred in the code.\n",
    "\n",
    "For example, consider the following code snippet:"
   ]
  },
  {
   "cell_type": "code",
   "execution_count": 1,
   "id": "84407d5d-60ea-4965-92b0-7f7622de4ba2",
   "metadata": {},
   "outputs": [
    {
     "ename": "ZeroDivisionError",
     "evalue": "division by zero",
     "output_type": "error",
     "traceback": [
      "\u001b[0;31m---------------------------------------------------------------------------\u001b[0m",
      "\u001b[0;31mZeroDivisionError\u001b[0m                         Traceback (most recent call last)",
      "Cell \u001b[0;32mIn[1], line 3\u001b[0m\n\u001b[1;32m      1\u001b[0m num1 \u001b[38;5;241m=\u001b[39m \u001b[38;5;241m10\u001b[39m\n\u001b[1;32m      2\u001b[0m num2 \u001b[38;5;241m=\u001b[39m \u001b[38;5;241m0\u001b[39m\n\u001b[0;32m----> 3\u001b[0m result \u001b[38;5;241m=\u001b[39m \u001b[43mnum1\u001b[49m\u001b[43m \u001b[49m\u001b[38;5;241;43m/\u001b[39;49m\u001b[43m \u001b[49m\u001b[43mnum2\u001b[49m\n\u001b[1;32m      4\u001b[0m \u001b[38;5;28mprint\u001b[39m(result)\n",
      "\u001b[0;31mZeroDivisionError\u001b[0m: division by zero"
     ]
    }
   ],
   "source": [
    "num1 = 10\n",
    "num2 = 0\n",
    "result = num1 / num2\n",
    "print(result)"
   ]
  },
  {
   "cell_type": "markdown",
   "id": "616674b4-fc9c-4418-a484-57c469c57f11",
   "metadata": {},
   "source": [
    "In this code, we are trying to divide num1 by num2, which will result in a ZeroDivisionError. If we do not handle this exception, the program will terminate with the following error message"
   ]
  },
  {
   "cell_type": "markdown",
   "id": "02da74a4-ef9c-4108-a2dc-b2c4b4a5225a",
   "metadata": {},
   "source": [
    "ZeroDivisionError: division by zero"
   ]
  },
  {
   "cell_type": "markdown",
   "id": "7b3e5873-1059-469f-9322-f236c31a4953",
   "metadata": {},
   "source": [
    "Q3(Answer)\n",
    "In Python, the raise statement is used to raise an exception, while the try, except, else, and finally statements are used to handle exceptions.\n",
    "\n",
    "For example, consider the following code snippet:"
   ]
  },
  {
   "cell_type": "code",
   "execution_count": 2,
   "id": "86c8b222-e07a-46b6-9a5a-73465217bd31",
   "metadata": {},
   "outputs": [
    {
     "name": "stdout",
     "output_type": "stream",
     "text": [
      "Error: division by zero\n",
      "Division operation completed\n"
     ]
    }
   ],
   "source": [
    "def divide(num1, num2):\n",
    "    try:\n",
    "        result = num1 / num2\n",
    "    except ZeroDivisionError:\n",
    "        print(\"Error: division by zero\")\n",
    "    else:\n",
    "        print(\"Result:\", result)\n",
    "    finally:\n",
    "        print(\"Division operation completed\")\n",
    "\n",
    "divide(10, 0)"
   ]
  },
  {
   "cell_type": "markdown",
   "id": "79272f98-b1a3-49d0-91ff-169c04f6ef97",
   "metadata": {},
   "source": [
    "Q4(Answer)\n",
    "The try and else blocks are used to execute a block of code and handle any exceptions that may occur. The finally block is used to execute a block of code regardless of whether an exception occurred or not. The raise statement is used to explicitly raise an exception.\n",
    "\n",
    "For example, consider the following code snippet:"
   ]
  },
  {
   "cell_type": "code",
   "execution_count": 4,
   "id": "d0f90bef-7f77-4c08-bf83-9d7a1900b442",
   "metadata": {},
   "outputs": [
    {
     "name": "stdout",
     "output_type": "stream",
     "text": [
      "Error: division by zero\n",
      "Division operation completed\n"
     ]
    }
   ],
   "source": [
    "def divide(num1, num2):\n",
    "    try:\n",
    "        result = num1 / num2\n",
    "    except ZeroDivisionError:\n",
    "        print(\"Error: division by zero\")\n",
    "    else:\n",
    "        print(\"Result:\", result)\n",
    "    finally:\n",
    "        print(\"Division operation completed\")\n",
    "\n",
    "divide(10, 0) # Output: Error: division by zero, Division operation completed\n"
   ]
  },
  {
   "cell_type": "markdown",
   "id": "ae35e98a-6396-47b0-9f8b-00d9be27e2a2",
   "metadata": {},
   "source": [
    "Q5(Answer)\n",
    "In Python, Custom Exceptions are user-defined exceptions that can be raised and handled like any other built-in exceptions. Custom Exceptions allow us to define our own error messages and handle them in a way that makes sense for our program.\n",
    "\n",
    "We need Custom Exceptions because sometimes the built-in exceptions are not enough to accurately describe the error that occurred in our program. For example, let's say we are writing a program that involves mathematical operations on complex numbers, and we want to raise an exception if the user tries to divide by zero. However, the ZeroDivisionError exception does not accurately describe the error in this case, so we can define our own exception called ComplexDivisionError and raise it when necessary.\n",
    "\n",
    "Here is an example of a Custom Exception:"
   ]
  },
  {
   "cell_type": "code",
   "execution_count": 5,
   "id": "e6409786-cb23-4c46-92c9-2c0088f53fe1",
   "metadata": {},
   "outputs": [
    {
     "name": "stdout",
     "output_type": "stream",
     "text": [
      "Error: division by zero\n"
     ]
    }
   ],
   "source": [
    "class ComplexDivisionError(Exception):\n",
    "    pass\n",
    "\n",
    "def divide_complex(num1, num2):\n",
    "    if num2.real == 0 and num2.imag == 0:\n",
    "        raise ComplexDivisionError(\"Error: division by zero\")\n",
    "    else:\n",
    "        return num1 / num2\n",
    "\n",
    "num1 = 5 + 3j\n",
    "num2 = 0 + 0j\n",
    "try:\n",
    "    result = divide_complex(num1, num2)\n",
    "except ComplexDivisionError as e:\n",
    "    print(e)\n",
    "else:\n",
    "    print(\"Result:\", result)"
   ]
  },
  {
   "cell_type": "markdown",
   "id": "18fcb0f7-01d6-4d2a-8373-b7dfabc0b187",
   "metadata": {},
   "source": [
    "Q6(Answer)"
   ]
  },
  {
   "cell_type": "code",
   "execution_count": 6,
   "id": "403a29a4-544b-4812-b8fb-b5dc52aabd9e",
   "metadata": {},
   "outputs": [
    {
     "name": "stdout",
     "output_type": "stream",
     "text": [
      "Error: square root of a negative number\n"
     ]
    }
   ],
   "source": [
    "class NegativeNumberError(Exception):\n",
    "    pass\n",
    "\n",
    "def square_root(num):\n",
    "    if num < 0:\n",
    "        raise NegativeNumberError(\"Error: square root of a negative number\")\n",
    "    else:\n",
    "        return num ** 0.5\n",
    "\n",
    "try:\n",
    "    result = square_root(-4)\n",
    "except NegativeNumberError as e:\n",
    "    print(e)\n",
    "else:\n",
    "    print(\"Result:\", result)"
   ]
  },
  {
   "cell_type": "markdown",
   "id": "cd461890-db5c-47fc-b2c7-88ea15647221",
   "metadata": {},
   "source": [
    "In this code, we have defined a Custom Exception called NegativeNumberError. The square_root function takes a number as input and checks if it is negative before performing the square root operation. If the number is negative, it raises a NegativeNumberError exception with a custom error message. In the main code block, we call the square_root function with a negative number and handle the exception using a try and except block. If the exception is raised, the error message is printed."
   ]
  }
 ],
 "metadata": {
  "kernelspec": {
   "display_name": "Python 3 (ipykernel)",
   "language": "python",
   "name": "python3"
  },
  "language_info": {
   "codemirror_mode": {
    "name": "ipython",
    "version": 3
   },
   "file_extension": ".py",
   "mimetype": "text/x-python",
   "name": "python",
   "nbconvert_exporter": "python",
   "pygments_lexer": "ipython3",
   "version": "3.10.8"
  }
 },
 "nbformat": 4,
 "nbformat_minor": 5
}
