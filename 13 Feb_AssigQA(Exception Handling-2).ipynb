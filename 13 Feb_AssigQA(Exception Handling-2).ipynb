{
 "cells": [
  {
   "cell_type": "markdown",
   "id": "4f076f14-a5ff-4ddb-811f-00f9327736db",
   "metadata": {},
   "source": [
    "Q1. Explain why we have to use the Exception class while creating a Custom Exception.\n",
    "Note: Here Exception class refers to the base class for all the exceptions."
   ]
  },
  {
   "cell_type": "markdown",
   "id": "50ebcc3b-5b51-4327-9f60-3d0482600b9c",
   "metadata": {},
   "source": [
    "Answer:-The Exception class is used as the base class for all user-defined exceptions in Python. When we create a custom exception, we want it to behave like other exceptions in the Python system, such as raising and catching it. By inheriting from the Exception class, our custom exception will have all the necessary methods and behaviors to work with the existing exception handling mechanisms in Python."
   ]
  },
  {
   "cell_type": "markdown",
   "id": "06edc1b1-e1a1-4852-b046-4149ef0d5196",
   "metadata": {},
   "source": [
    "Q2. Write a python program to print Python Exception Hierarchy."
   ]
  },
  {
   "cell_type": "code",
   "execution_count": 6,
   "id": "913ea34a-3b35-41ba-8532-9d3cca79027f",
   "metadata": {},
   "outputs": [
    {
     "ename": "AttributeError",
     "evalue": "'NoneType' object has no attribute '__subclasses__'",
     "output_type": "error",
     "traceback": [
      "\u001b[0;31m---------------------------------------------------------------------------\u001b[0m",
      "\u001b[0;31mAttributeError\u001b[0m                            Traceback (most recent call last)",
      "Cell \u001b[0;32mIn[6], line 3\u001b[0m\n\u001b[1;32m      1\u001b[0m \u001b[38;5;28;01mimport\u001b[39;00m \u001b[38;5;21;01msys\u001b[39;00m\n\u001b[0;32m----> 3\u001b[0m \u001b[38;5;28;01mfor\u001b[39;00m exc \u001b[38;5;129;01min\u001b[39;00m \u001b[38;5;28msorted\u001b[39m(\u001b[43msys\u001b[49m\u001b[38;5;241;43m.\u001b[39;49m\u001b[43mexc_info\u001b[49m\u001b[43m(\u001b[49m\u001b[43m)\u001b[49m\u001b[43m[\u001b[49m\u001b[38;5;241;43m-\u001b[39;49m\u001b[38;5;241;43m1\u001b[39;49m\u001b[43m]\u001b[49m\u001b[38;5;241;43m.\u001b[39;49m\u001b[43m__subclasses__\u001b[49m(), key\u001b[38;5;241m=\u001b[39m\u001b[38;5;28;01mlambda\u001b[39;00m x: x\u001b[38;5;241m.\u001b[39m\u001b[38;5;18m__name__\u001b[39m):\n\u001b[1;32m      4\u001b[0m     \u001b[38;5;28mprint\u001b[39m(exc\u001b[38;5;241m.\u001b[39m\u001b[38;5;18m__name__\u001b[39m)\n\u001b[1;32m      5\u001b[0m     \u001b[38;5;28;01mfor\u001b[39;00m sub_exc \u001b[38;5;129;01min\u001b[39;00m exc\u001b[38;5;241m.\u001b[39m__subclasses__():\n",
      "\u001b[0;31mAttributeError\u001b[0m: 'NoneType' object has no attribute '__subclasses__'"
     ]
    }
   ],
   "source": [
    "import sys\n",
    "\n",
    "for exc in sorted(sys.exc_info()[-1].__subclasses__(), key=lambda x: x.__name__):\n",
    "    print(exc.__name__)\n",
    "    for sub_exc in exc.__subclasses__():\n",
    "        print(f\"  {sub_exc.__name__}\")"
   ]
  },
  {
   "cell_type": "markdown",
   "id": "8899c2f7-15e3-4481-8a6c-b8f4236d4eb5",
   "metadata": {},
   "source": [
    "Q3. What errors are defined in the ArithmeticError class? Explain any two with an example."
   ]
  },
  {
   "cell_type": "markdown",
   "id": "764f7ab2-159f-45f7-9701-d027b11880e9",
   "metadata": {},
   "source": [
    "Answer:-The ArithmeticError class is a base class for all errors that occur during arithmetic operations. Two examples of errors defined in this class are:\n",
    "\n",
    "OverflowError: Raised when a calculation exceeds the maximum limit for a numeric type."
   ]
  },
  {
   "cell_type": "code",
   "execution_count": 7,
   "id": "ef45551f-f26f-4554-b0a5-78a7831fad00",
   "metadata": {},
   "outputs": [
    {
     "data": {
      "text/plain": [
       "85070591730234615847396907784232501249"
      ]
     },
     "execution_count": 7,
     "metadata": {},
     "output_type": "execute_result"
    }
   ],
   "source": [
    "import sys\n",
    "x = sys.maxsize\n",
    "x * x  # Raises OverflowError\n"
   ]
  },
  {
   "cell_type": "code",
   "execution_count": 8,
   "id": "0784a6d6-b2b4-4b09-bb99-d8250f2dfb14",
   "metadata": {},
   "outputs": [
    {
     "ename": "ZeroDivisionError",
     "evalue": "division by zero",
     "output_type": "error",
     "traceback": [
      "\u001b[0;31m---------------------------------------------------------------------------\u001b[0m",
      "\u001b[0;31mZeroDivisionError\u001b[0m                         Traceback (most recent call last)",
      "Cell \u001b[0;32mIn[8], line 2\u001b[0m\n\u001b[1;32m      1\u001b[0m \u001b[38;5;66;03m#ZeroDivisionError: Raised when attempting to divide by zero.\u001b[39;00m\n\u001b[0;32m----> 2\u001b[0m \u001b[38;5;241;43m1\u001b[39;49m\u001b[43m \u001b[49m\u001b[38;5;241;43m/\u001b[39;49m\u001b[43m \u001b[49m\u001b[38;5;241;43m0\u001b[39;49m  \u001b[38;5;66;03m# Raises ZeroDivisionError\u001b[39;00m\n",
      "\u001b[0;31mZeroDivisionError\u001b[0m: division by zero"
     ]
    }
   ],
   "source": [
    "#ZeroDivisionError: Raised when attempting to divide by zero.\n",
    "1 / 0  # Raises ZeroDivisionError\n"
   ]
  },
  {
   "cell_type": "markdown",
   "id": "0bf426d8-3021-4351-85cb-23c4e763c85c",
   "metadata": {},
   "source": [
    "Q4. Why LookupError class is used? Explain with an example KeyError and IndexError."
   ]
  },
  {
   "cell_type": "markdown",
   "id": "659c4819-eaa1-4c3d-ac42-d81c09421385",
   "metadata": {},
   "source": [
    "Answer:-The LookupError class is used as the base class for all errors that occur when looking up a value in a sequence, such as a list or dictionary. Two examples of errors defined in this class are:\n",
    "\n",
    "KeyError: Raised when trying to access a non-existent key in a dictionary."
   ]
  },
  {
   "cell_type": "code",
   "execution_count": 9,
   "id": "3a498c09-92a0-4958-b7b7-6a06cebe8cf4",
   "metadata": {},
   "outputs": [
    {
     "ename": "KeyError",
     "evalue": "'c'",
     "output_type": "error",
     "traceback": [
      "\u001b[0;31m---------------------------------------------------------------------------\u001b[0m",
      "\u001b[0;31mKeyError\u001b[0m                                  Traceback (most recent call last)",
      "Cell \u001b[0;32mIn[9], line 2\u001b[0m\n\u001b[1;32m      1\u001b[0m d \u001b[38;5;241m=\u001b[39m {\u001b[38;5;124m\"\u001b[39m\u001b[38;5;124ma\u001b[39m\u001b[38;5;124m\"\u001b[39m: \u001b[38;5;241m1\u001b[39m, \u001b[38;5;124m\"\u001b[39m\u001b[38;5;124mb\u001b[39m\u001b[38;5;124m\"\u001b[39m: \u001b[38;5;241m2\u001b[39m}\n\u001b[0;32m----> 2\u001b[0m \u001b[43md\u001b[49m\u001b[43m[\u001b[49m\u001b[38;5;124;43m\"\u001b[39;49m\u001b[38;5;124;43mc\u001b[39;49m\u001b[38;5;124;43m\"\u001b[39;49m\u001b[43m]\u001b[49m  \u001b[38;5;66;03m# Raises KeyError\u001b[39;00m\n",
      "\u001b[0;31mKeyError\u001b[0m: 'c'"
     ]
    }
   ],
   "source": [
    "d = {\"a\": 1, \"b\": 2}\n",
    "d[\"c\"]  # Raises KeyError\n"
   ]
  },
  {
   "cell_type": "markdown",
   "id": "4438cd4b-79d0-459b-8955-0aa4e4f93c73",
   "metadata": {},
   "source": [
    "IndexError: Raised when trying to access a non-existent index in a sequence."
   ]
  },
  {
   "cell_type": "code",
   "execution_count": 10,
   "id": "5037c1ac-5da1-4f97-a152-0a31036da27b",
   "metadata": {},
   "outputs": [
    {
     "ename": "IndexError",
     "evalue": "list index out of range",
     "output_type": "error",
     "traceback": [
      "\u001b[0;31m---------------------------------------------------------------------------\u001b[0m",
      "\u001b[0;31mIndexError\u001b[0m                                Traceback (most recent call last)",
      "Cell \u001b[0;32mIn[10], line 2\u001b[0m\n\u001b[1;32m      1\u001b[0m lst \u001b[38;5;241m=\u001b[39m [\u001b[38;5;241m1\u001b[39m, \u001b[38;5;241m2\u001b[39m, \u001b[38;5;241m3\u001b[39m]\n\u001b[0;32m----> 2\u001b[0m \u001b[43mlst\u001b[49m\u001b[43m[\u001b[49m\u001b[38;5;241;43m3\u001b[39;49m\u001b[43m]\u001b[49m  \u001b[38;5;66;03m# Raises IndexError\u001b[39;00m\n",
      "\u001b[0;31mIndexError\u001b[0m: list index out of range"
     ]
    }
   ],
   "source": [
    "lst = [1, 2, 3]\n",
    "lst[3]  # Raises IndexError\n"
   ]
  },
  {
   "cell_type": "markdown",
   "id": "140fb658-3e4f-40a3-bab9-cf9c1da484b2",
   "metadata": {},
   "source": [
    "Q5. Explain ImportError. What is ModuleNotFoundError?"
   ]
  },
  {
   "cell_type": "markdown",
   "id": "b5380bc0-ac57-4cea-b8be-2f88587dc89c",
   "metadata": {},
   "source": [
    "Answer:-ImportError is raised when a module or package is not found. ModuleNotFoundError is a subclass of ImportError that is raised when a module or package is not found."
   ]
  },
  {
   "cell_type": "markdown",
   "id": "72d83d6b-1e36-442e-812a-79069f275c9d",
   "metadata": {},
   "source": [
    "Q6. List down some best practices for exception handling in python."
   ]
  },
  {
   "cell_type": "code",
   "execution_count": null,
   "id": "6cbb8aa0-29a2-49bf-ace8-60c7e93c48b0",
   "metadata": {},
   "outputs": [],
   "source": [
    "An"
   ]
  }
 ],
 "metadata": {
  "kernelspec": {
   "display_name": "Python 3 (ipykernel)",
   "language": "python",
   "name": "python3"
  },
  "language_info": {
   "codemirror_mode": {
    "name": "ipython",
    "version": 3
   },
   "file_extension": ".py",
   "mimetype": "text/x-python",
   "name": "python",
   "nbconvert_exporter": "python",
   "pygments_lexer": "ipython3",
   "version": "3.10.8"
  }
 },
 "nbformat": 4,
 "nbformat_minor": 5
}
