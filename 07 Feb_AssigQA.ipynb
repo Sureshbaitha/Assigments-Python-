{
 "cells": [
  {
   "cell_type": "markdown",
   "id": "8a1481f8-dc38-45cc-a6ff-a104b4c2104b",
   "metadata": {},
   "source": [
    "Q1. You are writing code for a company. The requirement of the company is that you create a python\n",
    "function that will check whether the password entered by the user is correct or not. The function should\n",
    "take the password as input and return the string “Valid Password” if the entered password follows the\n",
    "below-given password guidelines else it should return “Invalid Password”.\n",
    "Note: 1. The Password should contain at least two uppercase letters and at least two lowercase letters.\n",
    "2. The Password should contain at least a number and three special characters.\n",
    "3. The length of the password should be 10 characters long."
   ]
  },
  {
   "cell_type": "code",
   "execution_count": 1,
   "id": "7ff5809d-9f82-4c11-ab30-6467f69f0a7e",
   "metadata": {},
   "outputs": [],
   "source": [
    "import re\n",
    "\n",
    "def check_password(password):\n",
    "    \"\"\"\n",
    "    Check whether a given password meets the following requirements:\n",
    "    1. Contains at least two uppercase letters\n",
    "    2. Contains at least two lowercase letters\n",
    "    3. Contains at least one digit\n",
    "    4. Contains at least three special characters\n",
    "    5. Has a length of 10 characters\n",
    "    \"\"\"\n",
    "    if len(password) != 10:\n",
    "        return \"Invalid Password\"\n",
    "    uppercase_count = 0\n",
    "    lowercase_count = 0\n",
    "    digit_count = 0\n",
    "    special_char_count = 0\n",
    "    for char in password:\n",
    "        if char.isupper():\n",
    "            uppercase_count += 1\n",
    "        elif char.islower():\n",
    "            lowercase_count += 1\n",
    "        elif char.isdigit():\n",
    "            digit_count += 1\n",
    "        elif re.match(r'[^\\w\\s]', char):\n",
    "            special_char_count += 1\n",
    "    if uppercase_count >= 2 and lowercase_count >= 2 and digit_count >= 1 and special_char_count >= 3:\n",
    "        return \"Valid Password\"\n",
    "    else:\n",
    "        return \"Invalid Password\"\n"
   ]
  },
  {
   "cell_type": "code",
   "execution_count": 3,
   "id": "9c8da75c-5685-42d7-af22-19ea11dadea4",
   "metadata": {},
   "outputs": [
    {
     "data": {
      "text/plain": [
       "'This function takes a password as input, checks its length and counts the number of uppercase letters, lowercase letters, digits, and special characters in the password. It then checks whether each count meets the requirements specified in the problem statement. If all conditions are satisfied, the function returns \"Valid Password\"; otherwise, it returns \"Invalid Password\".'"
      ]
     },
     "execution_count": 3,
     "metadata": {},
     "output_type": "execute_result"
    }
   ],
   "source": [
    "\"\"\"This function takes a password as input, checks its length and counts the number of uppercase letters, lowercase letters, digits, and special characters in the password. It then checks whether each count meets the requirements specified in the problem statement. If all conditions are satisfied, the function returns \"Valid Password\"; otherwise, it returns \"Invalid Password\".\"\"\""
   ]
  },
  {
   "cell_type": "code",
   "execution_count": 5,
   "id": "ed8b326e-918c-444d-9bc1-40e3d5614e55",
   "metadata": {},
   "outputs": [
    {
     "name": "stdout",
     "output_type": "stream",
     "text": [
      "Invalid Password\n",
      "Invalid Password\n",
      "Invalid Password\n",
      "Invalid Password\n"
     ]
    },
    {
     "data": {
      "text/plain": [
       "'In this example, password3 meets all the requirements (it has 2 uppercase letters, 2 lowercase letters, 3 special characters, and 4 digits), while password1, password2, and password4 do not.'"
      ]
     },
     "execution_count": 5,
     "metadata": {},
     "output_type": "execute_result"
    }
   ],
   "source": [
    "password1 = \"PassWord123!\"\n",
    "password2 = \"password\"\n",
    "password3 = \"Pw123!@#$%\"\n",
    "password4 = \"1234abcdEf!\"\n",
    "\n",
    "print(check_password(password1))  \n",
    "print(check_password(password2))  \n",
    "print(check_password(password3))  \n",
    "print(check_password(password4))  \n",
    "\"\"\"In this example, password3 meets all the requirements (it has 2 uppercase letters, 2 lowercase letters, 3 special characters, and 4 digits), while password1, password2, and password4 do not.\"\"\""
   ]
  },
  {
   "cell_type": "markdown",
   "id": "d942029f-aef3-4daf-93c3-8d19c017440f",
   "metadata": {},
   "source": [
    "Q2. Solve the below-given questions using at least one of the following:\n",
    "1. Lambda functioJ\n",
    "2. Filter functioJ\n",
    "3. Zap functioJ\n",
    "4. List ComprehensioI\n",
    "B Check if the string starts with a particular letterY\n",
    "B Check if the string is numericY\n",
    "B Sort a list of tuples having fruit names and their quantity. [(\"mango\",99),(\"orange\",80), (\"grapes\", 1000)-\n",
    "B Find the squares of numbers from 1 to 10Y\n",
    "B Find the cube root of numbers from 1 to 10Y\n",
    "B Check if a given number is evenY\n",
    "B Filter odd numbers from the given list.\n",
    "[1,2,3,4,5,6,7,8,9,10-\n",
    "B Sort a list of integers into positive and negative integers lists.\n",
    "[1,2,3,4,5,6,-1,-2,-3,-4,-5,0]"
   ]
  },
  {
   "cell_type": "markdown",
   "id": "ad5c374a-0caf-4c4b-9212-274a15c7b0f5",
   "metadata": {},
   "source": [
    "(1)Check if the string starts with a particular letter:"
   ]
  },
  {
   "cell_type": "code",
   "execution_count": 6,
   "id": "1046c291-3678-476e-9ce8-947fb49105cb",
   "metadata": {},
   "outputs": [
    {
     "name": "stdout",
     "output_type": "stream",
     "text": [
      "True\n"
     ]
    }
   ],
   "source": [
    "#Using lambda function and startswith method:\n",
    "starts_with = lambda string, letter: string.startswith(letter)\n",
    "result = starts_with(\"Hello World\", \"H\")\n",
    "print(result) "
   ]
  },
  {
   "cell_type": "markdown",
   "id": "cd86784c-a90b-4929-8393-9df6fdbb2fbd",
   "metadata": {},
   "source": [
    "(2)Check if the string is numeric:"
   ]
  },
  {
   "cell_type": "code",
   "execution_count": 7,
   "id": "3cc65e2b-9707-452c-8663-52d951c28513",
   "metadata": {},
   "outputs": [
    {
     "name": "stdout",
     "output_type": "stream",
     "text": [
      "True\n"
     ]
    }
   ],
   "source": [
    "#Using lambda function and isnumeric method:\n",
    "is_numeric = lambda string: string.isnumeric()\n",
    "result = is_numeric(\"12345\")\n",
    "print(result) \n"
   ]
  },
  {
   "cell_type": "markdown",
   "id": "6ae41b90-7d25-4787-9824-bfa441ddbb7a",
   "metadata": {},
   "source": [
    "(3)Sort a list of tuples having fruit names and their quantity:"
   ]
  },
  {
   "cell_type": "code",
   "execution_count": 8,
   "id": "6c4b60a3-a344-422b-8e06-339795841ae0",
   "metadata": {},
   "outputs": [
    {
     "name": "stdout",
     "output_type": "stream",
     "text": [
      "[('orange', 80), ('mango', 99), ('grapes', 1000)]\n"
     ]
    }
   ],
   "source": [
    "#Using lambda function and sorted method:\n",
    "fruits = [(\"mango\",99),(\"orange\",80), (\"grapes\", 1000)]\n",
    "sorted_fruits = sorted(fruits, key=lambda x: x[1])\n",
    "print(sorted_fruits) \n"
   ]
  },
  {
   "cell_type": "markdown",
   "id": "8b1f21b8-d979-4eec-921c-045b76dfdd96",
   "metadata": {},
   "source": [
    "(4)Find the squares of numbers from 1 to 10:"
   ]
  },
  {
   "cell_type": "code",
   "execution_count": 10,
   "id": "9eefd79f-da75-4c62-b96f-e61efad3f965",
   "metadata": {},
   "outputs": [
    {
     "name": "stdout",
     "output_type": "stream",
     "text": [
      "[1, 4, 9, 16, 25, 36, 49, 64, 81, 100]\n"
     ]
    }
   ],
   "source": [
    "#Using list comprehension\n",
    "squares = [num**2 for num in range(1,11)]\n",
    "print(squares) \n"
   ]
  },
  {
   "cell_type": "markdown",
   "id": "b73eff92-98a2-4163-b5ce-3dfbc0c6df50",
   "metadata": {},
   "source": [
    "(5)Find the cube root of numbers from 1 to 10:"
   ]
  },
  {
   "cell_type": "code",
   "execution_count": 11,
   "id": "88f90eb1-692f-4321-b8f3-b160bb0d1958",
   "metadata": {},
   "outputs": [
    {
     "name": "stdout",
     "output_type": "stream",
     "text": [
      "[1.0, 1.26, 1.44, 1.59, 1.71, 1.82, 1.91, 2.0, 2.08, 2.15]\n"
     ]
    }
   ],
   "source": [
    "#Using list comprehension and math module:\n",
    "import math\n",
    "cube_roots = [round(math.pow(num, 1/3), 2) for num in range(1,11)]\n",
    "print(cube_roots) \n"
   ]
  },
  {
   "cell_type": "markdown",
   "id": "d62fdecf-1923-4fa5-8114-3bc801f1d629",
   "metadata": {},
   "source": [
    "(6)Check if a given number is even:"
   ]
  },
  {
   "cell_type": "code",
   "execution_count": 12,
   "id": "4711d612-7a6a-4e06-94cb-3652a6240dcf",
   "metadata": {},
   "outputs": [
    {
     "name": "stdout",
     "output_type": "stream",
     "text": [
      "True\n"
     ]
    }
   ],
   "source": [
    "#Using lambda function and modulo operator:\n",
    "is_even = lambda num: num % 2 == 0\n",
    "result = is_even(10)\n",
    "print(result) "
   ]
  },
  {
   "cell_type": "markdown",
   "id": "816dca70-79bb-4837-bb31-86c0b3a0f35d",
   "metadata": {},
   "source": [
    "(7)Filter odd numbers from the given list:"
   ]
  },
  {
   "cell_type": "code",
   "execution_count": null,
   "id": "5e96aabe-3952-4c82-9475-d893c8428d01",
   "metadata": {},
   "outputs": [],
   "source": [
    "#Using filter function and lambda function:\n"
   ]
  }
 ],
 "metadata": {
  "kernelspec": {
   "display_name": "Python 3 (ipykernel)",
   "language": "python",
   "name": "python3"
  },
  "language_info": {
   "codemirror_mode": {
    "name": "ipython",
    "version": 3
   },
   "file_extension": ".py",
   "mimetype": "text/x-python",
   "name": "python",
   "nbconvert_exporter": "python",
   "pygments_lexer": "ipython3",
   "version": "3.10.8"
  }
 },
 "nbformat": 4,
 "nbformat_minor": 5
}
