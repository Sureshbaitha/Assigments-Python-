{
 "cells": [
  {
   "cell_type": "markdown",
   "id": "012102b0-e2b2-4735-8006-b21595971c2e",
   "metadata": {},
   "source": [
    "Q1. Explain Class and Object with respect to Object-Oriented Programming. Give a suitable example."
   ]
  },
  {
   "cell_type": "code",
   "execution_count": 1,
   "id": "a0e2e34b-db42-40a2-896c-71addb46f086",
   "metadata": {},
   "outputs": [
    {
     "data": {
      "text/plain": [
       "'A class is a collection of objects. A class contains the blueprints or the prototype from which the objects are being created. It is a logical entity that contains some attributes and methods.'"
      ]
     },
     "execution_count": 1,
     "metadata": {},
     "output_type": "execute_result"
    }
   ],
   "source": [
    "#CLASS\n",
    "\"\"\"A class is a collection of objects. A class contains the blueprints or the prototype from which the objects are being created. It is a logical entity that contains some attributes and methods.\"\"\" "
   ]
  },
  {
   "cell_type": "code",
   "execution_count": 2,
   "id": "306d7d44-da7f-47e5-b621-6ceee69efae4",
   "metadata": {},
   "outputs": [
    {
     "data": {
      "text/plain": [
       "'(a)Classes are created by keyword class.\\n(b)Attributes are the variables that belong to a class.\\n(c)Attributes are always public and can be accessed using the dot (.) operator. Eg.: Myclass.Myattribute'"
      ]
     },
     "execution_count": 2,
     "metadata": {},
     "output_type": "execute_result"
    }
   ],
   "source": [
    "#Some points on Python class: \n",
    "\"\"\"(a)Classes are created by keyword class.\n",
    "(b)Attributes are the variables that belong to a class.\n",
    "(c)Attributes are always public and can be accessed using the dot (.) operator. Eg.: Myclass.Myattribute\"\"\""
   ]
  },
  {
   "cell_type": "code",
   "execution_count": 3,
   "id": "4fa20948-7b4a-4bc5-a4a1-c0ee921b8ca6",
   "metadata": {},
   "outputs": [],
   "source": [
    "#Example: Creating an empty Class in Python\n",
    "class Dog:\n",
    "    pass"
   ]
  },
  {
   "cell_type": "code",
   "execution_count": 4,
   "id": "cb529237-a3ea-424c-9e9d-4375361f41bc",
   "metadata": {},
   "outputs": [
    {
     "data": {
      "text/plain": [
       "'The object is an entity that has a state and behavior associated with it. It may be any real-world object like a mouse, keyboard, chair, table, pen, etc. Integers, strings, floating-point numbers, even arrays, and dictionaries, are all objects.'"
      ]
     },
     "execution_count": 4,
     "metadata": {},
     "output_type": "execute_result"
    }
   ],
   "source": [
    "#Objects\n",
    "\"\"\"The object is an entity that has a state and behavior associated with it. It may be any real-world object like a mouse, keyboard, chair, table, pen, etc. Integers, strings, floating-point numbers, even arrays, and dictionaries, are all objects.\"\"\""
   ]
  },
  {
   "cell_type": "code",
   "execution_count": 5,
   "id": "90d39e43-a93e-4957-83b3-62ac7175d6bb",
   "metadata": {},
   "outputs": [
    {
     "data": {
      "text/plain": [
       "'(a)State: It is represented by the attributes of an object. It also reflects the properties of an object.\\n(b)Behavior: It is represented by the methods of an object. It also reflects the response of an object to other objects.\\n(c)Identity: It gives a unique name to an object and enables one object to interact with other objects.'"
      ]
     },
     "execution_count": 5,
     "metadata": {},
     "output_type": "execute_result"
    }
   ],
   "source": [
    "#An object consists of :\n",
    "\"\"\"(a)State: It is represented by the attributes of an object. It also reflects the properties of an object.\n",
    "(b)Behavior: It is represented by the methods of an object. It also reflects the response of an object to other objects.\n",
    "(c)Identity: It gives a unique name to an object and enables one object to interact with other objects.\"\"\""
   ]
  },
  {
   "cell_type": "code",
   "execution_count": 6,
   "id": "34cb7657-da79-4ac9-96c6-f62c1a529d4d",
   "metadata": {},
   "outputs": [],
   "source": [
    "#Example: Creating an object\n",
    "class pwskills2 :\n",
    "    \n",
    "    def __init__(sudh ,phone_number , email_id , student_id ):\n",
    "        sudh.phone_number1 = phone_number\n",
    "        sudh.email_id1 = email_id\n",
    "        sudh.student_id1 = student_id\n",
    "    \n",
    "    def return_student_deetials(sudh) : \n",
    "        return sudh.student_id1 ,sudh.phone_number1 ,sudh.email_id1"
   ]
  },
  {
   "cell_type": "code",
   "execution_count": 7,
   "id": "774ebf36-73d1-4e4b-8ace-677cc7f71465",
   "metadata": {},
   "outputs": [],
   "source": [
    "rohan = pwskills2(345365, \"rohan@gmail.com\" , 324)"
   ]
  },
  {
   "cell_type": "code",
   "execution_count": 8,
   "id": "c1ee03ec-2a41-4d9c-8264-1c72b5ee8e01",
   "metadata": {},
   "outputs": [
    {
     "data": {
      "text/plain": [
       "345365"
      ]
     },
     "execution_count": 8,
     "metadata": {},
     "output_type": "execute_result"
    }
   ],
   "source": [
    "rohan.phone_number1"
   ]
  },
  {
   "cell_type": "markdown",
   "id": "406a5673-2ac5-4426-a02e-77dcd8e2dc5b",
   "metadata": {},
   "source": [
    "Q.2 Name the four pillars of OOPs."
   ]
  },
  {
   "cell_type": "code",
   "execution_count": 9,
   "id": "9a42f2ba-9dfd-409d-a1a7-4689408d8b90",
   "metadata": {},
   "outputs": [
    {
     "data": {
      "text/plain": [
       "'Answer:-The four pillars for OOP are Abstraction, Encapsulation, Inheritance, Polymorphism.'"
      ]
     },
     "execution_count": 9,
     "metadata": {},
     "output_type": "execute_result"
    }
   ],
   "source": [
    "\"\"\"Answer:-The four pillars for OOP are Abstraction, Encapsulation, Inheritance, Polymorphism.\"\"\""
   ]
  },
  {
   "cell_type": "markdown",
   "id": "7bf962c1-c2c4-4a4a-ac99-d08504c59152",
   "metadata": {},
   "source": [
    "Q3. Explain why the __init__() function is used. Give a suitable example."
   ]
  },
  {
   "cell_type": "code",
   "execution_count": 10,
   "id": "3561e56c-e5c4-4e1f-aa28-e4a07371ebed",
   "metadata": {},
   "outputs": [
    {
     "data": {
      "text/plain": [
       "'Answer:-The examples above are classes and objects in their simplest form, and are not really useful in real life applications.\\n\\nTo understand the meaning of classes we have to understand the built-in __init__() function.\\n\\nAll classes have a function called __init__(), which is always executed when the class is being initiated.\\n\\nUse the __init__() function to assign values to object properties, or other operations that are necessary to do when the object is being created:'"
      ]
     },
     "execution_count": 10,
     "metadata": {},
     "output_type": "execute_result"
    }
   ],
   "source": [
    "#The __init__() Function\n",
    "\"\"\"Answer:-The examples above are classes and objects in their simplest form, and are not really useful in real life applications.\n",
    "\n",
    "To understand the meaning of classes we have to understand the built-in __init__() function.\n",
    "\n",
    "All classes have a function called __init__(), which is always executed when the class is being initiated.\n",
    "\n",
    "Use the __init__() function to assign values to object properties, or other operations that are necessary to do when the object is being created:\"\"\""
   ]
  },
  {
   "cell_type": "code",
   "execution_count": 11,
   "id": "f0da2ac7-74ea-4323-a4fb-ea042ebc8eb1",
   "metadata": {},
   "outputs": [
    {
     "name": "stdout",
     "output_type": "stream",
     "text": [
      "John\n",
      "36\n"
     ]
    }
   ],
   "source": [
    "#Example\n",
    "#Create a class named Person, use the __init__() function to assign values for name and age:\n",
    "class Person:\n",
    "  def __init__(self, name, age):\n",
    "    self.name = name\n",
    "    self.age = age\n",
    "\n",
    "p1 = Person(\"John\", 36)\n",
    "\n",
    "print(p1.name)\n",
    "print(p1.age)"
   ]
  },
  {
   "cell_type": "markdown",
   "id": "40a377fa-0fa8-47fd-b5ba-eeb87eb56d6d",
   "metadata": {},
   "source": [
    "Q4. Why self is used in OOPs?"
   ]
  },
  {
   "cell_type": "code",
   "execution_count": 12,
   "id": "f9a8ed9c-82fc-46fe-8dbb-b7d6f2b5f1cc",
   "metadata": {},
   "outputs": [
    {
     "data": {
      "text/plain": [
       "'Answer:-self represents the instance of the class. By using the “self”  we can access the attributes and methods of the class in python. It binds the attributes with the given arguments.'"
      ]
     },
     "execution_count": 12,
     "metadata": {},
     "output_type": "execute_result"
    }
   ],
   "source": [
    "#self in Python Classes\n",
    "\"\"\"Answer:-self represents the instance of the class. By using the “self”  we can access the attributes and methods of the class in python. It binds the attributes with the given arguments.\"\"\""
   ]
  },
  {
   "cell_type": "markdown",
   "id": "21ec67cb-b340-4a52-8ddc-eead7dd2cd20",
   "metadata": {},
   "source": [
    "Q5. What is inheritance? Give an example for each type of inheritance."
   ]
  },
  {
   "cell_type": "code",
   "execution_count": 13,
   "id": "f782a5ca-973a-4052-8ccd-ab12d7dd6434",
   "metadata": {},
   "outputs": [
    {
     "data": {
      "text/plain": [
       "'Answer:-Inheritance is a mechanism of acquiring the features and behaviors of a class by another class. The class whose members are inherited is called the base class, and the class that inherits those members is called the derived class.'"
      ]
     },
     "execution_count": 13,
     "metadata": {},
     "output_type": "execute_result"
    }
   ],
   "source": [
    "\"\"\"Answer:-Inheritance is a mechanism of acquiring the features and behaviors of a class by another class. The class whose members are inherited is called the base class, and the class that inherits those members is called the derived class.\"\"\""
   ]
  },
  {
   "cell_type": "markdown",
   "id": "3b890b92-97f1-447b-acf7-e1a216cc0afc",
   "metadata": {},
   "source": [
    "#Types of Inheritance in Python"
   ]
  },
  {
   "cell_type": "code",
   "execution_count": 14,
   "id": "b779a5b4-64ad-48e8-b76a-c3a1ee2c2002",
   "metadata": {},
   "outputs": [
    {
     "name": "stdout",
     "output_type": "stream",
     "text": [
      "This function is in parent class.\n",
      "This function is in child class.\n"
     ]
    }
   ],
   "source": [
    "#Single Inheritance: \n",
    "\"\"\"Answer:-Single inheritance enables a derived class to inherit properties from a single parent class, thus enabling code reusability and the addition of new features to existing code.\"\"\"\n",
    "# single inheritance\n",
    "# Base class\n",
    "class Parent:\n",
    "    def func1(self):\n",
    "        print(\"This function is in parent class.\")\n",
    " \n",
    "# Derived class\n",
    " \n",
    " \n",
    "class Child(Parent):\n",
    "    def func2(self):\n",
    "        print(\"This function is in child class.\")\n",
    " \n",
    " \n",
    "# Driver's code\n",
    "object = Child()\n",
    "object.func1()\n",
    "object.func2()"
   ]
  },
  {
   "cell_type": "code",
   "execution_count": 15,
   "id": "22804e8f-9663-4644-85f2-35cdc5576947",
   "metadata": {},
   "outputs": [
    {
     "data": {
      "text/plain": [
       "'When a class can be derived from more than one base class this type of inheritance is called multiple inheritances. In multiple inheritances, all the features of the base classes are inherited into the derived class.'"
      ]
     },
     "execution_count": 15,
     "metadata": {},
     "output_type": "execute_result"
    }
   ],
   "source": [
    "#Multiple Inheritance: \n",
    "\"\"\"When a class can be derived from more than one base class this type of inheritance is called multiple inheritances. In multiple inheritances, all the features of the base classes are inherited into the derived class.\"\"\""
   ]
  },
  {
   "cell_type": "code",
   "execution_count": 16,
   "id": "2697da90-0dc4-4cda-b4e9-5db5d9aca0b5",
   "metadata": {},
   "outputs": [
    {
     "name": "stdout",
     "output_type": "stream",
     "text": [
      "Father : RAM\n",
      "Mother : SITA\n"
     ]
    }
   ],
   "source": [
    "# multiple inheritance\n",
    "# Base class1\n",
    "class Mother:\n",
    "    mothername = \"\"\n",
    " \n",
    "    def mother(self):\n",
    "        print(self.mothername)\n",
    " \n",
    "# Base class2\n",
    " \n",
    " \n",
    "class Father:\n",
    "    fathername = \"\"\n",
    " \n",
    "    def father(self):\n",
    "        print(self.fathername)\n",
    " \n",
    "# Derived class\n",
    " \n",
    " \n",
    "class Son(Mother, Father):\n",
    "    def parents(self):\n",
    "        print(\"Father :\", self.fathername)\n",
    "        print(\"Mother :\", self.mothername)\n",
    " \n",
    " \n",
    "# Driver's code\n",
    "s1 = Son()\n",
    "s1.fathername = \"RAM\"\n",
    "s1.mothername = \"SITA\"\n",
    "s1.parents()"
   ]
  },
  {
   "cell_type": "code",
   "execution_count": null,
   "id": "c0bdaf8d-3f11-469f-9039-b32f07c36012",
   "metadata": {},
   "outputs": [],
   "source": []
  }
 ],
 "metadata": {
  "kernelspec": {
   "display_name": "Python 3 (ipykernel)",
   "language": "python",
   "name": "python3"
  },
  "language_info": {
   "codemirror_mode": {
    "name": "ipython",
    "version": 3
   },
   "file_extension": ".py",
   "mimetype": "text/x-python",
   "name": "python",
   "nbconvert_exporter": "python",
   "pygments_lexer": "ipython3",
   "version": "3.10.8"
  }
 },
 "nbformat": 4,
 "nbformat_minor": 5
}
