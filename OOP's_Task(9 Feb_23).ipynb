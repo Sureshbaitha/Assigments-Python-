{
 "cells": [
  {
   "cell_type": "markdown",
   "id": "c05b165a-a71c-4434-9782-42547b4254bd",
   "metadata": {},
   "source": [
    "Q1, Create a vehicle class with an init method having instance variables as name_of_vehicle, max_speed\n",
    "and average_of_vehicle."
   ]
  },
  {
   "cell_type": "code",
   "execution_count": 2,
   "id": "5daa613f-5a83-4b85-ae26-bc12505d6723",
   "metadata": {},
   "outputs": [
    {
     "data": {
      "text/plain": [
       "\"The __init__ method is a special method that is called when an object is created from the class and it is used to initialize the object's attributes. The variables name_of_vehicle, max_speed, and average_of_vehicle are passed as arguments to the __init__ method and they are stored as instance variables of the object.\""
      ]
     },
     "execution_count": 2,
     "metadata": {},
     "output_type": "execute_result"
    }
   ],
   "source": [
    "\"\"\"Answer:-Sure, here is an example of a vehicle class with the specified instance variables:\"\"\"\n",
    "\n",
    "class Vehicle:\n",
    "    def __init__(self, name_of_vehicle, max_speed, average_of_vehicle):\n",
    "        self.name_of_vehicle = name_of_vehicle\n",
    "        self.max_speed = max_speed\n",
    "        self.average_of_vehicle = average_of_vehicle\n",
    "        \n",
    "\"\"\"The __init__ method is a special method that is called when an object is created from the class and it is used to initialize the object's attributes. The variables name_of_vehicle, max_speed, and average_of_vehicle are passed as arguments to the __init__ method and they are stored as instance variables of the object.\"\"\""
   ]
  },
  {
   "cell_type": "markdown",
   "id": "0032c410-e4f2-4025-adfb-6af5b5696917",
   "metadata": {},
   "source": [
    "Q2. Create a child class car from the vehicle class created in Que 1, which will inherit the vehicle class.\n",
    "Create a method named seating_capacity which takes capacity as an argument and returns the name of\n",
    "the vehicle and its seating capacity."
   ]
  },
  {
   "cell_type": "code",
   "execution_count": 3,
   "id": "44392ee1-1965-4a54-8f7d-0fd870a8677f",
   "metadata": {},
   "outputs": [
    {
     "data": {
      "text/plain": [
       "'The Car class is defined by inheriting from the Vehicle class using the syntax class Car(Vehicle). This means that the Car class will have all the attributes and methods of the Vehicle class, and can add additional attributes and methods of its own.\\n\\nThe seating_capacity method takes no arguments and returns a string that includes the name of the vehicle and its seating capacity.'"
      ]
     },
     "execution_count": 3,
     "metadata": {},
     "output_type": "execute_result"
    }
   ],
   "source": [
    "\"\"\"Answer:-example of a Car class that inherits from the Vehicle class and has an additional method seating_capacity:\"\"\"\n",
    "class Car(Vehicle):\n",
    "    def __init__(self, name_of_vehicle, max_speed, average_of_vehicle, capacity):\n",
    "        Vehicle.__init__(self, name_of_vehicle, max_speed, average_of_vehicle)\n",
    "        self.capacity = capacity\n",
    "\n",
    "    def seating_capacity(self):\n",
    "        return f\"{self.name_of_vehicle} has a seating capacity of {self.capacity}.\"\n",
    "    \n",
    "\"\"\"The Car class is defined by inheriting from the Vehicle class using the syntax class Car(Vehicle). This means that the Car class will have all the attributes and methods of the Vehicle class, and can add additional attributes and methods of its own.\n",
    "\n",
    "The seating_capacity method takes no arguments and returns a string that includes the name of the vehicle and its seating capacity.\"\"\""
   ]
  },
  {
   "cell_type": "markdown",
   "id": "d5360c61-da8c-4256-99b7-0f2715e6d350",
   "metadata": {},
   "source": [
    "Q3. What is multiple inheritance? Write a python code to demonstrate multiple inheritance."
   ]
  },
  {
   "cell_type": "code",
   "execution_count": 4,
   "id": "0290ee4c-5b37-4775-82ea-2580c2ecb1be",
   "metadata": {},
   "outputs": [
    {
     "data": {
      "text/plain": [
       "'Answer:-Multiple inheritance is a feature in object-oriented programming languages where a class can inherit attributes and behaviors from more than one parent class. This means that a class can inherit properties and methods from multiple classes, rather than just a single parent class.'"
      ]
     },
     "execution_count": 4,
     "metadata": {},
     "output_type": "execute_result"
    }
   ],
   "source": [
    "\"\"\"Answer:-Multiple inheritance is a feature in object-oriented programming languages where a class can inherit attributes and behaviors from more than one parent class. This means that a class can inherit properties and methods from multiple classes, rather than just a single parent class.\"\"\""
   ]
  },
  {
   "cell_type": "code",
   "execution_count": 6,
   "id": "61cb12c1-c0c8-4c40-8834-a5f382719842",
   "metadata": {},
   "outputs": [
    {
     "name": "stdout",
     "output_type": "stream",
     "text": [
      "I'm a parent 1\n",
      "I'm a parent 2\n"
     ]
    },
    {
     "data": {
      "text/plain": [
       "'This code defines three classes: Parent1, Parent2, and Child. Child inherits from both Parent1 and Parent2 classes, so it has access to the attributes and methods of both classes. The Child class is instantiated and its print_parents method is called, which in turn calls the methods from both parent classes to demonstrate multiple inheritance. The output of this code will be:'"
      ]
     },
     "execution_count": 6,
     "metadata": {},
     "output_type": "execute_result"
    }
   ],
   "source": [
    "\"\"\"Here is an example of multiple inheritance in Python:\"\"\"\n",
    "class Parent1:\n",
    "    def __init__(self):\n",
    "        self.str1 = \"I'm a parent 1\"\n",
    "\n",
    "    def print_parent1(self):\n",
    "        print(self.str1)\n",
    "\n",
    "class Parent2:\n",
    "    def __init__(self):\n",
    "        self.str2 = \"I'm a parent 2\"\n",
    "\n",
    "    def print_parent2(self):\n",
    "        print(self.str2)\n",
    "\n",
    "class Child(Parent1, Parent2):\n",
    "    def __init__(self):\n",
    "        Parent1.__init__(self)\n",
    "        Parent2.__init__(self)\n",
    "\n",
    "    def print_parents(self):\n",
    "        self.print_parent1()\n",
    "        self.print_parent2()\n",
    "\n",
    "child = Child()\n",
    "child.print_parents()\n",
    "\n",
    "\"\"\"This code defines three classes: Parent1, Parent2, and Child. Child inherits from both Parent1 and Parent2 classes, so it has access to the attributes and methods of both classes. The Child class is instantiated and its print_parents method is called, which in turn calls the methods from both parent classes to demonstrate multiple inheritance. The output of this code will be:\"\"\""
   ]
  },
  {
   "cell_type": "markdown",
   "id": "d9e36995-6ca5-477a-8b28-24dd7b047b4a",
   "metadata": {},
   "source": [
    "Q4. What are getter and setter in python? Create a class and create a getter and a setter method in this\n",
    "class."
   ]
  },
  {
   "cell_type": "code",
   "execution_count": 7,
   "id": "d402dd7f-ed56-4f35-8acb-023bdb1af07c",
   "metadata": {},
   "outputs": [
    {
     "data": {
      "text/plain": [
       "\"Answer:-Getter and setter methods are commonly used in object-oriented programming to provide controlled access to an object's attributes. A getter method is used to retrieve the value of an object's attribute, while a setter method is used to set or update the value of an object's attribute.\""
      ]
     },
     "execution_count": 7,
     "metadata": {},
     "output_type": "execute_result"
    }
   ],
   "source": [
    "\"\"\"Answer:-Getter and setter methods are commonly used in object-oriented programming to provide controlled access to an object's attributes. A getter method is used to retrieve the value of an object's attribute, while a setter method is used to set or update the value of an object's attribute.\"\"\""
   ]
  },
  {
   "cell_type": "code",
   "execution_count": 9,
   "id": "cd9bb473-d318-4262-ba77-a61067482d68",
   "metadata": {},
   "outputs": [
    {
     "name": "stdout",
     "output_type": "stream",
     "text": [
      "suresh kumar\n",
      "suresh kumar\n"
     ]
    },
    {
     "data": {
      "text/plain": [
       "'In this example, the Person class has an instance variable __name which is initialized in the constructor. The get_name method returns the value of the __name variable, while the set_name method allows the value of __name to be updated.'"
      ]
     },
     "execution_count": 9,
     "metadata": {},
     "output_type": "execute_result"
    }
   ],
   "source": [
    "\"\"\"example of a class with a getter and setter method:\"\"\"\n",
    "class Person:\n",
    "    def __init__(self, name):\n",
    "        self.__name = name\n",
    "\n",
    "    def get_name(self):\n",
    "        return self.__name\n",
    "\n",
    "    def set_name(self, name):\n",
    "        self.__name = name\n",
    "\n",
    "person = Person(\"suresh kumar\")\n",
    "print(person.get_name()) \n",
    "person.set_name(\"suresh kumar\")\n",
    "print(person.get_name()) \n",
    "\n",
    "\"\"\"In this example, the Person class has an instance variable __name which is initialized in the constructor. The get_name method returns the value of the __name variable, while the set_name method allows the value of __name to be updated.\"\"\""
   ]
  },
  {
   "cell_type": "markdown",
   "id": "a5aab86f-102e-4cba-978d-c4d85bb764fe",
   "metadata": {},
   "source": [
    "Q5.What is method overriding in python? Write a python code to demonstrate method overriding."
   ]
  },
  {
   "cell_type": "code",
   "execution_count": 10,
   "id": "a4573095-ad84-40be-a0fd-06d2b76132ff",
   "metadata": {},
   "outputs": [
    {
     "data": {
      "text/plain": [
       "'Answer:-Method overriding is a feature in object-oriented programming that allows a subclass to provide a different implementation of a method that is already defined in its superclass. The purpose of method overriding is to allow a subclass to inherit methods from its superclass but with some changes to the behavior of the method to match the specific requirements of the subclass.'"
      ]
     },
     "execution_count": 10,
     "metadata": {},
     "output_type": "execute_result"
    }
   ],
   "source": [
    "\"\"\"Answer:-Method overriding is a feature in object-oriented programming that allows a subclass to provide a different implementation of a method that is already defined in its superclass. The purpose of method overriding is to allow a subclass to inherit methods from its superclass but with some changes to the behavior of the method to match the specific requirements of the subclass.\"\"\""
   ]
  },
  {
   "cell_type": "code",
   "execution_count": 11,
   "id": "bd35f262-d55c-4f20-bd59-ac51d87ad298",
   "metadata": {},
   "outputs": [
    {
     "name": "stdout",
     "output_type": "stream",
     "text": [
      "The dog barks\n"
     ]
    },
    {
     "data": {
      "text/plain": [
       "'In this example, we have a superclass Animal with a method make_sound. The Dog class inherits from Animal and overrides the make_sound method with its own implementation. When we create an instance of Dog and call the make_sound method, the output is \"The dog barks\", which demonstrates that the method has been successfully overridden.'"
      ]
     },
     "execution_count": 11,
     "metadata": {},
     "output_type": "execute_result"
    }
   ],
   "source": [
    "\"\"\"example of method overriding in Python:\"\"\"\n",
    "class Animal:\n",
    "    def make_sound(self):\n",
    "        print(\"The animal makes a sound\")\n",
    "\n",
    "class Dog(Animal):\n",
    "    def make_sound(self):\n",
    "        print(\"The dog barks\")\n",
    "\n",
    "dog = Dog()\n",
    "dog.make_sound()\n",
    "\n",
    "\"\"\"In this example, we have a superclass Animal with a method make_sound. The Dog class inherits from Animal and overrides the make_sound method with its own implementation. When we create an instance of Dog and call the make_sound method, the output is \"The dog barks\", which demonstrates that the method has been successfully overridden.\"\"\""
   ]
  },
  {
   "cell_type": "code",
   "execution_count": null,
   "id": "e7dbb4bd-b5b4-4c99-b91a-1c3f7a25807a",
   "metadata": {},
   "outputs": [],
   "source": []
  }
 ],
 "metadata": {
  "kernelspec": {
   "display_name": "Python 3 (ipykernel)",
   "language": "python",
   "name": "python3"
  },
  "language_info": {
   "codemirror_mode": {
    "name": "ipython",
    "version": 3
   },
   "file_extension": ".py",
   "mimetype": "text/x-python",
   "name": "python",
   "nbconvert_exporter": "python",
   "pygments_lexer": "ipython3",
   "version": "3.10.8"
  }
 },
 "nbformat": 4,
 "nbformat_minor": 5
}
