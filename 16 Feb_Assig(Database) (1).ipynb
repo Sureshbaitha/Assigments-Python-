{
 "cells": [
  {
   "cell_type": "markdown",
   "id": "018aa50e-3900-485a-9519-2e7623e0c23e",
   "metadata": {},
   "source": [
    "Q1. What is a database? Differentiate between SQL and NoSQL databases."
   ]
  },
  {
   "cell_type": "markdown",
   "id": "3e758a86-fe9b-4658-b9e4-853cf71fba7e",
   "metadata": {},
   "source": [
    "Answer:-A database is a collection of data that is organized in a structured manner for efficient storage, retrieval, and manipulation. SQL databases are relational and store data in tables, while NoSQL databases are non-relational and store data in various ways."
   ]
  },
  {
   "cell_type": "markdown",
   "id": "bfe56803-794c-43a6-881d-c96479213843",
   "metadata": {},
   "source": [
    "Q2. What is DDL? Explain why CREATE, DROP, ALTER, and TRUNCATE are used with an example."
   ]
  },
  {
   "cell_type": "markdown",
   "id": "748512d1-d904-41f9-afb2-2851b9267627",
   "metadata": {},
   "source": [
    "Answer:-DDL (Data Definition Language) is used to define and manipulate the structure of a database. CREATE is used to create a new object, DROP is used to delete an object, ALTER is used to modify an object, and TRUNCATE is used to delete all the data from a table."
   ]
  },
  {
   "cell_type": "markdown",
   "id": "ffd3c602-3376-462e-96b5-2a504e820f03",
   "metadata": {},
   "source": [
    "Q3. What is DML? Explain INSERT, UPDATE, and DELETE with an example."
   ]
  },
  {
   "cell_type": "markdown",
   "id": "b20e30e8-624f-4274-9182-5d3b26d6fbc5",
   "metadata": {},
   "source": [
    "Answer:-DML (Data Manipulation Language) is used to manipulate the data within a database. INSERT is used to add new data, UPDATE is used to modify existing data, and DELETE is used to delete data from a table."
   ]
  },
  {
   "cell_type": "markdown",
   "id": "e9a32ce2-5e08-45bc-aa68-25a927bc8672",
   "metadata": {},
   "source": [
    "Q4. What is DQL? Explain SELECT with an example."
   ]
  },
  {
   "cell_type": "markdown",
   "id": "ad1136c4-d603-4fe5-8f77-f61ca3418c54",
   "metadata": {},
   "source": [
    "Answer:-DQL (Data Query Language) is used to retrieve data from a database. SELECT is used to retrieve data from a table based on specific conditions. For example, SELECT * FROM employees WHERE age > 30; would retrieve all employees with an age greater than 30 from the 'employees' table."
   ]
  },
  {
   "cell_type": "markdown",
   "id": "ad20321d-b831-45c2-872b-c99377a7a96e",
   "metadata": {},
   "source": [
    "Q5. Explain Primary Key and Foreign Key."
   ]
  },
  {
   "cell_type": "markdown",
   "id": "05912798-139b-434b-bd1e-c16f57958698",
   "metadata": {},
   "source": [
    "Answer:-A Primary Key is a column in a table that uniquely identifies each row. It cannot contain null values and must be unique across all rows. A Foreign Key is a column in a table that links to the Primary Key of another table. It creates a relationship between the two tables, allowing data to be retrieved from both tables in a single query."
   ]
  },
  {
   "cell_type": "markdown",
   "id": "513bc7a5-b02f-4779-9a63-11ed97965b92",
   "metadata": {},
   "source": [
    "Q6. Answer:-Here is an example Python code to connect MySQL to Python using the mysql-connector library:"
   ]
  },
  {
   "cell_type": "code",
   "execution_count": 3,
   "id": "b07da60b-8537-40e1-ad3a-271c1556c0e4",
   "metadata": {},
   "outputs": [
    {
     "ename": "ModuleNotFoundError",
     "evalue": "No module named 'mysql'",
     "output_type": "error",
     "traceback": [
      "\u001b[0;31m---------------------------------------------------------------------------\u001b[0m",
      "\u001b[0;31mModuleNotFoundError\u001b[0m                       Traceback (most recent call last)",
      "Cell \u001b[0;32mIn[3], line 1\u001b[0m\n\u001b[0;32m----> 1\u001b[0m \u001b[38;5;28;01mimport\u001b[39;00m \u001b[38;5;21;01mmysql\u001b[39;00m\u001b[38;5;21;01m.\u001b[39;00m\u001b[38;5;21;01mconnector\u001b[39;00m\n\u001b[1;32m      3\u001b[0m \u001b[38;5;66;03m# Establishing a connection to the MySQL database\u001b[39;00m\n\u001b[1;32m      4\u001b[0m mydb \u001b[38;5;241m=\u001b[39m mysql\u001b[38;5;241m.\u001b[39mconnector\u001b[38;5;241m.\u001b[39mconnect(\n\u001b[1;32m      5\u001b[0m   host\u001b[38;5;241m=\u001b[39m\u001b[38;5;124m\"\u001b[39m\u001b[38;5;124mlocalhost\u001b[39m\u001b[38;5;124m\"\u001b[39m,\n\u001b[1;32m      6\u001b[0m   user\u001b[38;5;241m=\u001b[39m\u001b[38;5;124m\"\u001b[39m\u001b[38;5;124myourusername\u001b[39m\u001b[38;5;124m\"\u001b[39m,\n\u001b[1;32m      7\u001b[0m   password\u001b[38;5;241m=\u001b[39m\u001b[38;5;124m\"\u001b[39m\u001b[38;5;124myourpassword\u001b[39m\u001b[38;5;124m\"\u001b[39m,\n\u001b[1;32m      8\u001b[0m   database\u001b[38;5;241m=\u001b[39m\u001b[38;5;124m\"\u001b[39m\u001b[38;5;124myourdatabase\u001b[39m\u001b[38;5;124m\"\u001b[39m\n\u001b[1;32m      9\u001b[0m )\n",
      "\u001b[0;31mModuleNotFoundError\u001b[0m: No module named 'mysql'"
     ]
    }
   ],
   "source": [
    "import mysql.connector\n",
    "\n",
    "# Establishing a connection to the MySQL database\n",
    "mydb = mysql.connector.connect(\n",
    "  host=\"localhost\",\n",
    "  user=\"yourusername\",\n",
    "  password=\"yourpassword\",\n",
    "  database=\"yourdatabase\"\n",
    ")\n",
    "mycursor = mydb.cursor()\n",
    "mycursor.execute(\"SELECT * FROM customers\")\n",
    "result = mycursor.fetchall()\n",
    "for row in result:\n",
    "  print(row)\n"
   ]
  },
  {
   "cell_type": "markdown",
   "id": "579a5e7d-c991-4118-9265-0bdad41876a5",
   "metadata": {},
   "source": [
    "Q7. Give the order of execution of SQL clauses in an SQL query."
   ]
  },
  {
   "cell_type": "markdown",
   "id": "9bad464e-0236-42f9-ad72-9cbc6652b068",
   "metadata": {},
   "source": [
    "Answer:-The order of execution of SQL clauses in a SQL query is as follows:\n",
    "\n",
    "SELECT\n",
    "FROM\n",
    "JOIN\n",
    "WHERE\n",
    "GROUP BY\n",
    "HAVING\n",
    "ORDER BY"
   ]
  },
  {
   "cell_type": "code",
   "execution_count": null,
   "id": "c486ab1d-cdd3-4f1e-acb7-23efa5fd7019",
   "metadata": {},
   "outputs": [],
   "source": []
  }
 ],
 "metadata": {
  "kernelspec": {
   "display_name": "Python 3 (ipykernel)",
   "language": "python",
   "name": "python3"
  },
  "language_info": {
   "codemirror_mode": {
    "name": "ipython",
    "version": 3
   },
   "file_extension": ".py",
   "mimetype": "text/x-python",
   "name": "python",
   "nbconvert_exporter": "python",
   "pygments_lexer": "ipython3",
   "version": "3.10.8"
  }
 },
 "nbformat": 4,
 "nbformat_minor": 5
}
