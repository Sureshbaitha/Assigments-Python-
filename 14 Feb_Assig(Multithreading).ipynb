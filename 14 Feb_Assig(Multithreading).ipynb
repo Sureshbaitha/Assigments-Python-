{
 "cells": [
  {
   "cell_type": "markdown",
   "id": "96036b3c-4483-4193-987c-1ca145e244de",
   "metadata": {},
   "source": [
    "(Q1). hat is multithreading in python? hy is it used? Name the module used to handle threads in python."
   ]
  },
  {
   "cell_type": "markdown",
   "id": "899209c4-1dba-4390-a0b6-9d4d6f796acf",
   "metadata": {},
   "source": [
    "Answer:-Multithreading in Python refers to the ability of a program to have multiple threads of execution running concurrently within the same process. It is used to achieve parallelism and improve the performance of a program by allowing it to perform multiple tasks at the same time. The threading module is used to handle threads in Python."
   ]
  },
  {
   "cell_type": "markdown",
   "id": "fe0f965c-d790-4c83-ba52-300b19a54479",
   "metadata": {},
   "source": [
    "(Q2).why threading module used? rite the use of the following functions\n",
    "activeCount()\n",
    "currentThread()\n",
    "enumerate()"
   ]
  },
  {
   "cell_type": "markdown",
   "id": "d7f0f073-be26-459b-a133-34fd4db62fe9",
   "metadata": {},
   "source": [
    "Answer:-activeCount: This function returns the number of thread objects that are active.\n",
    "currentThread: This function returns a reference to the current thread object.\n",
    "enumerate: This function returns a list of all thread objects that are currently active."
   ]
  },
  {
   "cell_type": "markdown",
   "id": "dbc8b1c9-a292-42af-954a-41adebbd6379",
   "metadata": {},
   "source": [
    "(Q3). Explain the following functions.\n",
    "( run\n",
    " start\n",
    " join\n",
    "' isAlive)"
   ]
  },
  {
   "cell_type": "markdown",
   "id": "b9e39178-853d-4650-96cc-b1cd7e6f980b",
   "metadata": {},
   "source": [
    "Answer:-run: This method is called when a thread is started and defines the behavior of the thread.\n",
    "start: This method starts a thread by calling its run method.\n",
    "join: This method waits for a thread to complete its execution.\n",
    "isAlive: This method returns a boolean value indicating whether the thread is currently executing."
   ]
  },
  {
   "cell_type": "markdown",
   "id": "9e45d806-60cd-49e7-9e0b-f588428f81a6",
   "metadata": {},
   "source": [
    "Q4. rite a python program to create two threads. Thread one must print the list of squares and thread\n",
    "two must print the list of cubes."
   ]
  },
  {
   "cell_type": "markdown",
   "id": "d95cd1ca-5bef-4b50-a046-54322956c3cf",
   "metadata": {},
   "source": [
    "Answer:-Here's an example program that creates two threads, one to print the list of squares and the other to print the list of cubes:"
   ]
  },
  {
   "cell_type": "code",
   "execution_count": 1,
   "id": "2a37da83-1055-47e0-baf5-00ec1e7652b8",
   "metadata": {},
   "outputs": [
    {
     "name": "stdout",
     "output_type": "stream",
     "text": [
      "0\n",
      "1\n",
      "4\n",
      "9\n",
      "16\n",
      "25\n",
      "36\n",
      "49\n",
      "64\n",
      "81\n",
      "0\n",
      "1\n",
      "8\n",
      "27\n",
      "64\n",
      "125\n",
      "216\n",
      "343\n",
      "512\n",
      "729\n"
     ]
    }
   ],
   "source": [
    "import threading\n",
    "\n",
    "def print_squares():\n",
    "    for i in range(10):\n",
    "        print(i ** 2)\n",
    "\n",
    "def print_cubes():\n",
    "    for i in range(10):\n",
    "        print(i ** 3)\n",
    "\n",
    "t1 = threading.Thread(target=print_squares)\n",
    "t2 = threading.Thread(target=print_cubes)\n",
    "\n",
    "t1.start()\n",
    "t2.start()\n",
    "\n",
    "t1.join()\n",
    "t2.join()\n"
   ]
  },
  {
   "cell_type": "markdown",
   "id": "5c220ac7-25db-489f-a364-e5cd930b03d6",
   "metadata": {},
   "source": [
    "Q5. State advantages and disadvantages of multithreading."
   ]
  },
  {
   "cell_type": "markdown",
   "id": "1d7de75f-aba0-4ac2-8f37-3e6715afeea3",
   "metadata": {},
   "source": [
    "Answer:-\n",
    "Advantages of multithreading:\n",
    "Improved performance and efficiency by allowing a program to execute multiple tasks simultaneously.\n",
    "Better utilization of resources, particularly in systems with multiple CPUs or cores.\n",
    "Enhanced responsiveness of the program, as user interfaces can remain interactive while background tasks are executed.\n",
    "Disadvantages of multithreading:\n",
    "\n",
    "Increased complexity and difficulty of programming due to the need to handle synchronization and coordination between threads.\n",
    "Increased likelihood of bugs and errors such as race conditions and deadlocks.\n",
    "Increased overhead and potential for decreased performance due to the overhead of creating and managing threads."
   ]
  },
  {
   "cell_type": "markdown",
   "id": "bdfe6b8f-c8d3-40cf-9afb-03d7a4558fef",
   "metadata": {},
   "source": [
    "6. Explain deadlocks and race conditions."
   ]
  },
  {
   "cell_type": "markdown",
   "id": "13a65d21-0dc8-446f-bce2-ee417bd74f15",
   "metadata": {},
   "source": [
    "Answer:-Deadlocks: A deadlock occurs when two or more threads are blocked waiting for each other to release a resource, resulting in a situation where none of the threads can proceed. Deadlocks can occur when there is a circular dependency between two or more resources, and multiple threads acquire these resources in different orders.\n",
    "\n",
    "Race conditions: A race condition occurs when the outcome of a program depends on the order or timing of events that are not guaranteed to occur in a specific order or at a specific time. This can result in unpredictable behavior and bugs. Race conditions can occur when multiple threads access and modify shared data without proper synchronization or coordination."
   ]
  },
  {
   "cell_type": "markdown",
   "id": "13fb12bd-6e39-426d-82b2-7c0084e00460",
   "metadata": {},
   "source": [
    "Thanks"
   ]
  },
  {
   "cell_type": "code",
   "execution_count": null,
   "id": "8484ad2c-7551-4119-b8d2-ce6149347d17",
   "metadata": {},
   "outputs": [],
   "source": []
  }
 ],
 "metadata": {
  "kernelspec": {
   "display_name": "Python 3 (ipykernel)",
   "language": "python",
   "name": "python3"
  },
  "language_info": {
   "codemirror_mode": {
    "name": "ipython",
    "version": 3
   },
   "file_extension": ".py",
   "mimetype": "text/x-python",
   "name": "python",
   "nbconvert_exporter": "python",
   "pygments_lexer": "ipython3",
   "version": "3.10.8"
  }
 },
 "nbformat": 4,
 "nbformat_minor": 5
}
