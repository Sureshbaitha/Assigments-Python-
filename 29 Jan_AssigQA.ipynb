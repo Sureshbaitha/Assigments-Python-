{
 "cells": [
  {
   "cell_type": "markdown",
   "id": "1f706463-2295-4e5f-97ce-c05e7915359a",
   "metadata": {},
   "source": [
    "1. Who developed Python Programming Language?"
   ]
  },
  {
   "cell_type": "code",
   "execution_count": 1,
   "id": "1b268b76-196f-46fe-a235-76e82c7e9ecf",
   "metadata": {},
   "outputs": [
    {
     "data": {
      "text/plain": [
       "'Answer:-Python programming language was developed by Guido van Rossum in the late 1980s while working at the National Research Institute for Mathematics and Computer Science in the Netherlands.'"
      ]
     },
     "execution_count": 1,
     "metadata": {},
     "output_type": "execute_result"
    }
   ],
   "source": [
    "\"\"\"Answer:-Python programming language was developed by Guido van Rossum in the late 1980s while working at the National Research Institute for Mathematics and Computer Science in the Netherlands.\"\"\""
   ]
  },
  {
   "cell_type": "markdown",
   "id": "2031e907-6607-4af5-9ff2-217c7c4e3d53",
   "metadata": {},
   "source": [
    "2. Which type of Programming does Python support?"
   ]
  },
  {
   "cell_type": "code",
   "execution_count": 2,
   "id": "3c9a859c-4c85-436f-919b-42a35eea3184",
   "metadata": {},
   "outputs": [
    {
     "data": {
      "text/plain": [
       "'Answer:-Python supports several programming paradigms, including procedural, object-oriented, and functional programming. It is a multi-paradigm language that can be used for a wide range of applications.'"
      ]
     },
     "execution_count": 2,
     "metadata": {},
     "output_type": "execute_result"
    }
   ],
   "source": [
    "\"\"\"Answer:-Python supports several programming paradigms, including procedural, object-oriented, and functional programming. It is a multi-paradigm language that can be used for a wide range of applications.\"\"\""
   ]
  },
  {
   "cell_type": "markdown",
   "id": "fc9033ae-75c6-4c17-bc9a-13715059e18a",
   "metadata": {},
   "source": [
    "3. Is Python case sensitive when dealing with identifiers?"
   ]
  },
  {
   "cell_type": "code",
   "execution_count": 4,
   "id": "90762a00-851c-4aba-bc28-9273dd9f9928",
   "metadata": {},
   "outputs": [
    {
     "data": {
      "text/plain": [
       "'Answer:-Yes, Python is case sensitive when dealing with identifiers. For example, a variable named \"hello\" is different from a variable named \"Hello.'"
      ]
     },
     "execution_count": 4,
     "metadata": {},
     "output_type": "execute_result"
    }
   ],
   "source": [
    "\"\"\"Answer:-Yes, Python is case sensitive when dealing with identifiers. For example, a variable named \"hello\" is different from a variable named \"Hello.\"\"\""
   ]
  },
  {
   "cell_type": "markdown",
   "id": "371d84e9-008b-4860-8051-1a5f35058a6d",
   "metadata": {},
   "source": [
    "4. What is the correct extension of the Python file?"
   ]
  },
  {
   "cell_type": "code",
   "execution_count": 5,
   "id": "99c592c3-a0f8-4501-bcaf-680fb9145bf4",
   "metadata": {},
   "outputs": [
    {
     "data": {
      "text/plain": [
       "'Answer:-The correct extension of a Python file is \".py\".'"
      ]
     },
     "execution_count": 5,
     "metadata": {},
     "output_type": "execute_result"
    }
   ],
   "source": [
    "\"\"\"Answer:-The correct extension of a Python file is \".py\".\"\"\""
   ]
  },
  {
   "cell_type": "markdown",
   "id": "b1b37e09-052c-4266-898d-befa6f9f50b7",
   "metadata": {},
   "source": [
    "5. Is Python code compiled or interpreted?"
   ]
  },
  {
   "cell_type": "code",
   "execution_count": 6,
   "id": "9dc41571-ab39-4e3c-b0de-91fd9f9e290a",
   "metadata": {},
   "outputs": [
    {
     "data": {
      "text/plain": [
       "'Answer:-Python code is interpreted, which means that the interpreter reads the code line by line and executes it immediately.'"
      ]
     },
     "execution_count": 6,
     "metadata": {},
     "output_type": "execute_result"
    }
   ],
   "source": [
    "\"\"\"Answer:-Python code is interpreted, which means that the interpreter reads the code line by line and executes it immediately.\"\"\""
   ]
  },
  {
   "cell_type": "markdown",
   "id": "a81ac92d-3cfe-42f6-bd84-19b50fe8646a",
   "metadata": {},
   "source": [
    "6. Name a few blocks of code used to define in Python language?"
   ]
  },
  {
   "cell_type": "code",
   "execution_count": 7,
   "id": "7ba7efd6-aba2-4aa9-b91a-a19881e43afe",
   "metadata": {},
   "outputs": [
    {
     "data": {
      "text/plain": [
       "'Answer:-The main blocks of code used to define in Python are functions, classes, and modules.\\n\\n'"
      ]
     },
     "execution_count": 7,
     "metadata": {},
     "output_type": "execute_result"
    }
   ],
   "source": [
    "\"\"\"Answer:-The main blocks of code used to define in Python are functions, classes, and modules.\n",
    "\n",
    "\"\"\""
   ]
  },
  {
   "cell_type": "markdown",
   "id": "aa12cb4e-739e-4417-a660-3c0eec3c724c",
   "metadata": {},
   "source": [
    "7. State a character used to give single-line comments in Python?"
   ]
  },
  {
   "cell_type": "code",
   "execution_count": 8,
   "id": "ee370176-b0d7-406d-8c4b-c8b13343aca2",
   "metadata": {},
   "outputs": [
    {
     "data": {
      "text/plain": [
       "'Answer:-The \"#\" character is used to give single-line comments in Python.'"
      ]
     },
     "execution_count": 8,
     "metadata": {},
     "output_type": "execute_result"
    }
   ],
   "source": [
    "\"\"\"Answer:-The \"#\" character is used to give single-line comments in Python.\"\"\""
   ]
  },
  {
   "cell_type": "markdown",
   "id": "5df8e459-8dd1-4d9e-a604-b0d532c56b8a",
   "metadata": {},
   "source": [
    "8. Mention functions which can help us to find the version of python that we are currently working on?"
   ]
  },
  {
   "cell_type": "code",
   "execution_count": 9,
   "id": "486a57b3-77e5-4ac4-b1be-aa4768589eb0",
   "metadata": {},
   "outputs": [
    {
     "data": {
      "text/plain": [
       "'Answer:-Two functions that can help us find the version of Python we are currently working on are \"sys.version\" and \"platform.python_version()\".'"
      ]
     },
     "execution_count": 9,
     "metadata": {},
     "output_type": "execute_result"
    }
   ],
   "source": [
    "\"\"\"Answer:-Two functions that can help us find the version of Python we are currently working on are \"sys.version\" and \"platform.python_version()\".\"\"\""
   ]
  },
  {
   "cell_type": "code",
   "execution_count": null,
   "id": "366064a6-f3a0-4741-b8ff-6bd2b873a14c",
   "metadata": {},
   "outputs": [],
   "source": [
    "9. Python supports the creation of anonymous functions at runtime, using a construct called?"
   ]
  },
  {
   "cell_type": "code",
   "execution_count": 10,
   "id": "31615cee-7730-4265-a127-7e4eef1b6e87",
   "metadata": {},
   "outputs": [
    {
     "data": {
      "text/plain": [
       "'Answer:-Python supports the creation of anonymous functions at runtime using a construct called \"lambda\".'"
      ]
     },
     "execution_count": 10,
     "metadata": {},
     "output_type": "execute_result"
    }
   ],
   "source": [
    "\"\"\"Answer:-Python supports the creation of anonymous functions at runtime using a construct called \"lambda\".\"\"\""
   ]
  },
  {
   "cell_type": "markdown",
   "id": "668e5261-2b8f-46ac-9aaa-be092288e253",
   "metadata": {},
   "source": [
    "10. What does pip stand for python?"
   ]
  },
  {
   "cell_type": "code",
   "execution_count": 11,
   "id": "a680e47e-d5cf-4052-9cd5-7ac2333da84d",
   "metadata": {},
   "outputs": [
    {
     "data": {
      "text/plain": [
       "'Answer:-Pip stands for \"Pip Installs Packages\". It is a package manager for Python that allows users to install, upgrade, and manage software packages written in Python.'"
      ]
     },
     "execution_count": 11,
     "metadata": {},
     "output_type": "execute_result"
    }
   ],
   "source": [
    "\"\"\"Answer:-Pip stands for \"Pip Installs Packages\". It is a package manager for Python that allows users to install, upgrade, and manage software packages written in Python.\"\"\""
   ]
  },
  {
   "cell_type": "markdown",
   "id": "d298813f-e770-4406-9096-821aa0ee23f9",
   "metadata": {},
   "source": [
    "11. Mention a few built-in functions in python?"
   ]
  },
  {
   "cell_type": "code",
   "execution_count": 12,
   "id": "c57ab2d3-0944-4854-9135-9f2281f14e16",
   "metadata": {},
   "outputs": [
    {
     "data": {
      "text/plain": [
       "'Answer:-Some of the built-in functions in Python are \"print()\", \"len()\", \"range()\", \"type()\", and \"input()\".'"
      ]
     },
     "execution_count": 12,
     "metadata": {},
     "output_type": "execute_result"
    }
   ],
   "source": [
    "\"\"\"Answer:-Some of the built-in functions in Python are \"print()\", \"len()\", \"range()\", \"type()\", and \"input()\".\"\"\""
   ]
  },
  {
   "cell_type": "markdown",
   "id": "fe545a70-77a9-4c36-8323-4238b8602446",
   "metadata": {},
   "source": [
    "12. What is the maximum possible length of an identifier in Python?"
   ]
  },
  {
   "cell_type": "code",
   "execution_count": 13,
   "id": "82dc785a-da4c-4326-b0a7-44bf3349e9cd",
   "metadata": {},
   "outputs": [
    {
     "data": {
      "text/plain": [
       "'Answer:-The maximum possible length of an identifier in Python is not defined. However, it is recommended to use descriptive but concise variable names.'"
      ]
     },
     "execution_count": 13,
     "metadata": {},
     "output_type": "execute_result"
    }
   ],
   "source": [
    "\"\"\"Answer:-The maximum possible length of an identifier in Python is not defined. However, it is recommended to use descriptive but concise variable names.\"\"\""
   ]
  },
  {
   "cell_type": "markdown",
   "id": "cd666355-c69d-46c3-91b5-9cfab63dc03b",
   "metadata": {},
   "source": [
    "13. What are the benefits of using Python?"
   ]
  },
  {
   "cell_type": "code",
   "execution_count": 14,
   "id": "7bf82045-9a3b-4a39-8146-fc4be6e0de3a",
   "metadata": {},
   "outputs": [
    {
     "data": {
      "text/plain": [
       "'Answer:-There are several benefits of using Python, including its ease of use and readability, its vast library of modules and tools, its wide adoption and community support, and its versatility for a wide range of applications, such as data analysis, machine learning, web development, and scientific computing.'"
      ]
     },
     "execution_count": 14,
     "metadata": {},
     "output_type": "execute_result"
    }
   ],
   "source": [
    "\"\"\"Answer:-There are several benefits of using Python, including its ease of use and readability, its vast library of modules and tools, its wide adoption and community support, and its versatility for a wide range of applications, such as data analysis, machine learning, web development, and scientific computing.\"\"\""
   ]
  },
  {
   "cell_type": "markdown",
   "id": "66c12a09-82ab-4bcc-9ff8-3b8fae5c73b2",
   "metadata": {},
   "source": [
    "14. How is memory managed in Python? 15. How to install Python on Windows and set path variables?"
   ]
  },
  {
   "cell_type": "code",
   "execution_count": 15,
   "id": "2dbd4572-724d-456f-afe8-329934bc0b2d",
   "metadata": {},
   "outputs": [
    {
     "data": {
      "text/plain": [
       "'Answer:-Memory management in Python is done automatically by the interpreter using a technique called garbage collection. It frees up memory that is no longer needed by the program.'"
      ]
     },
     "execution_count": 15,
     "metadata": {},
     "output_type": "execute_result"
    }
   ],
   "source": [
    "\"\"\"Answer:-Memory management in Python is done automatically by the interpreter using a technique called garbage collection. It frees up memory that is no longer needed by the program.\"\"\""
   ]
  },
  {
   "cell_type": "markdown",
   "id": "70796755-5bc5-44ba-8cef-4a41d7db2ede",
   "metadata": {},
   "source": [
    "15. How to install Python on Windows and set path variables?"
   ]
  },
  {
   "cell_type": "code",
   "execution_count": 16,
   "id": "7c6fe7d1-f3a0-43ab-a4fc-435e6e36317d",
   "metadata": {},
   "outputs": [
    {
     "data": {
      "text/plain": [
       "'Answer:-To install Python on Windows, you can download the installer from the official Python website and run it. During the installation, you can choose to add Python to the system PATH variable, which allows you to run Python scripts from the command prompt without specifying the full path.'"
      ]
     },
     "execution_count": 16,
     "metadata": {},
     "output_type": "execute_result"
    }
   ],
   "source": [
    "\"\"\"Answer:-To install Python on Windows, you can download the installer from the official Python website and run it. During the installation, you can choose to add Python to the system PATH variable, which allows you to run Python scripts from the command prompt without specifying the full path.\"\"\""
   ]
  },
  {
   "cell_type": "markdown",
   "id": "d0f73f73-bd18-4c27-8e82-d3535c4157fe",
   "metadata": {},
   "source": [
    "16. Is indentation required in python?"
   ]
  },
  {
   "cell_type": "code",
   "execution_count": null,
   "id": "7fbb1f81-fd84-42ee-ba30-15404d50b541",
   "metadata": {},
   "outputs": [],
   "source": []
  }
 ],
 "metadata": {
  "kernelspec": {
   "display_name": "Python 3 (ipykernel)",
   "language": "python",
   "name": "python3"
  },
  "language_info": {
   "codemirror_mode": {
    "name": "ipython",
    "version": 3
   },
   "file_extension": ".py",
   "mimetype": "text/x-python",
   "name": "python",
   "nbconvert_exporter": "python",
   "pygments_lexer": "ipython3",
   "version": "3.10.8"
  }
 },
 "nbformat": 4,
 "nbformat_minor": 5
}
