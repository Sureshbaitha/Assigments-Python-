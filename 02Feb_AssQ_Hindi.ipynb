{
 "cells": [
  {
   "cell_type": "markdown",
   "id": "77b2e1c2-e099-42ff-a7fd-5a9dfb39e68f",
   "metadata": {},
   "source": [
    "#Q1.  Explain with an example each when to use a for loop and a while loop."
   ]
  },
  {
   "cell_type": "code",
   "execution_count": 1,
   "id": "9c28e633-e63f-4479-8328-bfa745b65909",
   "metadata": {},
   "outputs": [
    {
     "data": {
      "text/plain": [
       "'Answer:-Yes, there is a huge difference between while and for.\\nThe for statement iterates through a collection or iterable object or generator function.\\nThe while statement simply loops until a condition is False.'"
      ]
     },
     "execution_count": 1,
     "metadata": {},
     "output_type": "execute_result"
    }
   ],
   "source": [
    "'''Answer:-Yes, there is a huge difference between while and for.\n",
    "The for statement iterates through a collection or iterable object or generator function.\n",
    "The while statement simply loops until a condition is False.'''"
   ]
  },
  {
   "cell_type": "code",
   "execution_count": 3,
   "id": "659266e2-994b-4ffe-8534-516d0fed4351",
   "metadata": {},
   "outputs": [
    {
     "name": "stdout",
     "output_type": "stream",
     "text": [
      "0\n",
      "1\n",
      "2\n",
      "3\n",
      "4\n",
      "5\n",
      "6\n",
      "7\n",
      "8\n",
      "9\n",
      "10\n"
     ]
    }
   ],
   "source": [
    "#Example of for loop.\n",
    "'''The for is the more pythonic choice for iterating a list since it is simpler and easier to read.'''\n",
    "for i in range(11):\n",
    "    print(i)"
   ]
  },
  {
   "cell_type": "code",
   "execution_count": 5,
   "id": "848ee96f-6b0b-4667-824d-a86e3b84402f",
   "metadata": {},
   "outputs": [
    {
     "name": "stdout",
     "output_type": "stream",
     "text": [
      "0\n",
      "1\n",
      "2\n",
      "3\n",
      "4\n",
      "5\n",
      "6\n",
      "7\n",
      "8\n",
      "9\n",
      "10\n"
     ]
    }
   ],
   "source": [
    "#Example of while loop.\n",
    "i = 0\n",
    "while i <= 10:\n",
    "    print (i)\n",
    "    i = i + 1"
   ]
  },
  {
   "cell_type": "markdown",
   "id": "2ff14bd2-6092-456a-8429-5ce0f6267341",
   "metadata": {},
   "source": [
    "#Q.2 Write a python program to print the sum and product of the first 10 natural numbers using for and while loop."
   ]
  },
  {
   "cell_type": "code",
   "execution_count": 34,
   "id": "e74ac9f0-cb61-4962-956d-54df45055da5",
   "metadata": {},
   "outputs": [
    {
     "data": {
      "text/plain": [
       "55"
      ]
     },
     "execution_count": 34,
     "metadata": {},
     "output_type": "execute_result"
    }
   ],
   "source": [
    "#Example:-The sum and product of the first 10 natural numbers using for loop\n",
    "\"\"\"sum of 10 natural numbers\"\"\"\n",
    "t={1,2,3,4,5,6,7,8,9,10}\n",
    "result = 0\n",
    "for i in t :\n",
    "    result = result+ i \n",
    "result\n",
    "\n",
    "      "
   ]
  },
  {
   "cell_type": "code",
   "execution_count": 36,
   "id": "c70f6382-409e-4c60-9a95-7aa762cf2686",
   "metadata": {},
   "outputs": [
    {
     "data": {
      "text/plain": [
       "3628800"
      ]
     },
     "execution_count": 36,
     "metadata": {},
     "output_type": "execute_result"
    }
   ],
   "source": [
    "\"\"\"Product of 10 natural numbers\"\"\"\n",
    "s={1,2,3,4,5,6,7,8,9,10}\n",
    "result = 1\n",
    "for i in s :\n",
    "    result = result*i \n",
    "result"
   ]
  },
  {
   "cell_type": "code",
   "execution_count": 20,
   "id": "1c25c6a9-fa63-4be8-bc0a-16ec2fd35621",
   "metadata": {},
   "outputs": [
    {
     "name": "stdout",
     "output_type": "stream",
     "text": [
      "Enter the Value of n: \n"
     ]
    },
    {
     "name": "stdin",
     "output_type": "stream",
     "text": [
      " 10\n"
     ]
    },
    {
     "name": "stdout",
     "output_type": "stream",
     "text": [
      "\n",
      "Sum = 55\n"
     ]
    }
   ],
   "source": [
    "#Example:-The sum and product of the first 10 natural numbers using while loop\n",
    "\"\"\"----Sum of 10 natural numbers using while ---\"\"\"\n",
    "print(\"Enter the Value of n: \")\n",
    "n = int(input())\n",
    "\n",
    "sum = 0\n",
    "i = 1\n",
    "while i<=n:\n",
    "  sum = sum+i\n",
    "  i = i+1\n",
    "\n",
    "print(\"\\nSum =\", sum)"
   ]
  },
  {
   "cell_type": "code",
   "execution_count": 21,
   "id": "fbce1c41-4a8c-4d28-9d37-9c4f9ffe9bac",
   "metadata": {},
   "outputs": [
    {
     "name": "stdout",
     "output_type": "stream",
     "text": [
      "Enter the Value of n: \n"
     ]
    },
    {
     "name": "stdin",
     "output_type": "stream",
     "text": [
      " 10\n"
     ]
    },
    {
     "name": "stdout",
     "output_type": "stream",
     "text": [
      "\n",
      "Product = 3628800\n"
     ]
    }
   ],
   "source": [
    "\"\"\"Product of 10th natural numbers using while loop\"\"\"\n",
    "print(\"Enter the Value of n: \")\n",
    "n = int(input())\n",
    "\n",
    "product= 1\n",
    "i = 1\n",
    "while i<=n:\n",
    "  product= product*i\n",
    "  i = i+1\n",
    "\n",
    "print(\"\\nProduct =\", product)"
   ]
  },
  {
   "cell_type": "markdown",
   "id": "3f8764e9-a709-4ed2-9719-793fe1ed56a1",
   "metadata": {},
   "source": [
    "# (Q.3) Create a python program to compute the electricity bill for a household."
   ]
  },
  {
   "cell_type": "code",
   "execution_count": 1,
   "id": "a3200dc3-89a0-4a97-871a-0615a5d61a98",
   "metadata": {},
   "outputs": [
    {
     "data": {
      "text/plain": [
       "'This program can explain as follows\\nIf unit consumed < 100 then cost per unit is Rs 4.5\\nIf unit consumed >= 100 and < 300 then cost per unit is Rs 5.5\\nIf unit consumed >= 300 and < 500 then cost per unit is Rs 7.5\\nIf unit consumed >= 500 then the cost per unit is Rs 10.0\\nLine rent is Rs 2.5 per unit.\\nAdditional fixed Meter rent is Rs 50.\\nThe tax on the bill is 16 percent which can be taken as 0.5.'"
      ]
     },
     "execution_count": 1,
     "metadata": {},
     "output_type": "execute_result"
    }
   ],
   "source": [
    "\"\"\"This program can explain as follows\n",
    "If unit consumed < 100 then cost per unit is Rs 4.5\n",
    "If unit consumed >= 100 and < 300 then cost per unit is Rs 5.5\n",
    "If unit consumed >= 300 and < 500 then cost per unit is Rs 7.5\n",
    "If unit consumed >= 500 then the cost per unit is Rs 10.0\n",
    "Line rent is Rs 2.5 per unit.\n",
    "Additional fixed Meter rent is Rs 50.\n",
    "The tax on the bill is 16 percent which can be taken as 0.5.\"\"\""
   ]
  },
  {
   "cell_type": "code",
   "execution_count": 2,
   "id": "74950268-e0d6-47ec-b84c-05f829bdd20b",
   "metadata": {},
   "outputs": [
    {
     "name": "stdin",
     "output_type": "stream",
     "text": [
      "Enter your unit:  106\n"
     ]
    },
    {
     "name": "stdout",
     "output_type": "stream",
     "text": [
      "Bill Per Unit: 379.0\n",
      "Bill after adding Line rent: 644.0\n",
      "Bill after adding Meter rent: 744.0\n",
      "Total Bill after adding tax: 1116.0\n"
     ]
    }
   ],
   "source": [
    "#code\n",
    "unit = int(input(\"Enter your unit: \"))\n",
    "if unit < 100:\n",
    "    bill = unit * 4.5\n",
    "    \n",
    "elif unit >= 100 and unit < 300:\n",
    "    bill = 346 + ((unit - 100) * 5.5)\n",
    "    \n",
    "elif unit >= 300 and unit < 500:\n",
    "    bill = 346 + 1486 + ((unit - 300) * 7.5)\n",
    "    \n",
    "else:\n",
    "    bill = 346 + 1486 + 2064 + ((unit - 500) * 10.0)\n",
    "    \n",
    "print(\"Bill Per Unit:\", bill)\n",
    "bill = bill + (unit*2.5)\n",
    "\n",
    "print(\"Bill after adding Line rent:\", bill)\n",
    "bill = bill + 100\n",
    "\n",
    "print(\"Bill after adding Meter rent:\", bill)\n",
    "bill = bill + (bill*0.5)\n",
    "\n",
    "print(\"Total Bill after adding tax:\", bill)"
   ]
  },
  {
   "cell_type": "markdown",
   "id": "c06a86e4-01ec-46a6-91f1-df2aba49a646",
   "metadata": {},
   "source": [
    "#Q4.Create a list of numbers from 1 to 100. Use for loop and while loop to calculate the cube of each \n",
    "number and if the cube of that number is divisible by 4 or 5 then append that number in a list and print \n",
    "that list."
   ]
  },
  {
   "cell_type": "code",
   "execution_count": 3,
   "id": "00b29755-17de-481e-9c4b-023f17eafbd3",
   "metadata": {},
   "outputs": [
    {
     "name": "stdout",
     "output_type": "stream",
     "text": [
      "Numbers from 1 to 100:\n",
      "1 2 3 4 5 6 7 8 9 10 11 12 13 14 15 16 17 18 19 20 21 22 23 24 25 26 27 28 29 30 31 32 33 34 35 36 37 38 39 40 41 42 43 44 45 46 47 48 49 50 51 52 53 54 55 56 57 58 59 60 61 62 63 64 65 66 67 68 69 70 71 72 73 74 75 76 77 78 79 80 81 82 83 84 85 86 87 88 89 90 91 92 93 94 95 96 97 98 99 100 "
     ]
    }
   ],
   "source": [
    "# Python program to print numbers from 1 to 100 using for loop.\n",
    "\n",
    "print('Numbers from 1 to 100:')\n",
    "for n in range(1, 101):\n",
    "    print(n, end=' ')"
   ]
  },
  {
   "cell_type": "code",
   "execution_count": 8,
   "id": "ce45a1b2-e83e-47b3-bd5f-1c3b7bd567fa",
   "metadata": {},
   "outputs": [
    {
     "name": "stdin",
     "output_type": "stream",
     "text": [
      "enter upto which number you want to print cube\t 100\n"
     ]
    },
    {
     "name": "stdout",
     "output_type": "stream",
     "text": [
      "cube of 1 is ===>   1.000000\n",
      "cube of 2 is ===>   8.000000\n",
      "cube of 3 is ===>   27.000000\n",
      "cube of 4 is ===>   64.000000\n",
      "cube of 5 is ===>   125.000000\n",
      "cube of 6 is ===>   216.000000\n",
      "cube of 7 is ===>   343.000000\n",
      "cube of 8 is ===>   512.000000\n",
      "cube of 9 is ===>   729.000000\n",
      "cube of 10 is ===>   1000.000000\n",
      "cube of 11 is ===>   1331.000000\n",
      "cube of 12 is ===>   1728.000000\n",
      "cube of 13 is ===>   2197.000000\n",
      "cube of 14 is ===>   2744.000000\n",
      "cube of 15 is ===>   3375.000000\n",
      "cube of 16 is ===>   4096.000000\n",
      "cube of 17 is ===>   4913.000000\n",
      "cube of 18 is ===>   5832.000000\n",
      "cube of 19 is ===>   6859.000000\n",
      "cube of 20 is ===>   8000.000000\n",
      "cube of 21 is ===>   9261.000000\n",
      "cube of 22 is ===>   10648.000000\n",
      "cube of 23 is ===>   12167.000000\n",
      "cube of 24 is ===>   13824.000000\n",
      "cube of 25 is ===>   15625.000000\n",
      "cube of 26 is ===>   17576.000000\n",
      "cube of 27 is ===>   19683.000000\n",
      "cube of 28 is ===>   21952.000000\n",
      "cube of 29 is ===>   24389.000000\n",
      "cube of 30 is ===>   27000.000000\n",
      "cube of 31 is ===>   29791.000000\n",
      "cube of 32 is ===>   32768.000000\n",
      "cube of 33 is ===>   35937.000000\n",
      "cube of 34 is ===>   39304.000000\n",
      "cube of 35 is ===>   42875.000000\n",
      "cube of 36 is ===>   46656.000000\n",
      "cube of 37 is ===>   50653.000000\n",
      "cube of 38 is ===>   54872.000000\n",
      "cube of 39 is ===>   59319.000000\n",
      "cube of 40 is ===>   64000.000000\n",
      "cube of 41 is ===>   68921.000000\n",
      "cube of 42 is ===>   74088.000000\n",
      "cube of 43 is ===>   79507.000000\n",
      "cube of 44 is ===>   85184.000000\n",
      "cube of 45 is ===>   91125.000000\n",
      "cube of 46 is ===>   97336.000000\n",
      "cube of 47 is ===>   103823.000000\n",
      "cube of 48 is ===>   110592.000000\n",
      "cube of 49 is ===>   117649.000000\n",
      "cube of 50 is ===>   125000.000000\n",
      "cube of 51 is ===>   132651.000000\n",
      "cube of 52 is ===>   140608.000000\n",
      "cube of 53 is ===>   148877.000000\n",
      "cube of 54 is ===>   157464.000000\n",
      "cube of 55 is ===>   166375.000000\n",
      "cube of 56 is ===>   175616.000000\n",
      "cube of 57 is ===>   185193.000000\n",
      "cube of 58 is ===>   195112.000000\n",
      "cube of 59 is ===>   205379.000000\n",
      "cube of 60 is ===>   216000.000000\n",
      "cube of 61 is ===>   226981.000000\n",
      "cube of 62 is ===>   238328.000000\n",
      "cube of 63 is ===>   250047.000000\n",
      "cube of 64 is ===>   262144.000000\n",
      "cube of 65 is ===>   274625.000000\n",
      "cube of 66 is ===>   287496.000000\n",
      "cube of 67 is ===>   300763.000000\n",
      "cube of 68 is ===>   314432.000000\n",
      "cube of 69 is ===>   328509.000000\n",
      "cube of 70 is ===>   343000.000000\n",
      "cube of 71 is ===>   357911.000000\n",
      "cube of 72 is ===>   373248.000000\n",
      "cube of 73 is ===>   389017.000000\n",
      "cube of 74 is ===>   405224.000000\n",
      "cube of 75 is ===>   421875.000000\n",
      "cube of 76 is ===>   438976.000000\n",
      "cube of 77 is ===>   456533.000000\n",
      "cube of 78 is ===>   474552.000000\n",
      "cube of 79 is ===>   493039.000000\n",
      "cube of 80 is ===>   512000.000000\n",
      "cube of 81 is ===>   531441.000000\n",
      "cube of 82 is ===>   551368.000000\n",
      "cube of 83 is ===>   571787.000000\n",
      "cube of 84 is ===>   592704.000000\n",
      "cube of 85 is ===>   614125.000000\n",
      "cube of 86 is ===>   636056.000000\n",
      "cube of 87 is ===>   658503.000000\n",
      "cube of 88 is ===>   681472.000000\n",
      "cube of 89 is ===>   704969.000000\n",
      "cube of 90 is ===>   729000.000000\n",
      "cube of 91 is ===>   753571.000000\n",
      "cube of 92 is ===>   778688.000000\n",
      "cube of 93 is ===>   804357.000000\n",
      "cube of 94 is ===>   830584.000000\n",
      "cube of 95 is ===>   857375.000000\n",
      "cube of 96 is ===>   884736.000000\n",
      "cube of 97 is ===>   912673.000000\n",
      "cube of 98 is ===>   941192.000000\n",
      "cube of 99 is ===>   970299.000000\n",
      "cube of 100 is ===>   1000000.000000\n"
     ]
    }
   ],
   "source": [
    "#Program to find cube of numbers using for loop\n",
    "#taking input from user till how many numbers user want to print cube\n",
    "rangeNo=int(input(\"enter upto which number you want to print cube\\t\"))\n",
    "\n",
    "j = 1;\n",
    "for i in range(j,rangeNo+1):\n",
    "    cubeNo = 0\n",
    "    cubeNo = i * i * i\n",
    "    print(\"cube of %d is ===>   %f\"  %(i,cubeNo))"
   ]
  },
  {
   "cell_type": "code",
   "execution_count": 12,
   "id": "70771f30-589e-4daf-ab63-dea341da7f6d",
   "metadata": {},
   "outputs": [
    {
     "name": "stdin",
     "output_type": "stream",
     "text": [
      "enter upto which number you want to print cube\t 100\n"
     ]
    },
    {
     "name": "stdout",
     "output_type": "stream",
     "text": [
      "cube of 1 is ===>   1.000000\n",
      "cube of 2 is ===>   8.000000\n",
      "cube of 3 is ===>   27.000000\n",
      "cube of 4 is ===>   64.000000\n",
      "cube of 5 is ===>   125.000000\n",
      "cube of 6 is ===>   216.000000\n",
      "cube of 7 is ===>   343.000000\n",
      "cube of 8 is ===>   512.000000\n",
      "cube of 9 is ===>   729.000000\n",
      "cube of 10 is ===>   1000.000000\n",
      "cube of 11 is ===>   1331.000000\n",
      "cube of 12 is ===>   1728.000000\n",
      "cube of 13 is ===>   2197.000000\n",
      "cube of 14 is ===>   2744.000000\n",
      "cube of 15 is ===>   3375.000000\n",
      "cube of 16 is ===>   4096.000000\n",
      "cube of 17 is ===>   4913.000000\n",
      "cube of 18 is ===>   5832.000000\n",
      "cube of 19 is ===>   6859.000000\n",
      "cube of 20 is ===>   8000.000000\n",
      "cube of 21 is ===>   9261.000000\n",
      "cube of 22 is ===>   10648.000000\n",
      "cube of 23 is ===>   12167.000000\n",
      "cube of 24 is ===>   13824.000000\n",
      "cube of 25 is ===>   15625.000000\n",
      "cube of 26 is ===>   17576.000000\n",
      "cube of 27 is ===>   19683.000000\n",
      "cube of 28 is ===>   21952.000000\n",
      "cube of 29 is ===>   24389.000000\n",
      "cube of 30 is ===>   27000.000000\n",
      "cube of 31 is ===>   29791.000000\n",
      "cube of 32 is ===>   32768.000000\n",
      "cube of 33 is ===>   35937.000000\n",
      "cube of 34 is ===>   39304.000000\n",
      "cube of 35 is ===>   42875.000000\n",
      "cube of 36 is ===>   46656.000000\n",
      "cube of 37 is ===>   50653.000000\n",
      "cube of 38 is ===>   54872.000000\n",
      "cube of 39 is ===>   59319.000000\n",
      "cube of 40 is ===>   64000.000000\n",
      "cube of 41 is ===>   68921.000000\n",
      "cube of 42 is ===>   74088.000000\n",
      "cube of 43 is ===>   79507.000000\n",
      "cube of 44 is ===>   85184.000000\n",
      "cube of 45 is ===>   91125.000000\n",
      "cube of 46 is ===>   97336.000000\n",
      "cube of 47 is ===>   103823.000000\n",
      "cube of 48 is ===>   110592.000000\n",
      "cube of 49 is ===>   117649.000000\n",
      "cube of 50 is ===>   125000.000000\n",
      "cube of 51 is ===>   132651.000000\n",
      "cube of 52 is ===>   140608.000000\n",
      "cube of 53 is ===>   148877.000000\n",
      "cube of 54 is ===>   157464.000000\n",
      "cube of 55 is ===>   166375.000000\n",
      "cube of 56 is ===>   175616.000000\n",
      "cube of 57 is ===>   185193.000000\n",
      "cube of 58 is ===>   195112.000000\n",
      "cube of 59 is ===>   205379.000000\n",
      "cube of 60 is ===>   216000.000000\n",
      "cube of 61 is ===>   226981.000000\n",
      "cube of 62 is ===>   238328.000000\n",
      "cube of 63 is ===>   250047.000000\n",
      "cube of 64 is ===>   262144.000000\n",
      "cube of 65 is ===>   274625.000000\n",
      "cube of 66 is ===>   287496.000000\n",
      "cube of 67 is ===>   300763.000000\n",
      "cube of 68 is ===>   314432.000000\n",
      "cube of 69 is ===>   328509.000000\n",
      "cube of 70 is ===>   343000.000000\n",
      "cube of 71 is ===>   357911.000000\n",
      "cube of 72 is ===>   373248.000000\n",
      "cube of 73 is ===>   389017.000000\n",
      "cube of 74 is ===>   405224.000000\n",
      "cube of 75 is ===>   421875.000000\n",
      "cube of 76 is ===>   438976.000000\n",
      "cube of 77 is ===>   456533.000000\n",
      "cube of 78 is ===>   474552.000000\n",
      "cube of 79 is ===>   493039.000000\n",
      "cube of 80 is ===>   512000.000000\n",
      "cube of 81 is ===>   531441.000000\n",
      "cube of 82 is ===>   551368.000000\n",
      "cube of 83 is ===>   571787.000000\n",
      "cube of 84 is ===>   592704.000000\n",
      "cube of 85 is ===>   614125.000000\n",
      "cube of 86 is ===>   636056.000000\n",
      "cube of 87 is ===>   658503.000000\n",
      "cube of 88 is ===>   681472.000000\n",
      "cube of 89 is ===>   704969.000000\n",
      "cube of 90 is ===>   729000.000000\n",
      "cube of 91 is ===>   753571.000000\n",
      "cube of 92 is ===>   778688.000000\n",
      "cube of 93 is ===>   804357.000000\n",
      "cube of 94 is ===>   830584.000000\n",
      "cube of 95 is ===>   857375.000000\n",
      "cube of 96 is ===>   884736.000000\n",
      "cube of 97 is ===>   912673.000000\n",
      "cube of 98 is ===>   941192.000000\n",
      "cube of 99 is ===>   970299.000000\n",
      "cube of 100 is ===>   1000000.000000\n"
     ]
    }
   ],
   "source": [
    "#Program to find cube of numbers using while loop.\n",
    "#taking input from user till how many numbers user want to print cube\n",
    "rangeNo=int(input(\"enter upto which number you want to print cube\\t\"))\n",
    "\n",
    "i = 1;\n",
    "while i <= rangeNo:\n",
    "    cubeNo = 0\n",
    "    cubeNo = i * i * i\n",
    "    print(\"cube of %d is ===>   %f\"  %(i,cubeNo))\n",
    "    i=i+1"
   ]
  },
  {
   "cell_type": "markdown",
   "id": "2bbc1d02-ab8d-4b2b-a994-2adf3cc2e3a7",
   "metadata": {},
   "source": [
    "#Q5.Write a program to filter count vowels in the below-given string.\n",
    "string = \"I want to become a data scientist\"."
   ]
  },
  {
   "cell_type": "code",
   "execution_count": 17,
   "id": "bf796807-a100-406c-b0e4-8c5092c26e7f",
   "metadata": {},
   "outputs": [
    {
     "name": "stdout",
     "output_type": "stream",
     "text": [
      "12\n",
      "['I', 'a', 'o', 'e', 'o', 'e', 'a', 'a', 'a', 'i', 'e', 'i']\n"
     ]
    }
   ],
   "source": [
    "def Check_Vow(string, vowels):\n",
    "    final = [each for each in string if each in vowels]\n",
    "    print(len(final))\n",
    "    print(final)\n",
    "     \n",
    "# Driver Code\n",
    "string = \"I want to become a data scientist\"\n",
    "vowels = \"AaEeIiOoUu\"\n",
    "Check_Vow(string, vowels);"
   ]
  },
  {
   "cell_type": "code",
   "execution_count": null,
   "id": "74574b5c-4326-410d-aca2-16130983b85d",
   "metadata": {},
   "outputs": [],
   "source": []
  }
 ],
 "metadata": {
  "kernelspec": {
   "display_name": "Python 3 (ipykernel)",
   "language": "python",
   "name": "python3"
  },
  "language_info": {
   "codemirror_mode": {
    "name": "ipython",
    "version": 3
   },
   "file_extension": ".py",
   "mimetype": "text/x-python",
   "name": "python",
   "nbconvert_exporter": "python",
   "pygments_lexer": "ipython3",
   "version": "3.10.8"
  }
 },
 "nbformat": 4,
 "nbformat_minor": 5
}
